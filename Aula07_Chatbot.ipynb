{
  "nbformat": 4,
  "nbformat_minor": 0,
  "metadata": {
    "colab": {
      "provenance": [],
      "authorship_tag": "ABX9TyNvI0PacqT3R+6BUwdnErYK",
      "include_colab_link": true
    },
    "kernelspec": {
      "name": "python3",
      "display_name": "Python 3"
    },
    "language_info": {
      "name": "python"
    },
    "widgets": {
      "application/vnd.jupyter.widget-state+json": {
        "ad9ac4227d0a4b3d8dfa00bd86b11113": {
          "model_module": "@jupyter-widgets/controls",
          "model_name": "HBoxModel",
          "model_module_version": "1.5.0",
          "state": {
            "_dom_classes": [],
            "_model_module": "@jupyter-widgets/controls",
            "_model_module_version": "1.5.0",
            "_model_name": "HBoxModel",
            "_view_count": null,
            "_view_module": "@jupyter-widgets/controls",
            "_view_module_version": "1.5.0",
            "_view_name": "HBoxView",
            "box_style": "",
            "children": [
              "IPY_MODEL_7cb88fa7b72243fe9ce69c72558ae569",
              "IPY_MODEL_8c42142784a6434c84ca2b69a350c1c2",
              "IPY_MODEL_38d1b76377af41ff8a156a779a316e5a"
            ],
            "layout": "IPY_MODEL_57ff11edec8e497babec103867825599"
          }
        },
        "7cb88fa7b72243fe9ce69c72558ae569": {
          "model_module": "@jupyter-widgets/controls",
          "model_name": "HTMLModel",
          "model_module_version": "1.5.0",
          "state": {
            "_dom_classes": [],
            "_model_module": "@jupyter-widgets/controls",
            "_model_module_version": "1.5.0",
            "_model_name": "HTMLModel",
            "_view_count": null,
            "_view_module": "@jupyter-widgets/controls",
            "_view_module_version": "1.5.0",
            "_view_name": "HTMLView",
            "description": "",
            "description_tooltip": null,
            "layout": "IPY_MODEL_3b6749289fd942028ae5644a505f0016",
            "placeholder": "​",
            "style": "IPY_MODEL_d7e61a6e3cdd4f10aeab51897d3ee2e9",
            "value": "Parsing nodes: 100%"
          }
        },
        "8c42142784a6434c84ca2b69a350c1c2": {
          "model_module": "@jupyter-widgets/controls",
          "model_name": "FloatProgressModel",
          "model_module_version": "1.5.0",
          "state": {
            "_dom_classes": [],
            "_model_module": "@jupyter-widgets/controls",
            "_model_module_version": "1.5.0",
            "_model_name": "FloatProgressModel",
            "_view_count": null,
            "_view_module": "@jupyter-widgets/controls",
            "_view_module_version": "1.5.0",
            "_view_name": "ProgressView",
            "bar_style": "success",
            "description": "",
            "description_tooltip": null,
            "layout": "IPY_MODEL_04f20c8d567f4468ba996dc0ccb69930",
            "max": 3,
            "min": 0,
            "orientation": "horizontal",
            "style": "IPY_MODEL_d5d65c4a300e45538c73f3d751d70d66",
            "value": 3
          }
        },
        "38d1b76377af41ff8a156a779a316e5a": {
          "model_module": "@jupyter-widgets/controls",
          "model_name": "HTMLModel",
          "model_module_version": "1.5.0",
          "state": {
            "_dom_classes": [],
            "_model_module": "@jupyter-widgets/controls",
            "_model_module_version": "1.5.0",
            "_model_name": "HTMLModel",
            "_view_count": null,
            "_view_module": "@jupyter-widgets/controls",
            "_view_module_version": "1.5.0",
            "_view_name": "HTMLView",
            "description": "",
            "description_tooltip": null,
            "layout": "IPY_MODEL_cf55f6025018498d82d1f36833fc1e62",
            "placeholder": "​",
            "style": "IPY_MODEL_349c372badbf4f92baec8a2f98c86bcf",
            "value": " 3/3 [00:00&lt;00:00, 71.09it/s]"
          }
        },
        "57ff11edec8e497babec103867825599": {
          "model_module": "@jupyter-widgets/base",
          "model_name": "LayoutModel",
          "model_module_version": "1.2.0",
          "state": {
            "_model_module": "@jupyter-widgets/base",
            "_model_module_version": "1.2.0",
            "_model_name": "LayoutModel",
            "_view_count": null,
            "_view_module": "@jupyter-widgets/base",
            "_view_module_version": "1.2.0",
            "_view_name": "LayoutView",
            "align_content": null,
            "align_items": null,
            "align_self": null,
            "border": null,
            "bottom": null,
            "display": null,
            "flex": null,
            "flex_flow": null,
            "grid_area": null,
            "grid_auto_columns": null,
            "grid_auto_flow": null,
            "grid_auto_rows": null,
            "grid_column": null,
            "grid_gap": null,
            "grid_row": null,
            "grid_template_areas": null,
            "grid_template_columns": null,
            "grid_template_rows": null,
            "height": null,
            "justify_content": null,
            "justify_items": null,
            "left": null,
            "margin": null,
            "max_height": null,
            "max_width": null,
            "min_height": null,
            "min_width": null,
            "object_fit": null,
            "object_position": null,
            "order": null,
            "overflow": null,
            "overflow_x": null,
            "overflow_y": null,
            "padding": null,
            "right": null,
            "top": null,
            "visibility": null,
            "width": null
          }
        },
        "3b6749289fd942028ae5644a505f0016": {
          "model_module": "@jupyter-widgets/base",
          "model_name": "LayoutModel",
          "model_module_version": "1.2.0",
          "state": {
            "_model_module": "@jupyter-widgets/base",
            "_model_module_version": "1.2.0",
            "_model_name": "LayoutModel",
            "_view_count": null,
            "_view_module": "@jupyter-widgets/base",
            "_view_module_version": "1.2.0",
            "_view_name": "LayoutView",
            "align_content": null,
            "align_items": null,
            "align_self": null,
            "border": null,
            "bottom": null,
            "display": null,
            "flex": null,
            "flex_flow": null,
            "grid_area": null,
            "grid_auto_columns": null,
            "grid_auto_flow": null,
            "grid_auto_rows": null,
            "grid_column": null,
            "grid_gap": null,
            "grid_row": null,
            "grid_template_areas": null,
            "grid_template_columns": null,
            "grid_template_rows": null,
            "height": null,
            "justify_content": null,
            "justify_items": null,
            "left": null,
            "margin": null,
            "max_height": null,
            "max_width": null,
            "min_height": null,
            "min_width": null,
            "object_fit": null,
            "object_position": null,
            "order": null,
            "overflow": null,
            "overflow_x": null,
            "overflow_y": null,
            "padding": null,
            "right": null,
            "top": null,
            "visibility": null,
            "width": null
          }
        },
        "d7e61a6e3cdd4f10aeab51897d3ee2e9": {
          "model_module": "@jupyter-widgets/controls",
          "model_name": "DescriptionStyleModel",
          "model_module_version": "1.5.0",
          "state": {
            "_model_module": "@jupyter-widgets/controls",
            "_model_module_version": "1.5.0",
            "_model_name": "DescriptionStyleModel",
            "_view_count": null,
            "_view_module": "@jupyter-widgets/base",
            "_view_module_version": "1.2.0",
            "_view_name": "StyleView",
            "description_width": ""
          }
        },
        "04f20c8d567f4468ba996dc0ccb69930": {
          "model_module": "@jupyter-widgets/base",
          "model_name": "LayoutModel",
          "model_module_version": "1.2.0",
          "state": {
            "_model_module": "@jupyter-widgets/base",
            "_model_module_version": "1.2.0",
            "_model_name": "LayoutModel",
            "_view_count": null,
            "_view_module": "@jupyter-widgets/base",
            "_view_module_version": "1.2.0",
            "_view_name": "LayoutView",
            "align_content": null,
            "align_items": null,
            "align_self": null,
            "border": null,
            "bottom": null,
            "display": null,
            "flex": null,
            "flex_flow": null,
            "grid_area": null,
            "grid_auto_columns": null,
            "grid_auto_flow": null,
            "grid_auto_rows": null,
            "grid_column": null,
            "grid_gap": null,
            "grid_row": null,
            "grid_template_areas": null,
            "grid_template_columns": null,
            "grid_template_rows": null,
            "height": null,
            "justify_content": null,
            "justify_items": null,
            "left": null,
            "margin": null,
            "max_height": null,
            "max_width": null,
            "min_height": null,
            "min_width": null,
            "object_fit": null,
            "object_position": null,
            "order": null,
            "overflow": null,
            "overflow_x": null,
            "overflow_y": null,
            "padding": null,
            "right": null,
            "top": null,
            "visibility": null,
            "width": null
          }
        },
        "d5d65c4a300e45538c73f3d751d70d66": {
          "model_module": "@jupyter-widgets/controls",
          "model_name": "ProgressStyleModel",
          "model_module_version": "1.5.0",
          "state": {
            "_model_module": "@jupyter-widgets/controls",
            "_model_module_version": "1.5.0",
            "_model_name": "ProgressStyleModel",
            "_view_count": null,
            "_view_module": "@jupyter-widgets/base",
            "_view_module_version": "1.2.0",
            "_view_name": "StyleView",
            "bar_color": null,
            "description_width": ""
          }
        },
        "cf55f6025018498d82d1f36833fc1e62": {
          "model_module": "@jupyter-widgets/base",
          "model_name": "LayoutModel",
          "model_module_version": "1.2.0",
          "state": {
            "_model_module": "@jupyter-widgets/base",
            "_model_module_version": "1.2.0",
            "_model_name": "LayoutModel",
            "_view_count": null,
            "_view_module": "@jupyter-widgets/base",
            "_view_module_version": "1.2.0",
            "_view_name": "LayoutView",
            "align_content": null,
            "align_items": null,
            "align_self": null,
            "border": null,
            "bottom": null,
            "display": null,
            "flex": null,
            "flex_flow": null,
            "grid_area": null,
            "grid_auto_columns": null,
            "grid_auto_flow": null,
            "grid_auto_rows": null,
            "grid_column": null,
            "grid_gap": null,
            "grid_row": null,
            "grid_template_areas": null,
            "grid_template_columns": null,
            "grid_template_rows": null,
            "height": null,
            "justify_content": null,
            "justify_items": null,
            "left": null,
            "margin": null,
            "max_height": null,
            "max_width": null,
            "min_height": null,
            "min_width": null,
            "object_fit": null,
            "object_position": null,
            "order": null,
            "overflow": null,
            "overflow_x": null,
            "overflow_y": null,
            "padding": null,
            "right": null,
            "top": null,
            "visibility": null,
            "width": null
          }
        },
        "349c372badbf4f92baec8a2f98c86bcf": {
          "model_module": "@jupyter-widgets/controls",
          "model_name": "DescriptionStyleModel",
          "model_module_version": "1.5.0",
          "state": {
            "_model_module": "@jupyter-widgets/controls",
            "_model_module_version": "1.5.0",
            "_model_name": "DescriptionStyleModel",
            "_view_count": null,
            "_view_module": "@jupyter-widgets/base",
            "_view_module_version": "1.2.0",
            "_view_name": "StyleView",
            "description_width": ""
          }
        },
        "9baec6eb9c9f4703aef5fcf601c5b6a6": {
          "model_module": "@jupyter-widgets/controls",
          "model_name": "HBoxModel",
          "model_module_version": "1.5.0",
          "state": {
            "_dom_classes": [],
            "_model_module": "@jupyter-widgets/controls",
            "_model_module_version": "1.5.0",
            "_model_name": "HBoxModel",
            "_view_count": null,
            "_view_module": "@jupyter-widgets/controls",
            "_view_module_version": "1.5.0",
            "_view_name": "HBoxView",
            "box_style": "",
            "children": [
              "IPY_MODEL_3b4adb5049a84883971726bc3dfc55c8",
              "IPY_MODEL_348458cb1c27480aad435fdd4dadccb7",
              "IPY_MODEL_e2e0dd1890544fdda911ad7817dbe3a2"
            ],
            "layout": "IPY_MODEL_1f8b367a8f154fa79fee2d86fe9fa4cb"
          }
        },
        "3b4adb5049a84883971726bc3dfc55c8": {
          "model_module": "@jupyter-widgets/controls",
          "model_name": "HTMLModel",
          "model_module_version": "1.5.0",
          "state": {
            "_dom_classes": [],
            "_model_module": "@jupyter-widgets/controls",
            "_model_module_version": "1.5.0",
            "_model_name": "HTMLModel",
            "_view_count": null,
            "_view_module": "@jupyter-widgets/controls",
            "_view_module_version": "1.5.0",
            "_view_name": "HTMLView",
            "description": "",
            "description_tooltip": null,
            "layout": "IPY_MODEL_4d3238f45bc443aca0b584b63f9435bb",
            "placeholder": "​",
            "style": "IPY_MODEL_dc04fb864c9c437da9e166ef3975d20e",
            "value": "modules.json: 100%"
          }
        },
        "348458cb1c27480aad435fdd4dadccb7": {
          "model_module": "@jupyter-widgets/controls",
          "model_name": "FloatProgressModel",
          "model_module_version": "1.5.0",
          "state": {
            "_dom_classes": [],
            "_model_module": "@jupyter-widgets/controls",
            "_model_module_version": "1.5.0",
            "_model_name": "FloatProgressModel",
            "_view_count": null,
            "_view_module": "@jupyter-widgets/controls",
            "_view_module_version": "1.5.0",
            "_view_name": "ProgressView",
            "bar_style": "success",
            "description": "",
            "description_tooltip": null,
            "layout": "IPY_MODEL_651b90f1df254acfac58c9ec09312725",
            "max": 387,
            "min": 0,
            "orientation": "horizontal",
            "style": "IPY_MODEL_73d0d4b20a2e425297cb68050137af72",
            "value": 387
          }
        },
        "e2e0dd1890544fdda911ad7817dbe3a2": {
          "model_module": "@jupyter-widgets/controls",
          "model_name": "HTMLModel",
          "model_module_version": "1.5.0",
          "state": {
            "_dom_classes": [],
            "_model_module": "@jupyter-widgets/controls",
            "_model_module_version": "1.5.0",
            "_model_name": "HTMLModel",
            "_view_count": null,
            "_view_module": "@jupyter-widgets/controls",
            "_view_module_version": "1.5.0",
            "_view_name": "HTMLView",
            "description": "",
            "description_tooltip": null,
            "layout": "IPY_MODEL_c0dcff386c81496fb96b945570600279",
            "placeholder": "​",
            "style": "IPY_MODEL_3936fd4cff6b434b8afd43703400db89",
            "value": " 387/387 [00:00&lt;00:00, 23.3kB/s]"
          }
        },
        "1f8b367a8f154fa79fee2d86fe9fa4cb": {
          "model_module": "@jupyter-widgets/base",
          "model_name": "LayoutModel",
          "model_module_version": "1.2.0",
          "state": {
            "_model_module": "@jupyter-widgets/base",
            "_model_module_version": "1.2.0",
            "_model_name": "LayoutModel",
            "_view_count": null,
            "_view_module": "@jupyter-widgets/base",
            "_view_module_version": "1.2.0",
            "_view_name": "LayoutView",
            "align_content": null,
            "align_items": null,
            "align_self": null,
            "border": null,
            "bottom": null,
            "display": null,
            "flex": null,
            "flex_flow": null,
            "grid_area": null,
            "grid_auto_columns": null,
            "grid_auto_flow": null,
            "grid_auto_rows": null,
            "grid_column": null,
            "grid_gap": null,
            "grid_row": null,
            "grid_template_areas": null,
            "grid_template_columns": null,
            "grid_template_rows": null,
            "height": null,
            "justify_content": null,
            "justify_items": null,
            "left": null,
            "margin": null,
            "max_height": null,
            "max_width": null,
            "min_height": null,
            "min_width": null,
            "object_fit": null,
            "object_position": null,
            "order": null,
            "overflow": null,
            "overflow_x": null,
            "overflow_y": null,
            "padding": null,
            "right": null,
            "top": null,
            "visibility": null,
            "width": null
          }
        },
        "4d3238f45bc443aca0b584b63f9435bb": {
          "model_module": "@jupyter-widgets/base",
          "model_name": "LayoutModel",
          "model_module_version": "1.2.0",
          "state": {
            "_model_module": "@jupyter-widgets/base",
            "_model_module_version": "1.2.0",
            "_model_name": "LayoutModel",
            "_view_count": null,
            "_view_module": "@jupyter-widgets/base",
            "_view_module_version": "1.2.0",
            "_view_name": "LayoutView",
            "align_content": null,
            "align_items": null,
            "align_self": null,
            "border": null,
            "bottom": null,
            "display": null,
            "flex": null,
            "flex_flow": null,
            "grid_area": null,
            "grid_auto_columns": null,
            "grid_auto_flow": null,
            "grid_auto_rows": null,
            "grid_column": null,
            "grid_gap": null,
            "grid_row": null,
            "grid_template_areas": null,
            "grid_template_columns": null,
            "grid_template_rows": null,
            "height": null,
            "justify_content": null,
            "justify_items": null,
            "left": null,
            "margin": null,
            "max_height": null,
            "max_width": null,
            "min_height": null,
            "min_width": null,
            "object_fit": null,
            "object_position": null,
            "order": null,
            "overflow": null,
            "overflow_x": null,
            "overflow_y": null,
            "padding": null,
            "right": null,
            "top": null,
            "visibility": null,
            "width": null
          }
        },
        "dc04fb864c9c437da9e166ef3975d20e": {
          "model_module": "@jupyter-widgets/controls",
          "model_name": "DescriptionStyleModel",
          "model_module_version": "1.5.0",
          "state": {
            "_model_module": "@jupyter-widgets/controls",
            "_model_module_version": "1.5.0",
            "_model_name": "DescriptionStyleModel",
            "_view_count": null,
            "_view_module": "@jupyter-widgets/base",
            "_view_module_version": "1.2.0",
            "_view_name": "StyleView",
            "description_width": ""
          }
        },
        "651b90f1df254acfac58c9ec09312725": {
          "model_module": "@jupyter-widgets/base",
          "model_name": "LayoutModel",
          "model_module_version": "1.2.0",
          "state": {
            "_model_module": "@jupyter-widgets/base",
            "_model_module_version": "1.2.0",
            "_model_name": "LayoutModel",
            "_view_count": null,
            "_view_module": "@jupyter-widgets/base",
            "_view_module_version": "1.2.0",
            "_view_name": "LayoutView",
            "align_content": null,
            "align_items": null,
            "align_self": null,
            "border": null,
            "bottom": null,
            "display": null,
            "flex": null,
            "flex_flow": null,
            "grid_area": null,
            "grid_auto_columns": null,
            "grid_auto_flow": null,
            "grid_auto_rows": null,
            "grid_column": null,
            "grid_gap": null,
            "grid_row": null,
            "grid_template_areas": null,
            "grid_template_columns": null,
            "grid_template_rows": null,
            "height": null,
            "justify_content": null,
            "justify_items": null,
            "left": null,
            "margin": null,
            "max_height": null,
            "max_width": null,
            "min_height": null,
            "min_width": null,
            "object_fit": null,
            "object_position": null,
            "order": null,
            "overflow": null,
            "overflow_x": null,
            "overflow_y": null,
            "padding": null,
            "right": null,
            "top": null,
            "visibility": null,
            "width": null
          }
        },
        "73d0d4b20a2e425297cb68050137af72": {
          "model_module": "@jupyter-widgets/controls",
          "model_name": "ProgressStyleModel",
          "model_module_version": "1.5.0",
          "state": {
            "_model_module": "@jupyter-widgets/controls",
            "_model_module_version": "1.5.0",
            "_model_name": "ProgressStyleModel",
            "_view_count": null,
            "_view_module": "@jupyter-widgets/base",
            "_view_module_version": "1.2.0",
            "_view_name": "StyleView",
            "bar_color": null,
            "description_width": ""
          }
        },
        "c0dcff386c81496fb96b945570600279": {
          "model_module": "@jupyter-widgets/base",
          "model_name": "LayoutModel",
          "model_module_version": "1.2.0",
          "state": {
            "_model_module": "@jupyter-widgets/base",
            "_model_module_version": "1.2.0",
            "_model_name": "LayoutModel",
            "_view_count": null,
            "_view_module": "@jupyter-widgets/base",
            "_view_module_version": "1.2.0",
            "_view_name": "LayoutView",
            "align_content": null,
            "align_items": null,
            "align_self": null,
            "border": null,
            "bottom": null,
            "display": null,
            "flex": null,
            "flex_flow": null,
            "grid_area": null,
            "grid_auto_columns": null,
            "grid_auto_flow": null,
            "grid_auto_rows": null,
            "grid_column": null,
            "grid_gap": null,
            "grid_row": null,
            "grid_template_areas": null,
            "grid_template_columns": null,
            "grid_template_rows": null,
            "height": null,
            "justify_content": null,
            "justify_items": null,
            "left": null,
            "margin": null,
            "max_height": null,
            "max_width": null,
            "min_height": null,
            "min_width": null,
            "object_fit": null,
            "object_position": null,
            "order": null,
            "overflow": null,
            "overflow_x": null,
            "overflow_y": null,
            "padding": null,
            "right": null,
            "top": null,
            "visibility": null,
            "width": null
          }
        },
        "3936fd4cff6b434b8afd43703400db89": {
          "model_module": "@jupyter-widgets/controls",
          "model_name": "DescriptionStyleModel",
          "model_module_version": "1.5.0",
          "state": {
            "_model_module": "@jupyter-widgets/controls",
            "_model_module_version": "1.5.0",
            "_model_name": "DescriptionStyleModel",
            "_view_count": null,
            "_view_module": "@jupyter-widgets/base",
            "_view_module_version": "1.2.0",
            "_view_name": "StyleView",
            "description_width": ""
          }
        },
        "f006d19015404c16b23f352a38d2171d": {
          "model_module": "@jupyter-widgets/controls",
          "model_name": "HBoxModel",
          "model_module_version": "1.5.0",
          "state": {
            "_dom_classes": [],
            "_model_module": "@jupyter-widgets/controls",
            "_model_module_version": "1.5.0",
            "_model_name": "HBoxModel",
            "_view_count": null,
            "_view_module": "@jupyter-widgets/controls",
            "_view_module_version": "1.5.0",
            "_view_name": "HBoxView",
            "box_style": "",
            "children": [
              "IPY_MODEL_7d1eb0a7403841809e3c257ced7f623b",
              "IPY_MODEL_9ac27269adbe44e2b2560c46828155b9",
              "IPY_MODEL_6ba9751a91f74571966bbd646e190b72"
            ],
            "layout": "IPY_MODEL_d86c4eb506d94e04bd0cdae038543303"
          }
        },
        "7d1eb0a7403841809e3c257ced7f623b": {
          "model_module": "@jupyter-widgets/controls",
          "model_name": "HTMLModel",
          "model_module_version": "1.5.0",
          "state": {
            "_dom_classes": [],
            "_model_module": "@jupyter-widgets/controls",
            "_model_module_version": "1.5.0",
            "_model_name": "HTMLModel",
            "_view_count": null,
            "_view_module": "@jupyter-widgets/controls",
            "_view_module_version": "1.5.0",
            "_view_name": "HTMLView",
            "description": "",
            "description_tooltip": null,
            "layout": "IPY_MODEL_e1f6d08c695549a9baff5f21566717d9",
            "placeholder": "​",
            "style": "IPY_MODEL_7c1e4910396b43c0b4945b56988fd83c",
            "value": "README.md: 100%"
          }
        },
        "9ac27269adbe44e2b2560c46828155b9": {
          "model_module": "@jupyter-widgets/controls",
          "model_name": "FloatProgressModel",
          "model_module_version": "1.5.0",
          "state": {
            "_dom_classes": [],
            "_model_module": "@jupyter-widgets/controls",
            "_model_module_version": "1.5.0",
            "_model_name": "FloatProgressModel",
            "_view_count": null,
            "_view_module": "@jupyter-widgets/controls",
            "_view_module_version": "1.5.0",
            "_view_name": "ProgressView",
            "bar_style": "success",
            "description": "",
            "description_tooltip": null,
            "layout": "IPY_MODEL_15ef1d1440e44961968e7f8649eeea66",
            "max": 160024,
            "min": 0,
            "orientation": "horizontal",
            "style": "IPY_MODEL_ff23f48d54254b7a829905ed503be85a",
            "value": 160024
          }
        },
        "6ba9751a91f74571966bbd646e190b72": {
          "model_module": "@jupyter-widgets/controls",
          "model_name": "HTMLModel",
          "model_module_version": "1.5.0",
          "state": {
            "_dom_classes": [],
            "_model_module": "@jupyter-widgets/controls",
            "_model_module_version": "1.5.0",
            "_model_name": "HTMLModel",
            "_view_count": null,
            "_view_module": "@jupyter-widgets/controls",
            "_view_module_version": "1.5.0",
            "_view_name": "HTMLView",
            "description": "",
            "description_tooltip": null,
            "layout": "IPY_MODEL_19184604315d40ef94849a6efde865d9",
            "placeholder": "​",
            "style": "IPY_MODEL_a1410e461f4d42769e90249439cbb9bd",
            "value": " 160k/160k [00:00&lt;00:00, 3.67MB/s]"
          }
        },
        "d86c4eb506d94e04bd0cdae038543303": {
          "model_module": "@jupyter-widgets/base",
          "model_name": "LayoutModel",
          "model_module_version": "1.2.0",
          "state": {
            "_model_module": "@jupyter-widgets/base",
            "_model_module_version": "1.2.0",
            "_model_name": "LayoutModel",
            "_view_count": null,
            "_view_module": "@jupyter-widgets/base",
            "_view_module_version": "1.2.0",
            "_view_name": "LayoutView",
            "align_content": null,
            "align_items": null,
            "align_self": null,
            "border": null,
            "bottom": null,
            "display": null,
            "flex": null,
            "flex_flow": null,
            "grid_area": null,
            "grid_auto_columns": null,
            "grid_auto_flow": null,
            "grid_auto_rows": null,
            "grid_column": null,
            "grid_gap": null,
            "grid_row": null,
            "grid_template_areas": null,
            "grid_template_columns": null,
            "grid_template_rows": null,
            "height": null,
            "justify_content": null,
            "justify_items": null,
            "left": null,
            "margin": null,
            "max_height": null,
            "max_width": null,
            "min_height": null,
            "min_width": null,
            "object_fit": null,
            "object_position": null,
            "order": null,
            "overflow": null,
            "overflow_x": null,
            "overflow_y": null,
            "padding": null,
            "right": null,
            "top": null,
            "visibility": null,
            "width": null
          }
        },
        "e1f6d08c695549a9baff5f21566717d9": {
          "model_module": "@jupyter-widgets/base",
          "model_name": "LayoutModel",
          "model_module_version": "1.2.0",
          "state": {
            "_model_module": "@jupyter-widgets/base",
            "_model_module_version": "1.2.0",
            "_model_name": "LayoutModel",
            "_view_count": null,
            "_view_module": "@jupyter-widgets/base",
            "_view_module_version": "1.2.0",
            "_view_name": "LayoutView",
            "align_content": null,
            "align_items": null,
            "align_self": null,
            "border": null,
            "bottom": null,
            "display": null,
            "flex": null,
            "flex_flow": null,
            "grid_area": null,
            "grid_auto_columns": null,
            "grid_auto_flow": null,
            "grid_auto_rows": null,
            "grid_column": null,
            "grid_gap": null,
            "grid_row": null,
            "grid_template_areas": null,
            "grid_template_columns": null,
            "grid_template_rows": null,
            "height": null,
            "justify_content": null,
            "justify_items": null,
            "left": null,
            "margin": null,
            "max_height": null,
            "max_width": null,
            "min_height": null,
            "min_width": null,
            "object_fit": null,
            "object_position": null,
            "order": null,
            "overflow": null,
            "overflow_x": null,
            "overflow_y": null,
            "padding": null,
            "right": null,
            "top": null,
            "visibility": null,
            "width": null
          }
        },
        "7c1e4910396b43c0b4945b56988fd83c": {
          "model_module": "@jupyter-widgets/controls",
          "model_name": "DescriptionStyleModel",
          "model_module_version": "1.5.0",
          "state": {
            "_model_module": "@jupyter-widgets/controls",
            "_model_module_version": "1.5.0",
            "_model_name": "DescriptionStyleModel",
            "_view_count": null,
            "_view_module": "@jupyter-widgets/base",
            "_view_module_version": "1.2.0",
            "_view_name": "StyleView",
            "description_width": ""
          }
        },
        "15ef1d1440e44961968e7f8649eeea66": {
          "model_module": "@jupyter-widgets/base",
          "model_name": "LayoutModel",
          "model_module_version": "1.2.0",
          "state": {
            "_model_module": "@jupyter-widgets/base",
            "_model_module_version": "1.2.0",
            "_model_name": "LayoutModel",
            "_view_count": null,
            "_view_module": "@jupyter-widgets/base",
            "_view_module_version": "1.2.0",
            "_view_name": "LayoutView",
            "align_content": null,
            "align_items": null,
            "align_self": null,
            "border": null,
            "bottom": null,
            "display": null,
            "flex": null,
            "flex_flow": null,
            "grid_area": null,
            "grid_auto_columns": null,
            "grid_auto_flow": null,
            "grid_auto_rows": null,
            "grid_column": null,
            "grid_gap": null,
            "grid_row": null,
            "grid_template_areas": null,
            "grid_template_columns": null,
            "grid_template_rows": null,
            "height": null,
            "justify_content": null,
            "justify_items": null,
            "left": null,
            "margin": null,
            "max_height": null,
            "max_width": null,
            "min_height": null,
            "min_width": null,
            "object_fit": null,
            "object_position": null,
            "order": null,
            "overflow": null,
            "overflow_x": null,
            "overflow_y": null,
            "padding": null,
            "right": null,
            "top": null,
            "visibility": null,
            "width": null
          }
        },
        "ff23f48d54254b7a829905ed503be85a": {
          "model_module": "@jupyter-widgets/controls",
          "model_name": "ProgressStyleModel",
          "model_module_version": "1.5.0",
          "state": {
            "_model_module": "@jupyter-widgets/controls",
            "_model_module_version": "1.5.0",
            "_model_name": "ProgressStyleModel",
            "_view_count": null,
            "_view_module": "@jupyter-widgets/base",
            "_view_module_version": "1.2.0",
            "_view_name": "StyleView",
            "bar_color": null,
            "description_width": ""
          }
        },
        "19184604315d40ef94849a6efde865d9": {
          "model_module": "@jupyter-widgets/base",
          "model_name": "LayoutModel",
          "model_module_version": "1.2.0",
          "state": {
            "_model_module": "@jupyter-widgets/base",
            "_model_module_version": "1.2.0",
            "_model_name": "LayoutModel",
            "_view_count": null,
            "_view_module": "@jupyter-widgets/base",
            "_view_module_version": "1.2.0",
            "_view_name": "LayoutView",
            "align_content": null,
            "align_items": null,
            "align_self": null,
            "border": null,
            "bottom": null,
            "display": null,
            "flex": null,
            "flex_flow": null,
            "grid_area": null,
            "grid_auto_columns": null,
            "grid_auto_flow": null,
            "grid_auto_rows": null,
            "grid_column": null,
            "grid_gap": null,
            "grid_row": null,
            "grid_template_areas": null,
            "grid_template_columns": null,
            "grid_template_rows": null,
            "height": null,
            "justify_content": null,
            "justify_items": null,
            "left": null,
            "margin": null,
            "max_height": null,
            "max_width": null,
            "min_height": null,
            "min_width": null,
            "object_fit": null,
            "object_position": null,
            "order": null,
            "overflow": null,
            "overflow_x": null,
            "overflow_y": null,
            "padding": null,
            "right": null,
            "top": null,
            "visibility": null,
            "width": null
          }
        },
        "a1410e461f4d42769e90249439cbb9bd": {
          "model_module": "@jupyter-widgets/controls",
          "model_name": "DescriptionStyleModel",
          "model_module_version": "1.5.0",
          "state": {
            "_model_module": "@jupyter-widgets/controls",
            "_model_module_version": "1.5.0",
            "_model_name": "DescriptionStyleModel",
            "_view_count": null,
            "_view_module": "@jupyter-widgets/base",
            "_view_module_version": "1.2.0",
            "_view_name": "StyleView",
            "description_width": ""
          }
        },
        "6386bd4c73f64b0ba3f6787dfd160467": {
          "model_module": "@jupyter-widgets/controls",
          "model_name": "HBoxModel",
          "model_module_version": "1.5.0",
          "state": {
            "_dom_classes": [],
            "_model_module": "@jupyter-widgets/controls",
            "_model_module_version": "1.5.0",
            "_model_name": "HBoxModel",
            "_view_count": null,
            "_view_module": "@jupyter-widgets/controls",
            "_view_module_version": "1.5.0",
            "_view_name": "HBoxView",
            "box_style": "",
            "children": [
              "IPY_MODEL_23726b7860054da4876602edd5c3a983",
              "IPY_MODEL_6f558397bb0447f9987da62d1c36a87e",
              "IPY_MODEL_190948af5bc644c5a4155e0b9c7e74ed"
            ],
            "layout": "IPY_MODEL_3dd75744155d4512897f449c9fb154e6"
          }
        },
        "23726b7860054da4876602edd5c3a983": {
          "model_module": "@jupyter-widgets/controls",
          "model_name": "HTMLModel",
          "model_module_version": "1.5.0",
          "state": {
            "_dom_classes": [],
            "_model_module": "@jupyter-widgets/controls",
            "_model_module_version": "1.5.0",
            "_model_name": "HTMLModel",
            "_view_count": null,
            "_view_module": "@jupyter-widgets/controls",
            "_view_module_version": "1.5.0",
            "_view_name": "HTMLView",
            "description": "",
            "description_tooltip": null,
            "layout": "IPY_MODEL_386670430c134583bfcf35b7aa11456b",
            "placeholder": "​",
            "style": "IPY_MODEL_92820e69956a47c98160a3db8521e9cf",
            "value": "sentence_bert_config.json: 100%"
          }
        },
        "6f558397bb0447f9987da62d1c36a87e": {
          "model_module": "@jupyter-widgets/controls",
          "model_name": "FloatProgressModel",
          "model_module_version": "1.5.0",
          "state": {
            "_dom_classes": [],
            "_model_module": "@jupyter-widgets/controls",
            "_model_module_version": "1.5.0",
            "_model_name": "FloatProgressModel",
            "_view_count": null,
            "_view_module": "@jupyter-widgets/controls",
            "_view_module_version": "1.5.0",
            "_view_name": "ProgressView",
            "bar_style": "success",
            "description": "",
            "description_tooltip": null,
            "layout": "IPY_MODEL_c585fd24a25b428d98cd8a0de7750d35",
            "max": 57,
            "min": 0,
            "orientation": "horizontal",
            "style": "IPY_MODEL_4cfc8ca5566e41d3aaa29c5c1b90c22c",
            "value": 57
          }
        },
        "190948af5bc644c5a4155e0b9c7e74ed": {
          "model_module": "@jupyter-widgets/controls",
          "model_name": "HTMLModel",
          "model_module_version": "1.5.0",
          "state": {
            "_dom_classes": [],
            "_model_module": "@jupyter-widgets/controls",
            "_model_module_version": "1.5.0",
            "_model_name": "HTMLModel",
            "_view_count": null,
            "_view_module": "@jupyter-widgets/controls",
            "_view_module_version": "1.5.0",
            "_view_name": "HTMLView",
            "description": "",
            "description_tooltip": null,
            "layout": "IPY_MODEL_bacab209093d4789bfe061a3a3eaeab4",
            "placeholder": "​",
            "style": "IPY_MODEL_b7d03e3ee4ee4a2da663a65282159bb2",
            "value": " 57.0/57.0 [00:00&lt;00:00, 2.30kB/s]"
          }
        },
        "3dd75744155d4512897f449c9fb154e6": {
          "model_module": "@jupyter-widgets/base",
          "model_name": "LayoutModel",
          "model_module_version": "1.2.0",
          "state": {
            "_model_module": "@jupyter-widgets/base",
            "_model_module_version": "1.2.0",
            "_model_name": "LayoutModel",
            "_view_count": null,
            "_view_module": "@jupyter-widgets/base",
            "_view_module_version": "1.2.0",
            "_view_name": "LayoutView",
            "align_content": null,
            "align_items": null,
            "align_self": null,
            "border": null,
            "bottom": null,
            "display": null,
            "flex": null,
            "flex_flow": null,
            "grid_area": null,
            "grid_auto_columns": null,
            "grid_auto_flow": null,
            "grid_auto_rows": null,
            "grid_column": null,
            "grid_gap": null,
            "grid_row": null,
            "grid_template_areas": null,
            "grid_template_columns": null,
            "grid_template_rows": null,
            "height": null,
            "justify_content": null,
            "justify_items": null,
            "left": null,
            "margin": null,
            "max_height": null,
            "max_width": null,
            "min_height": null,
            "min_width": null,
            "object_fit": null,
            "object_position": null,
            "order": null,
            "overflow": null,
            "overflow_x": null,
            "overflow_y": null,
            "padding": null,
            "right": null,
            "top": null,
            "visibility": null,
            "width": null
          }
        },
        "386670430c134583bfcf35b7aa11456b": {
          "model_module": "@jupyter-widgets/base",
          "model_name": "LayoutModel",
          "model_module_version": "1.2.0",
          "state": {
            "_model_module": "@jupyter-widgets/base",
            "_model_module_version": "1.2.0",
            "_model_name": "LayoutModel",
            "_view_count": null,
            "_view_module": "@jupyter-widgets/base",
            "_view_module_version": "1.2.0",
            "_view_name": "LayoutView",
            "align_content": null,
            "align_items": null,
            "align_self": null,
            "border": null,
            "bottom": null,
            "display": null,
            "flex": null,
            "flex_flow": null,
            "grid_area": null,
            "grid_auto_columns": null,
            "grid_auto_flow": null,
            "grid_auto_rows": null,
            "grid_column": null,
            "grid_gap": null,
            "grid_row": null,
            "grid_template_areas": null,
            "grid_template_columns": null,
            "grid_template_rows": null,
            "height": null,
            "justify_content": null,
            "justify_items": null,
            "left": null,
            "margin": null,
            "max_height": null,
            "max_width": null,
            "min_height": null,
            "min_width": null,
            "object_fit": null,
            "object_position": null,
            "order": null,
            "overflow": null,
            "overflow_x": null,
            "overflow_y": null,
            "padding": null,
            "right": null,
            "top": null,
            "visibility": null,
            "width": null
          }
        },
        "92820e69956a47c98160a3db8521e9cf": {
          "model_module": "@jupyter-widgets/controls",
          "model_name": "DescriptionStyleModel",
          "model_module_version": "1.5.0",
          "state": {
            "_model_module": "@jupyter-widgets/controls",
            "_model_module_version": "1.5.0",
            "_model_name": "DescriptionStyleModel",
            "_view_count": null,
            "_view_module": "@jupyter-widgets/base",
            "_view_module_version": "1.2.0",
            "_view_name": "StyleView",
            "description_width": ""
          }
        },
        "c585fd24a25b428d98cd8a0de7750d35": {
          "model_module": "@jupyter-widgets/base",
          "model_name": "LayoutModel",
          "model_module_version": "1.2.0",
          "state": {
            "_model_module": "@jupyter-widgets/base",
            "_model_module_version": "1.2.0",
            "_model_name": "LayoutModel",
            "_view_count": null,
            "_view_module": "@jupyter-widgets/base",
            "_view_module_version": "1.2.0",
            "_view_name": "LayoutView",
            "align_content": null,
            "align_items": null,
            "align_self": null,
            "border": null,
            "bottom": null,
            "display": null,
            "flex": null,
            "flex_flow": null,
            "grid_area": null,
            "grid_auto_columns": null,
            "grid_auto_flow": null,
            "grid_auto_rows": null,
            "grid_column": null,
            "grid_gap": null,
            "grid_row": null,
            "grid_template_areas": null,
            "grid_template_columns": null,
            "grid_template_rows": null,
            "height": null,
            "justify_content": null,
            "justify_items": null,
            "left": null,
            "margin": null,
            "max_height": null,
            "max_width": null,
            "min_height": null,
            "min_width": null,
            "object_fit": null,
            "object_position": null,
            "order": null,
            "overflow": null,
            "overflow_x": null,
            "overflow_y": null,
            "padding": null,
            "right": null,
            "top": null,
            "visibility": null,
            "width": null
          }
        },
        "4cfc8ca5566e41d3aaa29c5c1b90c22c": {
          "model_module": "@jupyter-widgets/controls",
          "model_name": "ProgressStyleModel",
          "model_module_version": "1.5.0",
          "state": {
            "_model_module": "@jupyter-widgets/controls",
            "_model_module_version": "1.5.0",
            "_model_name": "ProgressStyleModel",
            "_view_count": null,
            "_view_module": "@jupyter-widgets/base",
            "_view_module_version": "1.2.0",
            "_view_name": "StyleView",
            "bar_color": null,
            "description_width": ""
          }
        },
        "bacab209093d4789bfe061a3a3eaeab4": {
          "model_module": "@jupyter-widgets/base",
          "model_name": "LayoutModel",
          "model_module_version": "1.2.0",
          "state": {
            "_model_module": "@jupyter-widgets/base",
            "_model_module_version": "1.2.0",
            "_model_name": "LayoutModel",
            "_view_count": null,
            "_view_module": "@jupyter-widgets/base",
            "_view_module_version": "1.2.0",
            "_view_name": "LayoutView",
            "align_content": null,
            "align_items": null,
            "align_self": null,
            "border": null,
            "bottom": null,
            "display": null,
            "flex": null,
            "flex_flow": null,
            "grid_area": null,
            "grid_auto_columns": null,
            "grid_auto_flow": null,
            "grid_auto_rows": null,
            "grid_column": null,
            "grid_gap": null,
            "grid_row": null,
            "grid_template_areas": null,
            "grid_template_columns": null,
            "grid_template_rows": null,
            "height": null,
            "justify_content": null,
            "justify_items": null,
            "left": null,
            "margin": null,
            "max_height": null,
            "max_width": null,
            "min_height": null,
            "min_width": null,
            "object_fit": null,
            "object_position": null,
            "order": null,
            "overflow": null,
            "overflow_x": null,
            "overflow_y": null,
            "padding": null,
            "right": null,
            "top": null,
            "visibility": null,
            "width": null
          }
        },
        "b7d03e3ee4ee4a2da663a65282159bb2": {
          "model_module": "@jupyter-widgets/controls",
          "model_name": "DescriptionStyleModel",
          "model_module_version": "1.5.0",
          "state": {
            "_model_module": "@jupyter-widgets/controls",
            "_model_module_version": "1.5.0",
            "_model_name": "DescriptionStyleModel",
            "_view_count": null,
            "_view_module": "@jupyter-widgets/base",
            "_view_module_version": "1.2.0",
            "_view_name": "StyleView",
            "description_width": ""
          }
        },
        "16636661b4484341ad0e11bfd3b51074": {
          "model_module": "@jupyter-widgets/controls",
          "model_name": "HBoxModel",
          "model_module_version": "1.5.0",
          "state": {
            "_dom_classes": [],
            "_model_module": "@jupyter-widgets/controls",
            "_model_module_version": "1.5.0",
            "_model_name": "HBoxModel",
            "_view_count": null,
            "_view_module": "@jupyter-widgets/controls",
            "_view_module_version": "1.5.0",
            "_view_name": "HBoxView",
            "box_style": "",
            "children": [
              "IPY_MODEL_2817ebf23efc44c5bd250639c00af210",
              "IPY_MODEL_d88a682ce04a47208861fa4b17863339",
              "IPY_MODEL_52efb8ab905c48219262a411155b7223"
            ],
            "layout": "IPY_MODEL_ba5d590f11a446dc9169b97765e48ae2"
          }
        },
        "2817ebf23efc44c5bd250639c00af210": {
          "model_module": "@jupyter-widgets/controls",
          "model_name": "HTMLModel",
          "model_module_version": "1.5.0",
          "state": {
            "_dom_classes": [],
            "_model_module": "@jupyter-widgets/controls",
            "_model_module_version": "1.5.0",
            "_model_name": "HTMLModel",
            "_view_count": null,
            "_view_module": "@jupyter-widgets/controls",
            "_view_module_version": "1.5.0",
            "_view_name": "HTMLView",
            "description": "",
            "description_tooltip": null,
            "layout": "IPY_MODEL_7866ad16b91e4107a8cb4d2dafc7e741",
            "placeholder": "​",
            "style": "IPY_MODEL_07011eee265c468ca0b02c9ad2569a04",
            "value": "config.json: 100%"
          }
        },
        "d88a682ce04a47208861fa4b17863339": {
          "model_module": "@jupyter-widgets/controls",
          "model_name": "FloatProgressModel",
          "model_module_version": "1.5.0",
          "state": {
            "_dom_classes": [],
            "_model_module": "@jupyter-widgets/controls",
            "_model_module_version": "1.5.0",
            "_model_name": "FloatProgressModel",
            "_view_count": null,
            "_view_module": "@jupyter-widgets/controls",
            "_view_module_version": "1.5.0",
            "_view_name": "ProgressView",
            "bar_style": "success",
            "description": "",
            "description_tooltip": null,
            "layout": "IPY_MODEL_927d9fdbca174622aeafa3eb4e078556",
            "max": 690,
            "min": 0,
            "orientation": "horizontal",
            "style": "IPY_MODEL_4c6b4b2f0464415291b1b36ff937b804",
            "value": 690
          }
        },
        "52efb8ab905c48219262a411155b7223": {
          "model_module": "@jupyter-widgets/controls",
          "model_name": "HTMLModel",
          "model_module_version": "1.5.0",
          "state": {
            "_dom_classes": [],
            "_model_module": "@jupyter-widgets/controls",
            "_model_module_version": "1.5.0",
            "_model_name": "HTMLModel",
            "_view_count": null,
            "_view_module": "@jupyter-widgets/controls",
            "_view_module_version": "1.5.0",
            "_view_name": "HTMLView",
            "description": "",
            "description_tooltip": null,
            "layout": "IPY_MODEL_5e42a6caed784d7ebcd49bd0471b35ee",
            "placeholder": "​",
            "style": "IPY_MODEL_0aaa07d0bcc74e07994307f32dce2b63",
            "value": " 690/690 [00:00&lt;00:00, 39.8kB/s]"
          }
        },
        "ba5d590f11a446dc9169b97765e48ae2": {
          "model_module": "@jupyter-widgets/base",
          "model_name": "LayoutModel",
          "model_module_version": "1.2.0",
          "state": {
            "_model_module": "@jupyter-widgets/base",
            "_model_module_version": "1.2.0",
            "_model_name": "LayoutModel",
            "_view_count": null,
            "_view_module": "@jupyter-widgets/base",
            "_view_module_version": "1.2.0",
            "_view_name": "LayoutView",
            "align_content": null,
            "align_items": null,
            "align_self": null,
            "border": null,
            "bottom": null,
            "display": null,
            "flex": null,
            "flex_flow": null,
            "grid_area": null,
            "grid_auto_columns": null,
            "grid_auto_flow": null,
            "grid_auto_rows": null,
            "grid_column": null,
            "grid_gap": null,
            "grid_row": null,
            "grid_template_areas": null,
            "grid_template_columns": null,
            "grid_template_rows": null,
            "height": null,
            "justify_content": null,
            "justify_items": null,
            "left": null,
            "margin": null,
            "max_height": null,
            "max_width": null,
            "min_height": null,
            "min_width": null,
            "object_fit": null,
            "object_position": null,
            "order": null,
            "overflow": null,
            "overflow_x": null,
            "overflow_y": null,
            "padding": null,
            "right": null,
            "top": null,
            "visibility": null,
            "width": null
          }
        },
        "7866ad16b91e4107a8cb4d2dafc7e741": {
          "model_module": "@jupyter-widgets/base",
          "model_name": "LayoutModel",
          "model_module_version": "1.2.0",
          "state": {
            "_model_module": "@jupyter-widgets/base",
            "_model_module_version": "1.2.0",
            "_model_name": "LayoutModel",
            "_view_count": null,
            "_view_module": "@jupyter-widgets/base",
            "_view_module_version": "1.2.0",
            "_view_name": "LayoutView",
            "align_content": null,
            "align_items": null,
            "align_self": null,
            "border": null,
            "bottom": null,
            "display": null,
            "flex": null,
            "flex_flow": null,
            "grid_area": null,
            "grid_auto_columns": null,
            "grid_auto_flow": null,
            "grid_auto_rows": null,
            "grid_column": null,
            "grid_gap": null,
            "grid_row": null,
            "grid_template_areas": null,
            "grid_template_columns": null,
            "grid_template_rows": null,
            "height": null,
            "justify_content": null,
            "justify_items": null,
            "left": null,
            "margin": null,
            "max_height": null,
            "max_width": null,
            "min_height": null,
            "min_width": null,
            "object_fit": null,
            "object_position": null,
            "order": null,
            "overflow": null,
            "overflow_x": null,
            "overflow_y": null,
            "padding": null,
            "right": null,
            "top": null,
            "visibility": null,
            "width": null
          }
        },
        "07011eee265c468ca0b02c9ad2569a04": {
          "model_module": "@jupyter-widgets/controls",
          "model_name": "DescriptionStyleModel",
          "model_module_version": "1.5.0",
          "state": {
            "_model_module": "@jupyter-widgets/controls",
            "_model_module_version": "1.5.0",
            "_model_name": "DescriptionStyleModel",
            "_view_count": null,
            "_view_module": "@jupyter-widgets/base",
            "_view_module_version": "1.2.0",
            "_view_name": "StyleView",
            "description_width": ""
          }
        },
        "927d9fdbca174622aeafa3eb4e078556": {
          "model_module": "@jupyter-widgets/base",
          "model_name": "LayoutModel",
          "model_module_version": "1.2.0",
          "state": {
            "_model_module": "@jupyter-widgets/base",
            "_model_module_version": "1.2.0",
            "_model_name": "LayoutModel",
            "_view_count": null,
            "_view_module": "@jupyter-widgets/base",
            "_view_module_version": "1.2.0",
            "_view_name": "LayoutView",
            "align_content": null,
            "align_items": null,
            "align_self": null,
            "border": null,
            "bottom": null,
            "display": null,
            "flex": null,
            "flex_flow": null,
            "grid_area": null,
            "grid_auto_columns": null,
            "grid_auto_flow": null,
            "grid_auto_rows": null,
            "grid_column": null,
            "grid_gap": null,
            "grid_row": null,
            "grid_template_areas": null,
            "grid_template_columns": null,
            "grid_template_rows": null,
            "height": null,
            "justify_content": null,
            "justify_items": null,
            "left": null,
            "margin": null,
            "max_height": null,
            "max_width": null,
            "min_height": null,
            "min_width": null,
            "object_fit": null,
            "object_position": null,
            "order": null,
            "overflow": null,
            "overflow_x": null,
            "overflow_y": null,
            "padding": null,
            "right": null,
            "top": null,
            "visibility": null,
            "width": null
          }
        },
        "4c6b4b2f0464415291b1b36ff937b804": {
          "model_module": "@jupyter-widgets/controls",
          "model_name": "ProgressStyleModel",
          "model_module_version": "1.5.0",
          "state": {
            "_model_module": "@jupyter-widgets/controls",
            "_model_module_version": "1.5.0",
            "_model_name": "ProgressStyleModel",
            "_view_count": null,
            "_view_module": "@jupyter-widgets/base",
            "_view_module_version": "1.2.0",
            "_view_name": "StyleView",
            "bar_color": null,
            "description_width": ""
          }
        },
        "5e42a6caed784d7ebcd49bd0471b35ee": {
          "model_module": "@jupyter-widgets/base",
          "model_name": "LayoutModel",
          "model_module_version": "1.2.0",
          "state": {
            "_model_module": "@jupyter-widgets/base",
            "_model_module_version": "1.2.0",
            "_model_name": "LayoutModel",
            "_view_count": null,
            "_view_module": "@jupyter-widgets/base",
            "_view_module_version": "1.2.0",
            "_view_name": "LayoutView",
            "align_content": null,
            "align_items": null,
            "align_self": null,
            "border": null,
            "bottom": null,
            "display": null,
            "flex": null,
            "flex_flow": null,
            "grid_area": null,
            "grid_auto_columns": null,
            "grid_auto_flow": null,
            "grid_auto_rows": null,
            "grid_column": null,
            "grid_gap": null,
            "grid_row": null,
            "grid_template_areas": null,
            "grid_template_columns": null,
            "grid_template_rows": null,
            "height": null,
            "justify_content": null,
            "justify_items": null,
            "left": null,
            "margin": null,
            "max_height": null,
            "max_width": null,
            "min_height": null,
            "min_width": null,
            "object_fit": null,
            "object_position": null,
            "order": null,
            "overflow": null,
            "overflow_x": null,
            "overflow_y": null,
            "padding": null,
            "right": null,
            "top": null,
            "visibility": null,
            "width": null
          }
        },
        "0aaa07d0bcc74e07994307f32dce2b63": {
          "model_module": "@jupyter-widgets/controls",
          "model_name": "DescriptionStyleModel",
          "model_module_version": "1.5.0",
          "state": {
            "_model_module": "@jupyter-widgets/controls",
            "_model_module_version": "1.5.0",
            "_model_name": "DescriptionStyleModel",
            "_view_count": null,
            "_view_module": "@jupyter-widgets/base",
            "_view_module_version": "1.2.0",
            "_view_name": "StyleView",
            "description_width": ""
          }
        },
        "e592597187c1419aa0cec90febb7abf8": {
          "model_module": "@jupyter-widgets/controls",
          "model_name": "HBoxModel",
          "model_module_version": "1.5.0",
          "state": {
            "_dom_classes": [],
            "_model_module": "@jupyter-widgets/controls",
            "_model_module_version": "1.5.0",
            "_model_name": "HBoxModel",
            "_view_count": null,
            "_view_module": "@jupyter-widgets/controls",
            "_view_module_version": "1.5.0",
            "_view_name": "HBoxView",
            "box_style": "",
            "children": [
              "IPY_MODEL_21b4f12a92b54092b0269eb302f0b608",
              "IPY_MODEL_18aa95bce0a7430e9f939d5431c1a5f4",
              "IPY_MODEL_619a131b1b0f41569adf5328c65cb79b"
            ],
            "layout": "IPY_MODEL_29019908da72475e87545c28bdec537e"
          }
        },
        "21b4f12a92b54092b0269eb302f0b608": {
          "model_module": "@jupyter-widgets/controls",
          "model_name": "HTMLModel",
          "model_module_version": "1.5.0",
          "state": {
            "_dom_classes": [],
            "_model_module": "@jupyter-widgets/controls",
            "_model_module_version": "1.5.0",
            "_model_name": "HTMLModel",
            "_view_count": null,
            "_view_module": "@jupyter-widgets/controls",
            "_view_module_version": "1.5.0",
            "_view_name": "HTMLView",
            "description": "",
            "description_tooltip": null,
            "layout": "IPY_MODEL_dafbc675a3f14849b594f2db11e2ee63",
            "placeholder": "​",
            "style": "IPY_MODEL_526ff6859e5748bd845e5edd62cc85b1",
            "value": "model.safetensors: 100%"
          }
        },
        "18aa95bce0a7430e9f939d5431c1a5f4": {
          "model_module": "@jupyter-widgets/controls",
          "model_name": "FloatProgressModel",
          "model_module_version": "1.5.0",
          "state": {
            "_dom_classes": [],
            "_model_module": "@jupyter-widgets/controls",
            "_model_module_version": "1.5.0",
            "_model_name": "FloatProgressModel",
            "_view_count": null,
            "_view_module": "@jupyter-widgets/controls",
            "_view_module_version": "1.5.0",
            "_view_name": "ProgressView",
            "bar_style": "success",
            "description": "",
            "description_tooltip": null,
            "layout": "IPY_MODEL_6be4ea5921274d3a9863b6990ffad890",
            "max": 2239611368,
            "min": 0,
            "orientation": "horizontal",
            "style": "IPY_MODEL_b496eb73b63c45de8a16b873fc7c242a",
            "value": 2239611368
          }
        },
        "619a131b1b0f41569adf5328c65cb79b": {
          "model_module": "@jupyter-widgets/controls",
          "model_name": "HTMLModel",
          "model_module_version": "1.5.0",
          "state": {
            "_dom_classes": [],
            "_model_module": "@jupyter-widgets/controls",
            "_model_module_version": "1.5.0",
            "_model_name": "HTMLModel",
            "_view_count": null,
            "_view_module": "@jupyter-widgets/controls",
            "_view_module_version": "1.5.0",
            "_view_name": "HTMLView",
            "description": "",
            "description_tooltip": null,
            "layout": "IPY_MODEL_466054b21bf746e3bf72db442d059679",
            "placeholder": "​",
            "style": "IPY_MODEL_b286a6b5e20b4f41a338731fd59a6b13",
            "value": " 2.24G/2.24G [00:23&lt;00:00, 141MB/s]"
          }
        },
        "29019908da72475e87545c28bdec537e": {
          "model_module": "@jupyter-widgets/base",
          "model_name": "LayoutModel",
          "model_module_version": "1.2.0",
          "state": {
            "_model_module": "@jupyter-widgets/base",
            "_model_module_version": "1.2.0",
            "_model_name": "LayoutModel",
            "_view_count": null,
            "_view_module": "@jupyter-widgets/base",
            "_view_module_version": "1.2.0",
            "_view_name": "LayoutView",
            "align_content": null,
            "align_items": null,
            "align_self": null,
            "border": null,
            "bottom": null,
            "display": null,
            "flex": null,
            "flex_flow": null,
            "grid_area": null,
            "grid_auto_columns": null,
            "grid_auto_flow": null,
            "grid_auto_rows": null,
            "grid_column": null,
            "grid_gap": null,
            "grid_row": null,
            "grid_template_areas": null,
            "grid_template_columns": null,
            "grid_template_rows": null,
            "height": null,
            "justify_content": null,
            "justify_items": null,
            "left": null,
            "margin": null,
            "max_height": null,
            "max_width": null,
            "min_height": null,
            "min_width": null,
            "object_fit": null,
            "object_position": null,
            "order": null,
            "overflow": null,
            "overflow_x": null,
            "overflow_y": null,
            "padding": null,
            "right": null,
            "top": null,
            "visibility": null,
            "width": null
          }
        },
        "dafbc675a3f14849b594f2db11e2ee63": {
          "model_module": "@jupyter-widgets/base",
          "model_name": "LayoutModel",
          "model_module_version": "1.2.0",
          "state": {
            "_model_module": "@jupyter-widgets/base",
            "_model_module_version": "1.2.0",
            "_model_name": "LayoutModel",
            "_view_count": null,
            "_view_module": "@jupyter-widgets/base",
            "_view_module_version": "1.2.0",
            "_view_name": "LayoutView",
            "align_content": null,
            "align_items": null,
            "align_self": null,
            "border": null,
            "bottom": null,
            "display": null,
            "flex": null,
            "flex_flow": null,
            "grid_area": null,
            "grid_auto_columns": null,
            "grid_auto_flow": null,
            "grid_auto_rows": null,
            "grid_column": null,
            "grid_gap": null,
            "grid_row": null,
            "grid_template_areas": null,
            "grid_template_columns": null,
            "grid_template_rows": null,
            "height": null,
            "justify_content": null,
            "justify_items": null,
            "left": null,
            "margin": null,
            "max_height": null,
            "max_width": null,
            "min_height": null,
            "min_width": null,
            "object_fit": null,
            "object_position": null,
            "order": null,
            "overflow": null,
            "overflow_x": null,
            "overflow_y": null,
            "padding": null,
            "right": null,
            "top": null,
            "visibility": null,
            "width": null
          }
        },
        "526ff6859e5748bd845e5edd62cc85b1": {
          "model_module": "@jupyter-widgets/controls",
          "model_name": "DescriptionStyleModel",
          "model_module_version": "1.5.0",
          "state": {
            "_model_module": "@jupyter-widgets/controls",
            "_model_module_version": "1.5.0",
            "_model_name": "DescriptionStyleModel",
            "_view_count": null,
            "_view_module": "@jupyter-widgets/base",
            "_view_module_version": "1.2.0",
            "_view_name": "StyleView",
            "description_width": ""
          }
        },
        "6be4ea5921274d3a9863b6990ffad890": {
          "model_module": "@jupyter-widgets/base",
          "model_name": "LayoutModel",
          "model_module_version": "1.2.0",
          "state": {
            "_model_module": "@jupyter-widgets/base",
            "_model_module_version": "1.2.0",
            "_model_name": "LayoutModel",
            "_view_count": null,
            "_view_module": "@jupyter-widgets/base",
            "_view_module_version": "1.2.0",
            "_view_name": "LayoutView",
            "align_content": null,
            "align_items": null,
            "align_self": null,
            "border": null,
            "bottom": null,
            "display": null,
            "flex": null,
            "flex_flow": null,
            "grid_area": null,
            "grid_auto_columns": null,
            "grid_auto_flow": null,
            "grid_auto_rows": null,
            "grid_column": null,
            "grid_gap": null,
            "grid_row": null,
            "grid_template_areas": null,
            "grid_template_columns": null,
            "grid_template_rows": null,
            "height": null,
            "justify_content": null,
            "justify_items": null,
            "left": null,
            "margin": null,
            "max_height": null,
            "max_width": null,
            "min_height": null,
            "min_width": null,
            "object_fit": null,
            "object_position": null,
            "order": null,
            "overflow": null,
            "overflow_x": null,
            "overflow_y": null,
            "padding": null,
            "right": null,
            "top": null,
            "visibility": null,
            "width": null
          }
        },
        "b496eb73b63c45de8a16b873fc7c242a": {
          "model_module": "@jupyter-widgets/controls",
          "model_name": "ProgressStyleModel",
          "model_module_version": "1.5.0",
          "state": {
            "_model_module": "@jupyter-widgets/controls",
            "_model_module_version": "1.5.0",
            "_model_name": "ProgressStyleModel",
            "_view_count": null,
            "_view_module": "@jupyter-widgets/base",
            "_view_module_version": "1.2.0",
            "_view_name": "StyleView",
            "bar_color": null,
            "description_width": ""
          }
        },
        "466054b21bf746e3bf72db442d059679": {
          "model_module": "@jupyter-widgets/base",
          "model_name": "LayoutModel",
          "model_module_version": "1.2.0",
          "state": {
            "_model_module": "@jupyter-widgets/base",
            "_model_module_version": "1.2.0",
            "_model_name": "LayoutModel",
            "_view_count": null,
            "_view_module": "@jupyter-widgets/base",
            "_view_module_version": "1.2.0",
            "_view_name": "LayoutView",
            "align_content": null,
            "align_items": null,
            "align_self": null,
            "border": null,
            "bottom": null,
            "display": null,
            "flex": null,
            "flex_flow": null,
            "grid_area": null,
            "grid_auto_columns": null,
            "grid_auto_flow": null,
            "grid_auto_rows": null,
            "grid_column": null,
            "grid_gap": null,
            "grid_row": null,
            "grid_template_areas": null,
            "grid_template_columns": null,
            "grid_template_rows": null,
            "height": null,
            "justify_content": null,
            "justify_items": null,
            "left": null,
            "margin": null,
            "max_height": null,
            "max_width": null,
            "min_height": null,
            "min_width": null,
            "object_fit": null,
            "object_position": null,
            "order": null,
            "overflow": null,
            "overflow_x": null,
            "overflow_y": null,
            "padding": null,
            "right": null,
            "top": null,
            "visibility": null,
            "width": null
          }
        },
        "b286a6b5e20b4f41a338731fd59a6b13": {
          "model_module": "@jupyter-widgets/controls",
          "model_name": "DescriptionStyleModel",
          "model_module_version": "1.5.0",
          "state": {
            "_model_module": "@jupyter-widgets/controls",
            "_model_module_version": "1.5.0",
            "_model_name": "DescriptionStyleModel",
            "_view_count": null,
            "_view_module": "@jupyter-widgets/base",
            "_view_module_version": "1.2.0",
            "_view_name": "StyleView",
            "description_width": ""
          }
        },
        "88c917a8c880404bb8e130433de7f664": {
          "model_module": "@jupyter-widgets/controls",
          "model_name": "HBoxModel",
          "model_module_version": "1.5.0",
          "state": {
            "_dom_classes": [],
            "_model_module": "@jupyter-widgets/controls",
            "_model_module_version": "1.5.0",
            "_model_name": "HBoxModel",
            "_view_count": null,
            "_view_module": "@jupyter-widgets/controls",
            "_view_module_version": "1.5.0",
            "_view_name": "HBoxView",
            "box_style": "",
            "children": [
              "IPY_MODEL_acb6c65cac5243b19aa1d64d6e08cf5f",
              "IPY_MODEL_5dc793192ea64d3cba85686e7378c154",
              "IPY_MODEL_983b459689ff4fbb9d43bfc8e85ed789"
            ],
            "layout": "IPY_MODEL_53a92e31c5104e328328ed751ed733c4"
          }
        },
        "acb6c65cac5243b19aa1d64d6e08cf5f": {
          "model_module": "@jupyter-widgets/controls",
          "model_name": "HTMLModel",
          "model_module_version": "1.5.0",
          "state": {
            "_dom_classes": [],
            "_model_module": "@jupyter-widgets/controls",
            "_model_module_version": "1.5.0",
            "_model_name": "HTMLModel",
            "_view_count": null,
            "_view_module": "@jupyter-widgets/controls",
            "_view_module_version": "1.5.0",
            "_view_name": "HTMLView",
            "description": "",
            "description_tooltip": null,
            "layout": "IPY_MODEL_3a9af73fb1a54f169b2a3e83cc4e1a0c",
            "placeholder": "​",
            "style": "IPY_MODEL_714140cc01f041b2885534b13ae5ba1c",
            "value": "tokenizer_config.json: 100%"
          }
        },
        "5dc793192ea64d3cba85686e7378c154": {
          "model_module": "@jupyter-widgets/controls",
          "model_name": "FloatProgressModel",
          "model_module_version": "1.5.0",
          "state": {
            "_dom_classes": [],
            "_model_module": "@jupyter-widgets/controls",
            "_model_module_version": "1.5.0",
            "_model_name": "FloatProgressModel",
            "_view_count": null,
            "_view_module": "@jupyter-widgets/controls",
            "_view_module_version": "1.5.0",
            "_view_name": "ProgressView",
            "bar_style": "success",
            "description": "",
            "description_tooltip": null,
            "layout": "IPY_MODEL_fbc4187e60054b52b3ee264a1da6ceab",
            "max": 418,
            "min": 0,
            "orientation": "horizontal",
            "style": "IPY_MODEL_0d092c0534b943b6957c6755c2cf9688",
            "value": 418
          }
        },
        "983b459689ff4fbb9d43bfc8e85ed789": {
          "model_module": "@jupyter-widgets/controls",
          "model_name": "HTMLModel",
          "model_module_version": "1.5.0",
          "state": {
            "_dom_classes": [],
            "_model_module": "@jupyter-widgets/controls",
            "_model_module_version": "1.5.0",
            "_model_name": "HTMLModel",
            "_view_count": null,
            "_view_module": "@jupyter-widgets/controls",
            "_view_module_version": "1.5.0",
            "_view_name": "HTMLView",
            "description": "",
            "description_tooltip": null,
            "layout": "IPY_MODEL_92c21850ec5e46c8a661240bcb705a55",
            "placeholder": "​",
            "style": "IPY_MODEL_b8a1340c170e4ccc88616d45a1d2f018",
            "value": " 418/418 [00:00&lt;00:00, 15.0kB/s]"
          }
        },
        "53a92e31c5104e328328ed751ed733c4": {
          "model_module": "@jupyter-widgets/base",
          "model_name": "LayoutModel",
          "model_module_version": "1.2.0",
          "state": {
            "_model_module": "@jupyter-widgets/base",
            "_model_module_version": "1.2.0",
            "_model_name": "LayoutModel",
            "_view_count": null,
            "_view_module": "@jupyter-widgets/base",
            "_view_module_version": "1.2.0",
            "_view_name": "LayoutView",
            "align_content": null,
            "align_items": null,
            "align_self": null,
            "border": null,
            "bottom": null,
            "display": null,
            "flex": null,
            "flex_flow": null,
            "grid_area": null,
            "grid_auto_columns": null,
            "grid_auto_flow": null,
            "grid_auto_rows": null,
            "grid_column": null,
            "grid_gap": null,
            "grid_row": null,
            "grid_template_areas": null,
            "grid_template_columns": null,
            "grid_template_rows": null,
            "height": null,
            "justify_content": null,
            "justify_items": null,
            "left": null,
            "margin": null,
            "max_height": null,
            "max_width": null,
            "min_height": null,
            "min_width": null,
            "object_fit": null,
            "object_position": null,
            "order": null,
            "overflow": null,
            "overflow_x": null,
            "overflow_y": null,
            "padding": null,
            "right": null,
            "top": null,
            "visibility": null,
            "width": null
          }
        },
        "3a9af73fb1a54f169b2a3e83cc4e1a0c": {
          "model_module": "@jupyter-widgets/base",
          "model_name": "LayoutModel",
          "model_module_version": "1.2.0",
          "state": {
            "_model_module": "@jupyter-widgets/base",
            "_model_module_version": "1.2.0",
            "_model_name": "LayoutModel",
            "_view_count": null,
            "_view_module": "@jupyter-widgets/base",
            "_view_module_version": "1.2.0",
            "_view_name": "LayoutView",
            "align_content": null,
            "align_items": null,
            "align_self": null,
            "border": null,
            "bottom": null,
            "display": null,
            "flex": null,
            "flex_flow": null,
            "grid_area": null,
            "grid_auto_columns": null,
            "grid_auto_flow": null,
            "grid_auto_rows": null,
            "grid_column": null,
            "grid_gap": null,
            "grid_row": null,
            "grid_template_areas": null,
            "grid_template_columns": null,
            "grid_template_rows": null,
            "height": null,
            "justify_content": null,
            "justify_items": null,
            "left": null,
            "margin": null,
            "max_height": null,
            "max_width": null,
            "min_height": null,
            "min_width": null,
            "object_fit": null,
            "object_position": null,
            "order": null,
            "overflow": null,
            "overflow_x": null,
            "overflow_y": null,
            "padding": null,
            "right": null,
            "top": null,
            "visibility": null,
            "width": null
          }
        },
        "714140cc01f041b2885534b13ae5ba1c": {
          "model_module": "@jupyter-widgets/controls",
          "model_name": "DescriptionStyleModel",
          "model_module_version": "1.5.0",
          "state": {
            "_model_module": "@jupyter-widgets/controls",
            "_model_module_version": "1.5.0",
            "_model_name": "DescriptionStyleModel",
            "_view_count": null,
            "_view_module": "@jupyter-widgets/base",
            "_view_module_version": "1.2.0",
            "_view_name": "StyleView",
            "description_width": ""
          }
        },
        "fbc4187e60054b52b3ee264a1da6ceab": {
          "model_module": "@jupyter-widgets/base",
          "model_name": "LayoutModel",
          "model_module_version": "1.2.0",
          "state": {
            "_model_module": "@jupyter-widgets/base",
            "_model_module_version": "1.2.0",
            "_model_name": "LayoutModel",
            "_view_count": null,
            "_view_module": "@jupyter-widgets/base",
            "_view_module_version": "1.2.0",
            "_view_name": "LayoutView",
            "align_content": null,
            "align_items": null,
            "align_self": null,
            "border": null,
            "bottom": null,
            "display": null,
            "flex": null,
            "flex_flow": null,
            "grid_area": null,
            "grid_auto_columns": null,
            "grid_auto_flow": null,
            "grid_auto_rows": null,
            "grid_column": null,
            "grid_gap": null,
            "grid_row": null,
            "grid_template_areas": null,
            "grid_template_columns": null,
            "grid_template_rows": null,
            "height": null,
            "justify_content": null,
            "justify_items": null,
            "left": null,
            "margin": null,
            "max_height": null,
            "max_width": null,
            "min_height": null,
            "min_width": null,
            "object_fit": null,
            "object_position": null,
            "order": null,
            "overflow": null,
            "overflow_x": null,
            "overflow_y": null,
            "padding": null,
            "right": null,
            "top": null,
            "visibility": null,
            "width": null
          }
        },
        "0d092c0534b943b6957c6755c2cf9688": {
          "model_module": "@jupyter-widgets/controls",
          "model_name": "ProgressStyleModel",
          "model_module_version": "1.5.0",
          "state": {
            "_model_module": "@jupyter-widgets/controls",
            "_model_module_version": "1.5.0",
            "_model_name": "ProgressStyleModel",
            "_view_count": null,
            "_view_module": "@jupyter-widgets/base",
            "_view_module_version": "1.2.0",
            "_view_name": "StyleView",
            "bar_color": null,
            "description_width": ""
          }
        },
        "92c21850ec5e46c8a661240bcb705a55": {
          "model_module": "@jupyter-widgets/base",
          "model_name": "LayoutModel",
          "model_module_version": "1.2.0",
          "state": {
            "_model_module": "@jupyter-widgets/base",
            "_model_module_version": "1.2.0",
            "_model_name": "LayoutModel",
            "_view_count": null,
            "_view_module": "@jupyter-widgets/base",
            "_view_module_version": "1.2.0",
            "_view_name": "LayoutView",
            "align_content": null,
            "align_items": null,
            "align_self": null,
            "border": null,
            "bottom": null,
            "display": null,
            "flex": null,
            "flex_flow": null,
            "grid_area": null,
            "grid_auto_columns": null,
            "grid_auto_flow": null,
            "grid_auto_rows": null,
            "grid_column": null,
            "grid_gap": null,
            "grid_row": null,
            "grid_template_areas": null,
            "grid_template_columns": null,
            "grid_template_rows": null,
            "height": null,
            "justify_content": null,
            "justify_items": null,
            "left": null,
            "margin": null,
            "max_height": null,
            "max_width": null,
            "min_height": null,
            "min_width": null,
            "object_fit": null,
            "object_position": null,
            "order": null,
            "overflow": null,
            "overflow_x": null,
            "overflow_y": null,
            "padding": null,
            "right": null,
            "top": null,
            "visibility": null,
            "width": null
          }
        },
        "b8a1340c170e4ccc88616d45a1d2f018": {
          "model_module": "@jupyter-widgets/controls",
          "model_name": "DescriptionStyleModel",
          "model_module_version": "1.5.0",
          "state": {
            "_model_module": "@jupyter-widgets/controls",
            "_model_module_version": "1.5.0",
            "_model_name": "DescriptionStyleModel",
            "_view_count": null,
            "_view_module": "@jupyter-widgets/base",
            "_view_module_version": "1.2.0",
            "_view_name": "StyleView",
            "description_width": ""
          }
        },
        "1ee9784d181e46c19a146fea9a21f1b8": {
          "model_module": "@jupyter-widgets/controls",
          "model_name": "HBoxModel",
          "model_module_version": "1.5.0",
          "state": {
            "_dom_classes": [],
            "_model_module": "@jupyter-widgets/controls",
            "_model_module_version": "1.5.0",
            "_model_name": "HBoxModel",
            "_view_count": null,
            "_view_module": "@jupyter-widgets/controls",
            "_view_module_version": "1.5.0",
            "_view_name": "HBoxView",
            "box_style": "",
            "children": [
              "IPY_MODEL_dc1964fedb5f41c88fdf0906197f9964",
              "IPY_MODEL_fe589813af4e413d910c706d05410f36",
              "IPY_MODEL_7d8e4a3ed5354bd49f48902406105c3f"
            ],
            "layout": "IPY_MODEL_dd6b40ea929144ba9c02c20eb3d218dd"
          }
        },
        "dc1964fedb5f41c88fdf0906197f9964": {
          "model_module": "@jupyter-widgets/controls",
          "model_name": "HTMLModel",
          "model_module_version": "1.5.0",
          "state": {
            "_dom_classes": [],
            "_model_module": "@jupyter-widgets/controls",
            "_model_module_version": "1.5.0",
            "_model_name": "HTMLModel",
            "_view_count": null,
            "_view_module": "@jupyter-widgets/controls",
            "_view_module_version": "1.5.0",
            "_view_name": "HTMLView",
            "description": "",
            "description_tooltip": null,
            "layout": "IPY_MODEL_30653a3b1fed4da8a85799ce25afbdb8",
            "placeholder": "​",
            "style": "IPY_MODEL_9e5faa1d906a4fa39c3205696a247589",
            "value": "sentencepiece.bpe.model: 100%"
          }
        },
        "fe589813af4e413d910c706d05410f36": {
          "model_module": "@jupyter-widgets/controls",
          "model_name": "FloatProgressModel",
          "model_module_version": "1.5.0",
          "state": {
            "_dom_classes": [],
            "_model_module": "@jupyter-widgets/controls",
            "_model_module_version": "1.5.0",
            "_model_name": "FloatProgressModel",
            "_view_count": null,
            "_view_module": "@jupyter-widgets/controls",
            "_view_module_version": "1.5.0",
            "_view_name": "ProgressView",
            "bar_style": "success",
            "description": "",
            "description_tooltip": null,
            "layout": "IPY_MODEL_2e45ad1efb3e4c6d8ed63117c91bcde1",
            "max": 5069051,
            "min": 0,
            "orientation": "horizontal",
            "style": "IPY_MODEL_1c3e5f9323df4c56a17e583e91f39a64",
            "value": 5069051
          }
        },
        "7d8e4a3ed5354bd49f48902406105c3f": {
          "model_module": "@jupyter-widgets/controls",
          "model_name": "HTMLModel",
          "model_module_version": "1.5.0",
          "state": {
            "_dom_classes": [],
            "_model_module": "@jupyter-widgets/controls",
            "_model_module_version": "1.5.0",
            "_model_name": "HTMLModel",
            "_view_count": null,
            "_view_module": "@jupyter-widgets/controls",
            "_view_module_version": "1.5.0",
            "_view_name": "HTMLView",
            "description": "",
            "description_tooltip": null,
            "layout": "IPY_MODEL_c0500e877c6d42978eb4a3a2e09620d1",
            "placeholder": "​",
            "style": "IPY_MODEL_5c973bb801ab47b0b78784cbc5f0e97a",
            "value": " 5.07M/5.07M [00:00&lt;00:00, 88.1MB/s]"
          }
        },
        "dd6b40ea929144ba9c02c20eb3d218dd": {
          "model_module": "@jupyter-widgets/base",
          "model_name": "LayoutModel",
          "model_module_version": "1.2.0",
          "state": {
            "_model_module": "@jupyter-widgets/base",
            "_model_module_version": "1.2.0",
            "_model_name": "LayoutModel",
            "_view_count": null,
            "_view_module": "@jupyter-widgets/base",
            "_view_module_version": "1.2.0",
            "_view_name": "LayoutView",
            "align_content": null,
            "align_items": null,
            "align_self": null,
            "border": null,
            "bottom": null,
            "display": null,
            "flex": null,
            "flex_flow": null,
            "grid_area": null,
            "grid_auto_columns": null,
            "grid_auto_flow": null,
            "grid_auto_rows": null,
            "grid_column": null,
            "grid_gap": null,
            "grid_row": null,
            "grid_template_areas": null,
            "grid_template_columns": null,
            "grid_template_rows": null,
            "height": null,
            "justify_content": null,
            "justify_items": null,
            "left": null,
            "margin": null,
            "max_height": null,
            "max_width": null,
            "min_height": null,
            "min_width": null,
            "object_fit": null,
            "object_position": null,
            "order": null,
            "overflow": null,
            "overflow_x": null,
            "overflow_y": null,
            "padding": null,
            "right": null,
            "top": null,
            "visibility": null,
            "width": null
          }
        },
        "30653a3b1fed4da8a85799ce25afbdb8": {
          "model_module": "@jupyter-widgets/base",
          "model_name": "LayoutModel",
          "model_module_version": "1.2.0",
          "state": {
            "_model_module": "@jupyter-widgets/base",
            "_model_module_version": "1.2.0",
            "_model_name": "LayoutModel",
            "_view_count": null,
            "_view_module": "@jupyter-widgets/base",
            "_view_module_version": "1.2.0",
            "_view_name": "LayoutView",
            "align_content": null,
            "align_items": null,
            "align_self": null,
            "border": null,
            "bottom": null,
            "display": null,
            "flex": null,
            "flex_flow": null,
            "grid_area": null,
            "grid_auto_columns": null,
            "grid_auto_flow": null,
            "grid_auto_rows": null,
            "grid_column": null,
            "grid_gap": null,
            "grid_row": null,
            "grid_template_areas": null,
            "grid_template_columns": null,
            "grid_template_rows": null,
            "height": null,
            "justify_content": null,
            "justify_items": null,
            "left": null,
            "margin": null,
            "max_height": null,
            "max_width": null,
            "min_height": null,
            "min_width": null,
            "object_fit": null,
            "object_position": null,
            "order": null,
            "overflow": null,
            "overflow_x": null,
            "overflow_y": null,
            "padding": null,
            "right": null,
            "top": null,
            "visibility": null,
            "width": null
          }
        },
        "9e5faa1d906a4fa39c3205696a247589": {
          "model_module": "@jupyter-widgets/controls",
          "model_name": "DescriptionStyleModel",
          "model_module_version": "1.5.0",
          "state": {
            "_model_module": "@jupyter-widgets/controls",
            "_model_module_version": "1.5.0",
            "_model_name": "DescriptionStyleModel",
            "_view_count": null,
            "_view_module": "@jupyter-widgets/base",
            "_view_module_version": "1.2.0",
            "_view_name": "StyleView",
            "description_width": ""
          }
        },
        "2e45ad1efb3e4c6d8ed63117c91bcde1": {
          "model_module": "@jupyter-widgets/base",
          "model_name": "LayoutModel",
          "model_module_version": "1.2.0",
          "state": {
            "_model_module": "@jupyter-widgets/base",
            "_model_module_version": "1.2.0",
            "_model_name": "LayoutModel",
            "_view_count": null,
            "_view_module": "@jupyter-widgets/base",
            "_view_module_version": "1.2.0",
            "_view_name": "LayoutView",
            "align_content": null,
            "align_items": null,
            "align_self": null,
            "border": null,
            "bottom": null,
            "display": null,
            "flex": null,
            "flex_flow": null,
            "grid_area": null,
            "grid_auto_columns": null,
            "grid_auto_flow": null,
            "grid_auto_rows": null,
            "grid_column": null,
            "grid_gap": null,
            "grid_row": null,
            "grid_template_areas": null,
            "grid_template_columns": null,
            "grid_template_rows": null,
            "height": null,
            "justify_content": null,
            "justify_items": null,
            "left": null,
            "margin": null,
            "max_height": null,
            "max_width": null,
            "min_height": null,
            "min_width": null,
            "object_fit": null,
            "object_position": null,
            "order": null,
            "overflow": null,
            "overflow_x": null,
            "overflow_y": null,
            "padding": null,
            "right": null,
            "top": null,
            "visibility": null,
            "width": null
          }
        },
        "1c3e5f9323df4c56a17e583e91f39a64": {
          "model_module": "@jupyter-widgets/controls",
          "model_name": "ProgressStyleModel",
          "model_module_version": "1.5.0",
          "state": {
            "_model_module": "@jupyter-widgets/controls",
            "_model_module_version": "1.5.0",
            "_model_name": "ProgressStyleModel",
            "_view_count": null,
            "_view_module": "@jupyter-widgets/base",
            "_view_module_version": "1.2.0",
            "_view_name": "StyleView",
            "bar_color": null,
            "description_width": ""
          }
        },
        "c0500e877c6d42978eb4a3a2e09620d1": {
          "model_module": "@jupyter-widgets/base",
          "model_name": "LayoutModel",
          "model_module_version": "1.2.0",
          "state": {
            "_model_module": "@jupyter-widgets/base",
            "_model_module_version": "1.2.0",
            "_model_name": "LayoutModel",
            "_view_count": null,
            "_view_module": "@jupyter-widgets/base",
            "_view_module_version": "1.2.0",
            "_view_name": "LayoutView",
            "align_content": null,
            "align_items": null,
            "align_self": null,
            "border": null,
            "bottom": null,
            "display": null,
            "flex": null,
            "flex_flow": null,
            "grid_area": null,
            "grid_auto_columns": null,
            "grid_auto_flow": null,
            "grid_auto_rows": null,
            "grid_column": null,
            "grid_gap": null,
            "grid_row": null,
            "grid_template_areas": null,
            "grid_template_columns": null,
            "grid_template_rows": null,
            "height": null,
            "justify_content": null,
            "justify_items": null,
            "left": null,
            "margin": null,
            "max_height": null,
            "max_width": null,
            "min_height": null,
            "min_width": null,
            "object_fit": null,
            "object_position": null,
            "order": null,
            "overflow": null,
            "overflow_x": null,
            "overflow_y": null,
            "padding": null,
            "right": null,
            "top": null,
            "visibility": null,
            "width": null
          }
        },
        "5c973bb801ab47b0b78784cbc5f0e97a": {
          "model_module": "@jupyter-widgets/controls",
          "model_name": "DescriptionStyleModel",
          "model_module_version": "1.5.0",
          "state": {
            "_model_module": "@jupyter-widgets/controls",
            "_model_module_version": "1.5.0",
            "_model_name": "DescriptionStyleModel",
            "_view_count": null,
            "_view_module": "@jupyter-widgets/base",
            "_view_module_version": "1.2.0",
            "_view_name": "StyleView",
            "description_width": ""
          }
        },
        "de2ca79b0b5043dea76241d12bf5d50b": {
          "model_module": "@jupyter-widgets/controls",
          "model_name": "HBoxModel",
          "model_module_version": "1.5.0",
          "state": {
            "_dom_classes": [],
            "_model_module": "@jupyter-widgets/controls",
            "_model_module_version": "1.5.0",
            "_model_name": "HBoxModel",
            "_view_count": null,
            "_view_module": "@jupyter-widgets/controls",
            "_view_module_version": "1.5.0",
            "_view_name": "HBoxView",
            "box_style": "",
            "children": [
              "IPY_MODEL_1b2836c3b45745e39f2a5a6291714c6a",
              "IPY_MODEL_3839a483579943f187af72829b05acea",
              "IPY_MODEL_b0334359d5db40a0bbd9d7365fba3523"
            ],
            "layout": "IPY_MODEL_9d803af73b6d41f490603aed147cd0b0"
          }
        },
        "1b2836c3b45745e39f2a5a6291714c6a": {
          "model_module": "@jupyter-widgets/controls",
          "model_name": "HTMLModel",
          "model_module_version": "1.5.0",
          "state": {
            "_dom_classes": [],
            "_model_module": "@jupyter-widgets/controls",
            "_model_module_version": "1.5.0",
            "_model_name": "HTMLModel",
            "_view_count": null,
            "_view_module": "@jupyter-widgets/controls",
            "_view_module_version": "1.5.0",
            "_view_name": "HTMLView",
            "description": "",
            "description_tooltip": null,
            "layout": "IPY_MODEL_183cc4b09bfc483c9864c4fa74d060ea",
            "placeholder": "​",
            "style": "IPY_MODEL_7fc87137c13a46f38cf713da8fcb51e6",
            "value": "tokenizer.json: 100%"
          }
        },
        "3839a483579943f187af72829b05acea": {
          "model_module": "@jupyter-widgets/controls",
          "model_name": "FloatProgressModel",
          "model_module_version": "1.5.0",
          "state": {
            "_dom_classes": [],
            "_model_module": "@jupyter-widgets/controls",
            "_model_module_version": "1.5.0",
            "_model_name": "FloatProgressModel",
            "_view_count": null,
            "_view_module": "@jupyter-widgets/controls",
            "_view_module_version": "1.5.0",
            "_view_name": "ProgressView",
            "bar_style": "success",
            "description": "",
            "description_tooltip": null,
            "layout": "IPY_MODEL_3f8ab5499e2b4555ae0a49817ea975db",
            "max": 17082660,
            "min": 0,
            "orientation": "horizontal",
            "style": "IPY_MODEL_d5b92d8e6bed4c0a9de8ec0e249230bf",
            "value": 17082660
          }
        },
        "b0334359d5db40a0bbd9d7365fba3523": {
          "model_module": "@jupyter-widgets/controls",
          "model_name": "HTMLModel",
          "model_module_version": "1.5.0",
          "state": {
            "_dom_classes": [],
            "_model_module": "@jupyter-widgets/controls",
            "_model_module_version": "1.5.0",
            "_model_name": "HTMLModel",
            "_view_count": null,
            "_view_module": "@jupyter-widgets/controls",
            "_view_module_version": "1.5.0",
            "_view_name": "HTMLView",
            "description": "",
            "description_tooltip": null,
            "layout": "IPY_MODEL_6e25a771d228450bbd0051b94ef2bf09",
            "placeholder": "​",
            "style": "IPY_MODEL_bcc17c4c07204eee9b91516b8c3782eb",
            "value": " 17.1M/17.1M [00:00&lt;00:00, 152MB/s]"
          }
        },
        "9d803af73b6d41f490603aed147cd0b0": {
          "model_module": "@jupyter-widgets/base",
          "model_name": "LayoutModel",
          "model_module_version": "1.2.0",
          "state": {
            "_model_module": "@jupyter-widgets/base",
            "_model_module_version": "1.2.0",
            "_model_name": "LayoutModel",
            "_view_count": null,
            "_view_module": "@jupyter-widgets/base",
            "_view_module_version": "1.2.0",
            "_view_name": "LayoutView",
            "align_content": null,
            "align_items": null,
            "align_self": null,
            "border": null,
            "bottom": null,
            "display": null,
            "flex": null,
            "flex_flow": null,
            "grid_area": null,
            "grid_auto_columns": null,
            "grid_auto_flow": null,
            "grid_auto_rows": null,
            "grid_column": null,
            "grid_gap": null,
            "grid_row": null,
            "grid_template_areas": null,
            "grid_template_columns": null,
            "grid_template_rows": null,
            "height": null,
            "justify_content": null,
            "justify_items": null,
            "left": null,
            "margin": null,
            "max_height": null,
            "max_width": null,
            "min_height": null,
            "min_width": null,
            "object_fit": null,
            "object_position": null,
            "order": null,
            "overflow": null,
            "overflow_x": null,
            "overflow_y": null,
            "padding": null,
            "right": null,
            "top": null,
            "visibility": null,
            "width": null
          }
        },
        "183cc4b09bfc483c9864c4fa74d060ea": {
          "model_module": "@jupyter-widgets/base",
          "model_name": "LayoutModel",
          "model_module_version": "1.2.0",
          "state": {
            "_model_module": "@jupyter-widgets/base",
            "_model_module_version": "1.2.0",
            "_model_name": "LayoutModel",
            "_view_count": null,
            "_view_module": "@jupyter-widgets/base",
            "_view_module_version": "1.2.0",
            "_view_name": "LayoutView",
            "align_content": null,
            "align_items": null,
            "align_self": null,
            "border": null,
            "bottom": null,
            "display": null,
            "flex": null,
            "flex_flow": null,
            "grid_area": null,
            "grid_auto_columns": null,
            "grid_auto_flow": null,
            "grid_auto_rows": null,
            "grid_column": null,
            "grid_gap": null,
            "grid_row": null,
            "grid_template_areas": null,
            "grid_template_columns": null,
            "grid_template_rows": null,
            "height": null,
            "justify_content": null,
            "justify_items": null,
            "left": null,
            "margin": null,
            "max_height": null,
            "max_width": null,
            "min_height": null,
            "min_width": null,
            "object_fit": null,
            "object_position": null,
            "order": null,
            "overflow": null,
            "overflow_x": null,
            "overflow_y": null,
            "padding": null,
            "right": null,
            "top": null,
            "visibility": null,
            "width": null
          }
        },
        "7fc87137c13a46f38cf713da8fcb51e6": {
          "model_module": "@jupyter-widgets/controls",
          "model_name": "DescriptionStyleModel",
          "model_module_version": "1.5.0",
          "state": {
            "_model_module": "@jupyter-widgets/controls",
            "_model_module_version": "1.5.0",
            "_model_name": "DescriptionStyleModel",
            "_view_count": null,
            "_view_module": "@jupyter-widgets/base",
            "_view_module_version": "1.2.0",
            "_view_name": "StyleView",
            "description_width": ""
          }
        },
        "3f8ab5499e2b4555ae0a49817ea975db": {
          "model_module": "@jupyter-widgets/base",
          "model_name": "LayoutModel",
          "model_module_version": "1.2.0",
          "state": {
            "_model_module": "@jupyter-widgets/base",
            "_model_module_version": "1.2.0",
            "_model_name": "LayoutModel",
            "_view_count": null,
            "_view_module": "@jupyter-widgets/base",
            "_view_module_version": "1.2.0",
            "_view_name": "LayoutView",
            "align_content": null,
            "align_items": null,
            "align_self": null,
            "border": null,
            "bottom": null,
            "display": null,
            "flex": null,
            "flex_flow": null,
            "grid_area": null,
            "grid_auto_columns": null,
            "grid_auto_flow": null,
            "grid_auto_rows": null,
            "grid_column": null,
            "grid_gap": null,
            "grid_row": null,
            "grid_template_areas": null,
            "grid_template_columns": null,
            "grid_template_rows": null,
            "height": null,
            "justify_content": null,
            "justify_items": null,
            "left": null,
            "margin": null,
            "max_height": null,
            "max_width": null,
            "min_height": null,
            "min_width": null,
            "object_fit": null,
            "object_position": null,
            "order": null,
            "overflow": null,
            "overflow_x": null,
            "overflow_y": null,
            "padding": null,
            "right": null,
            "top": null,
            "visibility": null,
            "width": null
          }
        },
        "d5b92d8e6bed4c0a9de8ec0e249230bf": {
          "model_module": "@jupyter-widgets/controls",
          "model_name": "ProgressStyleModel",
          "model_module_version": "1.5.0",
          "state": {
            "_model_module": "@jupyter-widgets/controls",
            "_model_module_version": "1.5.0",
            "_model_name": "ProgressStyleModel",
            "_view_count": null,
            "_view_module": "@jupyter-widgets/base",
            "_view_module_version": "1.2.0",
            "_view_name": "StyleView",
            "bar_color": null,
            "description_width": ""
          }
        },
        "6e25a771d228450bbd0051b94ef2bf09": {
          "model_module": "@jupyter-widgets/base",
          "model_name": "LayoutModel",
          "model_module_version": "1.2.0",
          "state": {
            "_model_module": "@jupyter-widgets/base",
            "_model_module_version": "1.2.0",
            "_model_name": "LayoutModel",
            "_view_count": null,
            "_view_module": "@jupyter-widgets/base",
            "_view_module_version": "1.2.0",
            "_view_name": "LayoutView",
            "align_content": null,
            "align_items": null,
            "align_self": null,
            "border": null,
            "bottom": null,
            "display": null,
            "flex": null,
            "flex_flow": null,
            "grid_area": null,
            "grid_auto_columns": null,
            "grid_auto_flow": null,
            "grid_auto_rows": null,
            "grid_column": null,
            "grid_gap": null,
            "grid_row": null,
            "grid_template_areas": null,
            "grid_template_columns": null,
            "grid_template_rows": null,
            "height": null,
            "justify_content": null,
            "justify_items": null,
            "left": null,
            "margin": null,
            "max_height": null,
            "max_width": null,
            "min_height": null,
            "min_width": null,
            "object_fit": null,
            "object_position": null,
            "order": null,
            "overflow": null,
            "overflow_x": null,
            "overflow_y": null,
            "padding": null,
            "right": null,
            "top": null,
            "visibility": null,
            "width": null
          }
        },
        "bcc17c4c07204eee9b91516b8c3782eb": {
          "model_module": "@jupyter-widgets/controls",
          "model_name": "DescriptionStyleModel",
          "model_module_version": "1.5.0",
          "state": {
            "_model_module": "@jupyter-widgets/controls",
            "_model_module_version": "1.5.0",
            "_model_name": "DescriptionStyleModel",
            "_view_count": null,
            "_view_module": "@jupyter-widgets/base",
            "_view_module_version": "1.2.0",
            "_view_name": "StyleView",
            "description_width": ""
          }
        },
        "a5030acc79664ccea78e529830973833": {
          "model_module": "@jupyter-widgets/controls",
          "model_name": "HBoxModel",
          "model_module_version": "1.5.0",
          "state": {
            "_dom_classes": [],
            "_model_module": "@jupyter-widgets/controls",
            "_model_module_version": "1.5.0",
            "_model_name": "HBoxModel",
            "_view_count": null,
            "_view_module": "@jupyter-widgets/controls",
            "_view_module_version": "1.5.0",
            "_view_name": "HBoxView",
            "box_style": "",
            "children": [
              "IPY_MODEL_117dd456b5344608b31b6a2c7be22eea",
              "IPY_MODEL_ed94e538ace14cdf98d280d60c461c65",
              "IPY_MODEL_0656299a189c4ec1a4533ad33874efc4"
            ],
            "layout": "IPY_MODEL_a2f0cd5b956f453a9d580ff68b97f093"
          }
        },
        "117dd456b5344608b31b6a2c7be22eea": {
          "model_module": "@jupyter-widgets/controls",
          "model_name": "HTMLModel",
          "model_module_version": "1.5.0",
          "state": {
            "_dom_classes": [],
            "_model_module": "@jupyter-widgets/controls",
            "_model_module_version": "1.5.0",
            "_model_name": "HTMLModel",
            "_view_count": null,
            "_view_module": "@jupyter-widgets/controls",
            "_view_module_version": "1.5.0",
            "_view_name": "HTMLView",
            "description": "",
            "description_tooltip": null,
            "layout": "IPY_MODEL_c5befba4127e43ed89038a5f5b445d72",
            "placeholder": "​",
            "style": "IPY_MODEL_e805495ab06f49dd9353fa47ccef8001",
            "value": "special_tokens_map.json: 100%"
          }
        },
        "ed94e538ace14cdf98d280d60c461c65": {
          "model_module": "@jupyter-widgets/controls",
          "model_name": "FloatProgressModel",
          "model_module_version": "1.5.0",
          "state": {
            "_dom_classes": [],
            "_model_module": "@jupyter-widgets/controls",
            "_model_module_version": "1.5.0",
            "_model_name": "FloatProgressModel",
            "_view_count": null,
            "_view_module": "@jupyter-widgets/controls",
            "_view_module_version": "1.5.0",
            "_view_name": "ProgressView",
            "bar_style": "success",
            "description": "",
            "description_tooltip": null,
            "layout": "IPY_MODEL_b43a5acdccfa4412bc5f7cc72dba0b3a",
            "max": 280,
            "min": 0,
            "orientation": "horizontal",
            "style": "IPY_MODEL_f6fde6e2f58d437899aaa6f2ccf381c0",
            "value": 280
          }
        },
        "0656299a189c4ec1a4533ad33874efc4": {
          "model_module": "@jupyter-widgets/controls",
          "model_name": "HTMLModel",
          "model_module_version": "1.5.0",
          "state": {
            "_dom_classes": [],
            "_model_module": "@jupyter-widgets/controls",
            "_model_module_version": "1.5.0",
            "_model_name": "HTMLModel",
            "_view_count": null,
            "_view_module": "@jupyter-widgets/controls",
            "_view_module_version": "1.5.0",
            "_view_name": "HTMLView",
            "description": "",
            "description_tooltip": null,
            "layout": "IPY_MODEL_c64ecc32832c48baa72e3f91be536443",
            "placeholder": "​",
            "style": "IPY_MODEL_78f88c3982a449a9995284397807c39c",
            "value": " 280/280 [00:00&lt;00:00, 21.2kB/s]"
          }
        },
        "a2f0cd5b956f453a9d580ff68b97f093": {
          "model_module": "@jupyter-widgets/base",
          "model_name": "LayoutModel",
          "model_module_version": "1.2.0",
          "state": {
            "_model_module": "@jupyter-widgets/base",
            "_model_module_version": "1.2.0",
            "_model_name": "LayoutModel",
            "_view_count": null,
            "_view_module": "@jupyter-widgets/base",
            "_view_module_version": "1.2.0",
            "_view_name": "LayoutView",
            "align_content": null,
            "align_items": null,
            "align_self": null,
            "border": null,
            "bottom": null,
            "display": null,
            "flex": null,
            "flex_flow": null,
            "grid_area": null,
            "grid_auto_columns": null,
            "grid_auto_flow": null,
            "grid_auto_rows": null,
            "grid_column": null,
            "grid_gap": null,
            "grid_row": null,
            "grid_template_areas": null,
            "grid_template_columns": null,
            "grid_template_rows": null,
            "height": null,
            "justify_content": null,
            "justify_items": null,
            "left": null,
            "margin": null,
            "max_height": null,
            "max_width": null,
            "min_height": null,
            "min_width": null,
            "object_fit": null,
            "object_position": null,
            "order": null,
            "overflow": null,
            "overflow_x": null,
            "overflow_y": null,
            "padding": null,
            "right": null,
            "top": null,
            "visibility": null,
            "width": null
          }
        },
        "c5befba4127e43ed89038a5f5b445d72": {
          "model_module": "@jupyter-widgets/base",
          "model_name": "LayoutModel",
          "model_module_version": "1.2.0",
          "state": {
            "_model_module": "@jupyter-widgets/base",
            "_model_module_version": "1.2.0",
            "_model_name": "LayoutModel",
            "_view_count": null,
            "_view_module": "@jupyter-widgets/base",
            "_view_module_version": "1.2.0",
            "_view_name": "LayoutView",
            "align_content": null,
            "align_items": null,
            "align_self": null,
            "border": null,
            "bottom": null,
            "display": null,
            "flex": null,
            "flex_flow": null,
            "grid_area": null,
            "grid_auto_columns": null,
            "grid_auto_flow": null,
            "grid_auto_rows": null,
            "grid_column": null,
            "grid_gap": null,
            "grid_row": null,
            "grid_template_areas": null,
            "grid_template_columns": null,
            "grid_template_rows": null,
            "height": null,
            "justify_content": null,
            "justify_items": null,
            "left": null,
            "margin": null,
            "max_height": null,
            "max_width": null,
            "min_height": null,
            "min_width": null,
            "object_fit": null,
            "object_position": null,
            "order": null,
            "overflow": null,
            "overflow_x": null,
            "overflow_y": null,
            "padding": null,
            "right": null,
            "top": null,
            "visibility": null,
            "width": null
          }
        },
        "e805495ab06f49dd9353fa47ccef8001": {
          "model_module": "@jupyter-widgets/controls",
          "model_name": "DescriptionStyleModel",
          "model_module_version": "1.5.0",
          "state": {
            "_model_module": "@jupyter-widgets/controls",
            "_model_module_version": "1.5.0",
            "_model_name": "DescriptionStyleModel",
            "_view_count": null,
            "_view_module": "@jupyter-widgets/base",
            "_view_module_version": "1.2.0",
            "_view_name": "StyleView",
            "description_width": ""
          }
        },
        "b43a5acdccfa4412bc5f7cc72dba0b3a": {
          "model_module": "@jupyter-widgets/base",
          "model_name": "LayoutModel",
          "model_module_version": "1.2.0",
          "state": {
            "_model_module": "@jupyter-widgets/base",
            "_model_module_version": "1.2.0",
            "_model_name": "LayoutModel",
            "_view_count": null,
            "_view_module": "@jupyter-widgets/base",
            "_view_module_version": "1.2.0",
            "_view_name": "LayoutView",
            "align_content": null,
            "align_items": null,
            "align_self": null,
            "border": null,
            "bottom": null,
            "display": null,
            "flex": null,
            "flex_flow": null,
            "grid_area": null,
            "grid_auto_columns": null,
            "grid_auto_flow": null,
            "grid_auto_rows": null,
            "grid_column": null,
            "grid_gap": null,
            "grid_row": null,
            "grid_template_areas": null,
            "grid_template_columns": null,
            "grid_template_rows": null,
            "height": null,
            "justify_content": null,
            "justify_items": null,
            "left": null,
            "margin": null,
            "max_height": null,
            "max_width": null,
            "min_height": null,
            "min_width": null,
            "object_fit": null,
            "object_position": null,
            "order": null,
            "overflow": null,
            "overflow_x": null,
            "overflow_y": null,
            "padding": null,
            "right": null,
            "top": null,
            "visibility": null,
            "width": null
          }
        },
        "f6fde6e2f58d437899aaa6f2ccf381c0": {
          "model_module": "@jupyter-widgets/controls",
          "model_name": "ProgressStyleModel",
          "model_module_version": "1.5.0",
          "state": {
            "_model_module": "@jupyter-widgets/controls",
            "_model_module_version": "1.5.0",
            "_model_name": "ProgressStyleModel",
            "_view_count": null,
            "_view_module": "@jupyter-widgets/base",
            "_view_module_version": "1.2.0",
            "_view_name": "StyleView",
            "bar_color": null,
            "description_width": ""
          }
        },
        "c64ecc32832c48baa72e3f91be536443": {
          "model_module": "@jupyter-widgets/base",
          "model_name": "LayoutModel",
          "model_module_version": "1.2.0",
          "state": {
            "_model_module": "@jupyter-widgets/base",
            "_model_module_version": "1.2.0",
            "_model_name": "LayoutModel",
            "_view_count": null,
            "_view_module": "@jupyter-widgets/base",
            "_view_module_version": "1.2.0",
            "_view_name": "LayoutView",
            "align_content": null,
            "align_items": null,
            "align_self": null,
            "border": null,
            "bottom": null,
            "display": null,
            "flex": null,
            "flex_flow": null,
            "grid_area": null,
            "grid_auto_columns": null,
            "grid_auto_flow": null,
            "grid_auto_rows": null,
            "grid_column": null,
            "grid_gap": null,
            "grid_row": null,
            "grid_template_areas": null,
            "grid_template_columns": null,
            "grid_template_rows": null,
            "height": null,
            "justify_content": null,
            "justify_items": null,
            "left": null,
            "margin": null,
            "max_height": null,
            "max_width": null,
            "min_height": null,
            "min_width": null,
            "object_fit": null,
            "object_position": null,
            "order": null,
            "overflow": null,
            "overflow_x": null,
            "overflow_y": null,
            "padding": null,
            "right": null,
            "top": null,
            "visibility": null,
            "width": null
          }
        },
        "78f88c3982a449a9995284397807c39c": {
          "model_module": "@jupyter-widgets/controls",
          "model_name": "DescriptionStyleModel",
          "model_module_version": "1.5.0",
          "state": {
            "_model_module": "@jupyter-widgets/controls",
            "_model_module_version": "1.5.0",
            "_model_name": "DescriptionStyleModel",
            "_view_count": null,
            "_view_module": "@jupyter-widgets/base",
            "_view_module_version": "1.2.0",
            "_view_name": "StyleView",
            "description_width": ""
          }
        },
        "6d48aad47f9443b19ad5ba234189f48c": {
          "model_module": "@jupyter-widgets/controls",
          "model_name": "HBoxModel",
          "model_module_version": "1.5.0",
          "state": {
            "_dom_classes": [],
            "_model_module": "@jupyter-widgets/controls",
            "_model_module_version": "1.5.0",
            "_model_name": "HBoxModel",
            "_view_count": null,
            "_view_module": "@jupyter-widgets/controls",
            "_view_module_version": "1.5.0",
            "_view_name": "HBoxView",
            "box_style": "",
            "children": [
              "IPY_MODEL_12a0673c358a465fb38b9548ed456620",
              "IPY_MODEL_0221c25e123b4c77930a3146079b5787",
              "IPY_MODEL_c9c3aaca5d64474fa78f4e56420c1ace"
            ],
            "layout": "IPY_MODEL_ee3f6c70049b4f06b852ebb30f45f834"
          }
        },
        "12a0673c358a465fb38b9548ed456620": {
          "model_module": "@jupyter-widgets/controls",
          "model_name": "HTMLModel",
          "model_module_version": "1.5.0",
          "state": {
            "_dom_classes": [],
            "_model_module": "@jupyter-widgets/controls",
            "_model_module_version": "1.5.0",
            "_model_name": "HTMLModel",
            "_view_count": null,
            "_view_module": "@jupyter-widgets/controls",
            "_view_module_version": "1.5.0",
            "_view_name": "HTMLView",
            "description": "",
            "description_tooltip": null,
            "layout": "IPY_MODEL_c9792204bc2747aeb048d4ed72bcc053",
            "placeholder": "​",
            "style": "IPY_MODEL_0902d339302748f0bc3213c5a3def329",
            "value": "config.json: 100%"
          }
        },
        "0221c25e123b4c77930a3146079b5787": {
          "model_module": "@jupyter-widgets/controls",
          "model_name": "FloatProgressModel",
          "model_module_version": "1.5.0",
          "state": {
            "_dom_classes": [],
            "_model_module": "@jupyter-widgets/controls",
            "_model_module_version": "1.5.0",
            "_model_name": "FloatProgressModel",
            "_view_count": null,
            "_view_module": "@jupyter-widgets/controls",
            "_view_module_version": "1.5.0",
            "_view_name": "ProgressView",
            "bar_style": "success",
            "description": "",
            "description_tooltip": null,
            "layout": "IPY_MODEL_4c3db619ab104cd2a4e95bdfb90e3af2",
            "max": 201,
            "min": 0,
            "orientation": "horizontal",
            "style": "IPY_MODEL_469ec13407a247f9aaf88ffb47c762db",
            "value": 201
          }
        },
        "c9c3aaca5d64474fa78f4e56420c1ace": {
          "model_module": "@jupyter-widgets/controls",
          "model_name": "HTMLModel",
          "model_module_version": "1.5.0",
          "state": {
            "_dom_classes": [],
            "_model_module": "@jupyter-widgets/controls",
            "_model_module_version": "1.5.0",
            "_model_name": "HTMLModel",
            "_view_count": null,
            "_view_module": "@jupyter-widgets/controls",
            "_view_module_version": "1.5.0",
            "_view_name": "HTMLView",
            "description": "",
            "description_tooltip": null,
            "layout": "IPY_MODEL_2019a23a157a4e16af6517bb50ea5034",
            "placeholder": "​",
            "style": "IPY_MODEL_d8bfcb6f3030496291cc20ae9d162736",
            "value": " 201/201 [00:00&lt;00:00, 10.6kB/s]"
          }
        },
        "ee3f6c70049b4f06b852ebb30f45f834": {
          "model_module": "@jupyter-widgets/base",
          "model_name": "LayoutModel",
          "model_module_version": "1.2.0",
          "state": {
            "_model_module": "@jupyter-widgets/base",
            "_model_module_version": "1.2.0",
            "_model_name": "LayoutModel",
            "_view_count": null,
            "_view_module": "@jupyter-widgets/base",
            "_view_module_version": "1.2.0",
            "_view_name": "LayoutView",
            "align_content": null,
            "align_items": null,
            "align_self": null,
            "border": null,
            "bottom": null,
            "display": null,
            "flex": null,
            "flex_flow": null,
            "grid_area": null,
            "grid_auto_columns": null,
            "grid_auto_flow": null,
            "grid_auto_rows": null,
            "grid_column": null,
            "grid_gap": null,
            "grid_row": null,
            "grid_template_areas": null,
            "grid_template_columns": null,
            "grid_template_rows": null,
            "height": null,
            "justify_content": null,
            "justify_items": null,
            "left": null,
            "margin": null,
            "max_height": null,
            "max_width": null,
            "min_height": null,
            "min_width": null,
            "object_fit": null,
            "object_position": null,
            "order": null,
            "overflow": null,
            "overflow_x": null,
            "overflow_y": null,
            "padding": null,
            "right": null,
            "top": null,
            "visibility": null,
            "width": null
          }
        },
        "c9792204bc2747aeb048d4ed72bcc053": {
          "model_module": "@jupyter-widgets/base",
          "model_name": "LayoutModel",
          "model_module_version": "1.2.0",
          "state": {
            "_model_module": "@jupyter-widgets/base",
            "_model_module_version": "1.2.0",
            "_model_name": "LayoutModel",
            "_view_count": null,
            "_view_module": "@jupyter-widgets/base",
            "_view_module_version": "1.2.0",
            "_view_name": "LayoutView",
            "align_content": null,
            "align_items": null,
            "align_self": null,
            "border": null,
            "bottom": null,
            "display": null,
            "flex": null,
            "flex_flow": null,
            "grid_area": null,
            "grid_auto_columns": null,
            "grid_auto_flow": null,
            "grid_auto_rows": null,
            "grid_column": null,
            "grid_gap": null,
            "grid_row": null,
            "grid_template_areas": null,
            "grid_template_columns": null,
            "grid_template_rows": null,
            "height": null,
            "justify_content": null,
            "justify_items": null,
            "left": null,
            "margin": null,
            "max_height": null,
            "max_width": null,
            "min_height": null,
            "min_width": null,
            "object_fit": null,
            "object_position": null,
            "order": null,
            "overflow": null,
            "overflow_x": null,
            "overflow_y": null,
            "padding": null,
            "right": null,
            "top": null,
            "visibility": null,
            "width": null
          }
        },
        "0902d339302748f0bc3213c5a3def329": {
          "model_module": "@jupyter-widgets/controls",
          "model_name": "DescriptionStyleModel",
          "model_module_version": "1.5.0",
          "state": {
            "_model_module": "@jupyter-widgets/controls",
            "_model_module_version": "1.5.0",
            "_model_name": "DescriptionStyleModel",
            "_view_count": null,
            "_view_module": "@jupyter-widgets/base",
            "_view_module_version": "1.2.0",
            "_view_name": "StyleView",
            "description_width": ""
          }
        },
        "4c3db619ab104cd2a4e95bdfb90e3af2": {
          "model_module": "@jupyter-widgets/base",
          "model_name": "LayoutModel",
          "model_module_version": "1.2.0",
          "state": {
            "_model_module": "@jupyter-widgets/base",
            "_model_module_version": "1.2.0",
            "_model_name": "LayoutModel",
            "_view_count": null,
            "_view_module": "@jupyter-widgets/base",
            "_view_module_version": "1.2.0",
            "_view_name": "LayoutView",
            "align_content": null,
            "align_items": null,
            "align_self": null,
            "border": null,
            "bottom": null,
            "display": null,
            "flex": null,
            "flex_flow": null,
            "grid_area": null,
            "grid_auto_columns": null,
            "grid_auto_flow": null,
            "grid_auto_rows": null,
            "grid_column": null,
            "grid_gap": null,
            "grid_row": null,
            "grid_template_areas": null,
            "grid_template_columns": null,
            "grid_template_rows": null,
            "height": null,
            "justify_content": null,
            "justify_items": null,
            "left": null,
            "margin": null,
            "max_height": null,
            "max_width": null,
            "min_height": null,
            "min_width": null,
            "object_fit": null,
            "object_position": null,
            "order": null,
            "overflow": null,
            "overflow_x": null,
            "overflow_y": null,
            "padding": null,
            "right": null,
            "top": null,
            "visibility": null,
            "width": null
          }
        },
        "469ec13407a247f9aaf88ffb47c762db": {
          "model_module": "@jupyter-widgets/controls",
          "model_name": "ProgressStyleModel",
          "model_module_version": "1.5.0",
          "state": {
            "_model_module": "@jupyter-widgets/controls",
            "_model_module_version": "1.5.0",
            "_model_name": "ProgressStyleModel",
            "_view_count": null,
            "_view_module": "@jupyter-widgets/base",
            "_view_module_version": "1.2.0",
            "_view_name": "StyleView",
            "bar_color": null,
            "description_width": ""
          }
        },
        "2019a23a157a4e16af6517bb50ea5034": {
          "model_module": "@jupyter-widgets/base",
          "model_name": "LayoutModel",
          "model_module_version": "1.2.0",
          "state": {
            "_model_module": "@jupyter-widgets/base",
            "_model_module_version": "1.2.0",
            "_model_name": "LayoutModel",
            "_view_count": null,
            "_view_module": "@jupyter-widgets/base",
            "_view_module_version": "1.2.0",
            "_view_name": "LayoutView",
            "align_content": null,
            "align_items": null,
            "align_self": null,
            "border": null,
            "bottom": null,
            "display": null,
            "flex": null,
            "flex_flow": null,
            "grid_area": null,
            "grid_auto_columns": null,
            "grid_auto_flow": null,
            "grid_auto_rows": null,
            "grid_column": null,
            "grid_gap": null,
            "grid_row": null,
            "grid_template_areas": null,
            "grid_template_columns": null,
            "grid_template_rows": null,
            "height": null,
            "justify_content": null,
            "justify_items": null,
            "left": null,
            "margin": null,
            "max_height": null,
            "max_width": null,
            "min_height": null,
            "min_width": null,
            "object_fit": null,
            "object_position": null,
            "order": null,
            "overflow": null,
            "overflow_x": null,
            "overflow_y": null,
            "padding": null,
            "right": null,
            "top": null,
            "visibility": null,
            "width": null
          }
        },
        "d8bfcb6f3030496291cc20ae9d162736": {
          "model_module": "@jupyter-widgets/controls",
          "model_name": "DescriptionStyleModel",
          "model_module_version": "1.5.0",
          "state": {
            "_model_module": "@jupyter-widgets/controls",
            "_model_module_version": "1.5.0",
            "_model_name": "DescriptionStyleModel",
            "_view_count": null,
            "_view_module": "@jupyter-widgets/base",
            "_view_module_version": "1.2.0",
            "_view_name": "StyleView",
            "description_width": ""
          }
        }
      }
    }
  },
  "cells": [
    {
      "cell_type": "markdown",
      "metadata": {
        "id": "view-in-github",
        "colab_type": "text"
      },
      "source": [
        "<a href=\"https://colab.research.google.com/github/piassinha/AULA-LUCIANO/blob/main/Aula07_Chatbot.ipynb\" target=\"_parent\"><img src=\"https://colab.research.google.com/assets/colab-badge.svg\" alt=\"Open In Colab\"/></a>"
      ]
    },
    {
      "cell_type": "code",
      "execution_count": 1,
      "metadata": {
        "colab": {
          "base_uri": "https://localhost:8080/"
        },
        "id": "qvt1f9LlfyJ5",
        "outputId": "164577fa-b60f-4ca5-bd60-c4d7e44ad0a7"
      },
      "outputs": [
        {
          "output_type": "stream",
          "name": "stdout",
          "text": [
            "\u001b[2K   \u001b[90m━━━━━━━━━━━━━━━━━━━━━━━━━━━━━━━━━━━━━━━━\u001b[0m \u001b[32m1.6/1.6 MB\u001b[0m \u001b[31m22.0 MB/s\u001b[0m eta \u001b[36m0:00:00\u001b[0m\n",
            "\u001b[2K   \u001b[90m━━━━━━━━━━━━━━━━━━━━━━━━━━━━━━━━━━━━━━━━\u001b[0m \u001b[32m40.4/40.4 kB\u001b[0m \u001b[31m2.4 MB/s\u001b[0m eta \u001b[36m0:00:00\u001b[0m\n",
            "\u001b[2K   \u001b[90m━━━━━━━━━━━━━━━━━━━━━━━━━━━━━━━━━━━━━━━━\u001b[0m \u001b[32m264.5/264.5 kB\u001b[0m \u001b[31m16.5 MB/s\u001b[0m eta \u001b[36m0:00:00\u001b[0m\n",
            "\u001b[2K   \u001b[90m━━━━━━━━━━━━━━━━━━━━━━━━━━━━━━━━━━━━━━━━\u001b[0m \u001b[32m302.3/302.3 kB\u001b[0m \u001b[31m17.6 MB/s\u001b[0m eta \u001b[36m0:00:00\u001b[0m\n",
            "\u001b[2K   \u001b[90m━━━━━━━━━━━━━━━━━━━━━━━━━━━━━━━━━━━━━━━━\u001b[0m \u001b[32m1.2/1.2 MB\u001b[0m \u001b[31m46.2 MB/s\u001b[0m eta \u001b[36m0:00:00\u001b[0m\n",
            "\u001b[2K   \u001b[90m━━━━━━━━━━━━━━━━━━━━━━━━━━━━━━━━━━━━━━━━\u001b[0m \u001b[32m50.9/50.9 kB\u001b[0m \u001b[31m3.2 MB/s\u001b[0m eta \u001b[36m0:00:00\u001b[0m\n",
            "\u001b[?25h"
          ]
        }
      ],
      "source": [
        "#instalando a biblioteca Llama index\n",
        "!pip install -q llama-index"
      ]
    },
    {
      "cell_type": "code",
      "source": [
        "# biblioteca para permitir a leitura de arquivos\n",
        "from llama_index.core import SimpleDirectoryReader"
      ],
      "metadata": {
        "id": "fXru1nNRgEve"
      },
      "execution_count": 2,
      "outputs": []
    },
    {
      "cell_type": "code",
      "source": [
        "documentos = SimpleDirectoryReader(input_dir='documentos')"
      ],
      "metadata": {
        "id": "EUBVlNClgJlN"
      },
      "execution_count": 3,
      "outputs": []
    },
    {
      "cell_type": "code",
      "source": [
        "documentos.input_files"
      ],
      "metadata": {
        "colab": {
          "base_uri": "https://localhost:8080/"
        },
        "id": "of-VyVo-gKrN",
        "outputId": "f8652d1f-34f0-40cd-999a-37062e30314f"
      },
      "execution_count": 114,
      "outputs": [
        {
          "output_type": "execute_result",
          "data": {
            "text/plain": [
              "[PosixPath('/content/documentos/doc_info_agricultura.pdf')]"
            ]
          },
          "metadata": {},
          "execution_count": 114
        }
      ]
    },
    {
      "cell_type": "code",
      "source": [
        "docs = documentos.load_data()"
      ],
      "metadata": {
        "colab": {
          "base_uri": "https://localhost:8080/"
        },
        "id": "PFQJpr6SgOU1",
        "outputId": "53b38115-bc28-47fd-982f-1d8c9f48455b"
      },
      "execution_count": 115,
      "outputs": [
        {
          "output_type": "stream",
          "name": "stderr",
          "text": [
            "WARNING:pypdf._reader:Ignoring wrong pointing object 6 0 (offset 0)\n",
            "WARNING:pypdf._reader:Ignoring wrong pointing object 8 0 (offset 0)\n",
            "WARNING:pypdf._reader:Ignoring wrong pointing object 11 0 (offset 0)\n"
          ]
        }
      ]
    },
    {
      "cell_type": "code",
      "source": [
        "docs"
      ],
      "metadata": {
        "colab": {
          "base_uri": "https://localhost:8080/"
        },
        "id": "eNrTRFZ5gPlJ",
        "outputId": "e9334535-c608-464f-ff35-ceb91507dfae"
      },
      "execution_count": 116,
      "outputs": [
        {
          "output_type": "execute_result",
          "data": {
            "text/plain": [
              "[Document(id_='abb89101-a385-4e6d-8039-494a6a8341c9', embedding=None, metadata={'page_label': '1', 'file_name': 'doc_info_agricultura.pdf', 'file_path': '/content/documentos/doc_info_agricultura.pdf', 'file_type': 'application/pdf', 'file_size': 30901, 'creation_date': '2025-03-19', 'last_modified_date': '2025-03-19'}, excluded_embed_metadata_keys=['file_name', 'file_type', 'file_size', 'creation_date', 'last_modified_date', 'last_accessed_date'], excluded_llm_metadata_keys=['file_name', 'file_type', 'file_size', 'creation_date', 'last_modified_date', 'last_accessed_date'], relationships={}, metadata_template='{key}: {value}', metadata_separator='\\n', text_resource=MediaResource(embeddings=None, data=None, text='Guia de Preparo do Solo para Plantio Informações Gerais P: Qual a importância do preparo adequado do solo? R: O preparo adequado do solo garante que as plantas tenham acesso aos nutrientes necessários, além de melhorar a retenção de água e a aeração, fatores essenciais para o crescimento saudável. P: Quais fatores devem ser considerados ao preparar o solo para o plantio? R: Os principais fatores incluem o tipo de solo, a umidade ideal, o pH, a compactação e a adubação adequada para cada cultura. Tipos de Solo e Seu Tratamento P: Quais os principais tipos de solo e como prepará-los? R: Existem diversos tipos de solo, cada um com características específicas e tratamentos recomendados: • Solo Arenoso: Drenagem rápida, baixo teor de nutrientes. Recomenda-se adição de matéria orgânica e irrigação frequente. • Solo Argiloso: Retém muita água, pode compactar facilmente. Aéreação e adição de areia podem melhorar a drenagem. • Solo Calcário: Alto pH, pouca disponibilidade de micronutrientes. Pode ser corrigido com adubação orgânica e fertilizantes ácidos. Sensores para Monitoramento da Umidade do Solo P: Quais sensores podem ser usados para monitorar a umidade do solo? R: Existem diversas tecnologias para medir a umidade do solo, entre elas: • Sensor Capacitivo de Umidade do Solo: Mede a variação da capacitância conforme o nível de umidade. • Sensor Resistivo de Umidade: Mede a condutividade elétrica do solo, variando conforme a umidade. • Sensor TDR (Time Domain Reflectometry): Utiliza pulsos eletromagnéticos para calcular a umidade com alta precisão. • Sondas de Tensiômetro: Medem a tensão com que a água está sendo retida no solo, indicando o nível de umidade disponível para as plantas. Esses sensores são fundamentais para o manejo eficiente da irrigação e para evitar estresse hídrico das plantas. Umidade e pH Ideais P: Como medir e ajustar a umidade do solo? R: A umidade pode ser medida com sensores ou testes simples (amassando o solo na mão). Para solos muito secos, a irrigação regular é essencial; para solos muito úmidos, drenagem adequada deve ser aplicada. ', path=None, url=None, mimetype=None), image_resource=None, audio_resource=None, video_resource=None, text_template='{metadata_str}\\n\\n{content}'),\n",
              " Document(id_='5bd6d210-8d45-4486-a1e5-54e3379ecb36', embedding=None, metadata={'page_label': '2', 'file_name': 'doc_info_agricultura.pdf', 'file_path': '/content/documentos/doc_info_agricultura.pdf', 'file_type': 'application/pdf', 'file_size': 30901, 'creation_date': '2025-03-19', 'last_modified_date': '2025-03-19'}, excluded_embed_metadata_keys=['file_name', 'file_type', 'file_size', 'creation_date', 'last_modified_date', 'last_accessed_date'], excluded_llm_metadata_keys=['file_name', 'file_type', 'file_size', 'creation_date', 'last_modified_date', 'last_accessed_date'], relationships={}, metadata_template='{key}: {value}', metadata_separator='\\n', text_resource=MediaResource(embeddings=None, data=None, text='P: Como ajustar o pH do solo para diferentes culturas? R: O pH do solo pode ser medido com kits de teste. Para correção: • Solo ácido (pH baixo): Aplicação de calcário. • Solo alcalino (pH alto): Uso de enxofre ou fertilizantes ácidos. Culturas e Suas Necessidades P: Quais são as recomendações de preparo do solo para diferentes sementes? R: Cada semente tem exigências específicas: • Milho: Prefere solo bem drenado, pH entre 5,5 e 7,0, rico em nitrogênio. • Soja: Solo com boa retenção de umidade, pH entre 6,0 e 7,0, necessária fixação biológica de nitrogênio. • Trigo: Prefere solos profundos e bem drenados, pH entre 6,0 e 7,5, rico em fósforo. • Hortaliças (alface, tomate, cenoura): Solo leve, bem drenado e rico em matéria orgânica, pH entre 5,5 e 6,8. P: Como garantir a fertilidade do solo? R: O solo deve ser adubado de acordo com as necessidades da cultura. A adubação pode ser orgânica (composto, esterco) ou química (NPK). A análise do solo é fundamental para determinar os nutrientes necessários. Tipos de Fertilizantes P: Quais são os principais fertilizantes usados no solo? R: Os fertilizantes podem ser classificados em: • Fertilizantes Orgânicos: Compostos naturais como esterco, húmus de minhoca, farinha de ossos e restos vegetais. • Fertilizantes Químicos: Compostos sintéticos como NPK (Nitrogênio, Fósforo e Potássio), ureia, superfosfato e cloreto de potássio. • Fertilizantes de Liberação Controlada: Gradualmente liberam os nutrientes no solo ao longo do tempo, otimizando o aproveitamento pelas plantas. Preparo do Solo Passo a Passo 1. Análise do Solo: Coletar amostras e verificar pH, umidade e nutrientes. 2. Correção do Solo: Aplicar calcário, adubos e melhoradores conforme necessidade. 3. Aragem e Gradagem: Revolver o solo para aeração e nivelamento. 4. Adubação: Incorporar fertilizantes e matéria orgânica. 5. Preparo Final: Nivelar o solo e preparar os espaçamentos para a sementeira ou mudas. Dicas Gerais ', path=None, url=None, mimetype=None), image_resource=None, audio_resource=None, video_resource=None, text_template='{metadata_str}\\n\\n{content}'),\n",
              " Document(id_='ddd20df7-0560-4840-8adb-928123d10256', embedding=None, metadata={'page_label': '3', 'file_name': 'doc_info_agricultura.pdf', 'file_path': '/content/documentos/doc_info_agricultura.pdf', 'file_type': 'application/pdf', 'file_size': 30901, 'creation_date': '2025-03-19', 'last_modified_date': '2025-03-19'}, excluded_embed_metadata_keys=['file_name', 'file_type', 'file_size', 'creation_date', 'last_modified_date', 'last_accessed_date'], excluded_llm_metadata_keys=['file_name', 'file_type', 'file_size', 'creation_date', 'last_modified_date', 'last_accessed_date'], relationships={}, metadata_template='{key}: {value}', metadata_separator='\\n', text_resource=MediaResource(embeddings=None, data=None, text='• Evite compactação excessiva: Use rotação de culturas e cobertura vegetal. • Mantenha umidade ideal: Planeje irrigação conforme a cultura. • Proteja contra erosão: Utilize cobertura morta e curvas de nível em terrenos inclinados. Onde obter mais informações? Para mais detalhes sobre preparo do solo e escolha de sementes, consulte um agrônomo ou acesse fontes confiáveis de pesquisa agrícola.  ', path=None, url=None, mimetype=None), image_resource=None, audio_resource=None, video_resource=None, text_template='{metadata_str}\\n\\n{content}')]"
            ]
          },
          "metadata": {},
          "execution_count": 116
        }
      ]
    },
    {
      "cell_type": "code",
      "source": [
        "len(docs)"
      ],
      "metadata": {
        "colab": {
          "base_uri": "https://localhost:8080/"
        },
        "id": "T33nYYHfgS4d",
        "outputId": "09a05ed7-9bd1-4cd3-b93c-efe29da160b9"
      },
      "execution_count": 7,
      "outputs": [
        {
          "output_type": "execute_result",
          "data": {
            "text/plain": [
              "3"
            ]
          },
          "metadata": {},
          "execution_count": 7
        }
      ]
    },
    {
      "cell_type": "code",
      "source": [
        "print(docs[0].get_metadata_str())"
      ],
      "metadata": {
        "colab": {
          "base_uri": "https://localhost:8080/"
        },
        "id": "v3AVJCDxgVOe",
        "outputId": "805e7f4f-90ff-4b34-9f4c-ca204d52b10f"
      },
      "execution_count": 8,
      "outputs": [
        {
          "output_type": "stream",
          "name": "stdout",
          "text": [
            "page_label: 1\n",
            "file_name: doc_info_agricultura.pdf\n",
            "file_path: /content/documentos/doc_info_agricultura.pdf\n",
            "file_type: application/pdf\n",
            "file_size: 30901\n",
            "creation_date: 2025-03-19\n",
            "last_modified_date: 2025-03-19\n"
          ]
        }
      ]
    },
    {
      "cell_type": "code",
      "source": [
        "docs[0].__dict__"
      ],
      "metadata": {
        "colab": {
          "base_uri": "https://localhost:8080/"
        },
        "id": "a3yScZyegY-d",
        "outputId": "bfef16fd-7a3a-4f64-d02e-e6af2ddbfdfe"
      },
      "execution_count": 9,
      "outputs": [
        {
          "output_type": "execute_result",
          "data": {
            "text/plain": [
              "{'id_': '41b2f651-fe4b-41cf-b065-75a283f15bb8',\n",
              " 'embedding': None,\n",
              " 'metadata': {'page_label': '1',\n",
              "  'file_name': 'doc_info_agricultura.pdf',\n",
              "  'file_path': '/content/documentos/doc_info_agricultura.pdf',\n",
              "  'file_type': 'application/pdf',\n",
              "  'file_size': 30901,\n",
              "  'creation_date': '2025-03-19',\n",
              "  'last_modified_date': '2025-03-19'},\n",
              " 'excluded_embed_metadata_keys': ['file_name',\n",
              "  'file_type',\n",
              "  'file_size',\n",
              "  'creation_date',\n",
              "  'last_modified_date',\n",
              "  'last_accessed_date'],\n",
              " 'excluded_llm_metadata_keys': ['file_name',\n",
              "  'file_type',\n",
              "  'file_size',\n",
              "  'creation_date',\n",
              "  'last_modified_date',\n",
              "  'last_accessed_date'],\n",
              " 'relationships': {},\n",
              " 'metadata_template': '{key}: {value}',\n",
              " 'metadata_separator': '\\n',\n",
              " 'text_resource': MediaResource(embeddings=None, data=None, text='Guia de Preparo do Solo para Plantio Informações Gerais P: Qual a importância do preparo adequado do solo? R: O preparo adequado do solo garante que as plantas tenham acesso aos nutrientes necessários, além de melhorar a retenção de água e a aeração, fatores essenciais para o crescimento saudável. P: Quais fatores devem ser considerados ao preparar o solo para o plantio? R: Os principais fatores incluem o tipo de solo, a umidade ideal, o pH, a compactação e a adubação adequada para cada cultura. Tipos de Solo e Seu Tratamento P: Quais os principais tipos de solo e como prepará-los? R: Existem diversos tipos de solo, cada um com características específicas e tratamentos recomendados: • Solo Arenoso: Drenagem rápida, baixo teor de nutrientes. Recomenda-se adição de matéria orgânica e irrigação frequente. • Solo Argiloso: Retém muita água, pode compactar facilmente. Aéreação e adição de areia podem melhorar a drenagem. • Solo Calcário: Alto pH, pouca disponibilidade de micronutrientes. Pode ser corrigido com adubação orgânica e fertilizantes ácidos. Sensores para Monitoramento da Umidade do Solo P: Quais sensores podem ser usados para monitorar a umidade do solo? R: Existem diversas tecnologias para medir a umidade do solo, entre elas: • Sensor Capacitivo de Umidade do Solo: Mede a variação da capacitância conforme o nível de umidade. • Sensor Resistivo de Umidade: Mede a condutividade elétrica do solo, variando conforme a umidade. • Sensor TDR (Time Domain Reflectometry): Utiliza pulsos eletromagnéticos para calcular a umidade com alta precisão. • Sondas de Tensiômetro: Medem a tensão com que a água está sendo retida no solo, indicando o nível de umidade disponível para as plantas. Esses sensores são fundamentais para o manejo eficiente da irrigação e para evitar estresse hídrico das plantas. Umidade e pH Ideais P: Como medir e ajustar a umidade do solo? R: A umidade pode ser medida com sensores ou testes simples (amassando o solo na mão). Para solos muito secos, a irrigação regular é essencial; para solos muito úmidos, drenagem adequada deve ser aplicada. ', path=None, url=None, mimetype=None),\n",
              " 'image_resource': None,\n",
              " 'audio_resource': None,\n",
              " 'video_resource': None,\n",
              " 'text_template': '{metadata_str}\\n\\n{content}'}"
            ]
          },
          "metadata": {},
          "execution_count": 9
        }
      ]
    },
    {
      "cell_type": "code",
      "source": [
        "# importando a biblioteca\n",
        "from llama_index.core.node_parser import SentenceSplitter\n",
        "node_parser= SentenceSplitter(chunk_size=1200)"
      ],
      "metadata": {
        "id": "oZ3Hqt3qgjx9"
      },
      "execution_count": 10,
      "outputs": []
    },
    {
      "cell_type": "code",
      "source": [
        "nodes = node_parser.get_nodes_from_documents(docs,show_progress=True)"
      ],
      "metadata": {
        "colab": {
          "base_uri": "https://localhost:8080/",
          "height": 49,
          "referenced_widgets": [
            "ad9ac4227d0a4b3d8dfa00bd86b11113",
            "7cb88fa7b72243fe9ce69c72558ae569",
            "8c42142784a6434c84ca2b69a350c1c2",
            "38d1b76377af41ff8a156a779a316e5a",
            "57ff11edec8e497babec103867825599",
            "3b6749289fd942028ae5644a505f0016",
            "d7e61a6e3cdd4f10aeab51897d3ee2e9",
            "04f20c8d567f4468ba996dc0ccb69930",
            "d5d65c4a300e45538c73f3d751d70d66",
            "cf55f6025018498d82d1f36833fc1e62",
            "349c372badbf4f92baec8a2f98c86bcf"
          ]
        },
        "id": "1cMVvc6Ygsh0",
        "outputId": "ae2192ef-c55a-471c-8a6d-161265cc4d7e"
      },
      "execution_count": 11,
      "outputs": [
        {
          "output_type": "display_data",
          "data": {
            "text/plain": [
              "Parsing nodes:   0%|          | 0/3 [00:00<?, ?it/s]"
            ],
            "application/vnd.jupyter.widget-view+json": {
              "version_major": 2,
              "version_minor": 0,
              "model_id": "ad9ac4227d0a4b3d8dfa00bd86b11113"
            }
          },
          "metadata": {}
        }
      ]
    },
    {
      "cell_type": "code",
      "source": [
        "nodes"
      ],
      "metadata": {
        "colab": {
          "base_uri": "https://localhost:8080/"
        },
        "id": "VvH6LE8Agwjl",
        "outputId": "34939120-4aae-463d-f740-244c8bc7154a"
      },
      "execution_count": 12,
      "outputs": [
        {
          "output_type": "execute_result",
          "data": {
            "text/plain": [
              "[TextNode(id_='ad367abb-6846-4b6d-82bd-caf376b1b4ea', embedding=None, metadata={'page_label': '1', 'file_name': 'doc_info_agricultura.pdf', 'file_path': '/content/documentos/doc_info_agricultura.pdf', 'file_type': 'application/pdf', 'file_size': 30901, 'creation_date': '2025-03-19', 'last_modified_date': '2025-03-19'}, excluded_embed_metadata_keys=['file_name', 'file_type', 'file_size', 'creation_date', 'last_modified_date', 'last_accessed_date'], excluded_llm_metadata_keys=['file_name', 'file_type', 'file_size', 'creation_date', 'last_modified_date', 'last_accessed_date'], relationships={<NodeRelationship.SOURCE: '1'>: RelatedNodeInfo(node_id='41b2f651-fe4b-41cf-b065-75a283f15bb8', node_type=<ObjectType.DOCUMENT: '4'>, metadata={'page_label': '1', 'file_name': 'doc_info_agricultura.pdf', 'file_path': '/content/documentos/doc_info_agricultura.pdf', 'file_type': 'application/pdf', 'file_size': 30901, 'creation_date': '2025-03-19', 'last_modified_date': '2025-03-19'}, hash='333005cd693467f9530c5e4ae9307bcdc3e056334c3a160030f64a0f45e87faf')}, metadata_template='{key}: {value}', metadata_separator='\\n', text='Guia de Preparo do Solo para Plantio Informações Gerais P: Qual a importância do preparo adequado do solo? R: O preparo adequado do solo garante que as plantas tenham acesso aos nutrientes necessários, além de melhorar a retenção de água e a aeração, fatores essenciais para o crescimento saudável. P: Quais fatores devem ser considerados ao preparar o solo para o plantio? R: Os principais fatores incluem o tipo de solo, a umidade ideal, o pH, a compactação e a adubação adequada para cada cultura. Tipos de Solo e Seu Tratamento P: Quais os principais tipos de solo e como prepará-los? R: Existem diversos tipos de solo, cada um com características específicas e tratamentos recomendados: • Solo Arenoso: Drenagem rápida, baixo teor de nutrientes. Recomenda-se adição de matéria orgânica e irrigação frequente. • Solo Argiloso: Retém muita água, pode compactar facilmente. Aéreação e adição de areia podem melhorar a drenagem. • Solo Calcário: Alto pH, pouca disponibilidade de micronutrientes. Pode ser corrigido com adubação orgânica e fertilizantes ácidos. Sensores para Monitoramento da Umidade do Solo P: Quais sensores podem ser usados para monitorar a umidade do solo? R: Existem diversas tecnologias para medir a umidade do solo, entre elas: • Sensor Capacitivo de Umidade do Solo: Mede a variação da capacitância conforme o nível de umidade. • Sensor Resistivo de Umidade: Mede a condutividade elétrica do solo, variando conforme a umidade. • Sensor TDR (Time Domain Reflectometry): Utiliza pulsos eletromagnéticos para calcular a umidade com alta precisão. • Sondas de Tensiômetro: Medem a tensão com que a água está sendo retida no solo, indicando o nível de umidade disponível para as plantas. Esses sensores são fundamentais para o manejo eficiente da irrigação e para evitar estresse hídrico das plantas. Umidade e pH Ideais P: Como medir e ajustar a umidade do solo? R: A umidade pode ser medida com sensores ou testes simples (amassando o solo na mão). Para solos muito secos, a irrigação regular é essencial; para solos muito úmidos, drenagem adequada deve ser aplicada.', mimetype='text/plain', start_char_idx=0, end_char_idx=2090, metadata_seperator='\\n', text_template='{metadata_str}\\n\\n{content}'),\n",
              " TextNode(id_='0a05ca59-cee6-4b0b-8b06-644832a15814', embedding=None, metadata={'page_label': '2', 'file_name': 'doc_info_agricultura.pdf', 'file_path': '/content/documentos/doc_info_agricultura.pdf', 'file_type': 'application/pdf', 'file_size': 30901, 'creation_date': '2025-03-19', 'last_modified_date': '2025-03-19'}, excluded_embed_metadata_keys=['file_name', 'file_type', 'file_size', 'creation_date', 'last_modified_date', 'last_accessed_date'], excluded_llm_metadata_keys=['file_name', 'file_type', 'file_size', 'creation_date', 'last_modified_date', 'last_accessed_date'], relationships={<NodeRelationship.SOURCE: '1'>: RelatedNodeInfo(node_id='36b204d3-fee7-40dc-b125-0fc4070b2451', node_type=<ObjectType.DOCUMENT: '4'>, metadata={'page_label': '2', 'file_name': 'doc_info_agricultura.pdf', 'file_path': '/content/documentos/doc_info_agricultura.pdf', 'file_type': 'application/pdf', 'file_size': 30901, 'creation_date': '2025-03-19', 'last_modified_date': '2025-03-19'}, hash='12963f3d26cda524783822e10acdfd6984a2b0bcfa76fee7ead2652b426825d8')}, metadata_template='{key}: {value}', metadata_separator='\\n', text='P: Como ajustar o pH do solo para diferentes culturas? R: O pH do solo pode ser medido com kits de teste. Para correção: • Solo ácido (pH baixo): Aplicação de calcário. • Solo alcalino (pH alto): Uso de enxofre ou fertilizantes ácidos. Culturas e Suas Necessidades P: Quais são as recomendações de preparo do solo para diferentes sementes? R: Cada semente tem exigências específicas: • Milho: Prefere solo bem drenado, pH entre 5,5 e 7,0, rico em nitrogênio. • Soja: Solo com boa retenção de umidade, pH entre 6,0 e 7,0, necessária fixação biológica de nitrogênio. • Trigo: Prefere solos profundos e bem drenados, pH entre 6,0 e 7,5, rico em fósforo. • Hortaliças (alface, tomate, cenoura): Solo leve, bem drenado e rico em matéria orgânica, pH entre 5,5 e 6,8. P: Como garantir a fertilidade do solo? R: O solo deve ser adubado de acordo com as necessidades da cultura. A adubação pode ser orgânica (composto, esterco) ou química (NPK). A análise do solo é fundamental para determinar os nutrientes necessários. Tipos de Fertilizantes P: Quais são os principais fertilizantes usados no solo? R: Os fertilizantes podem ser classificados em: • Fertilizantes Orgânicos: Compostos naturais como esterco, húmus de minhoca, farinha de ossos e restos vegetais. • Fertilizantes Químicos: Compostos sintéticos como NPK (Nitrogênio, Fósforo e Potássio), ureia, superfosfato e cloreto de potássio. • Fertilizantes de Liberação Controlada: Gradualmente liberam os nutrientes no solo ao longo do tempo, otimizando o aproveitamento pelas plantas. Preparo do Solo Passo a Passo 1. Análise do Solo: Coletar amostras e verificar pH, umidade e nutrientes. 2. Correção do Solo: Aplicar calcário, adubos e melhoradores conforme necessidade. 3. Aragem e Gradagem: Revolver o solo para aeração e nivelamento. 4. Adubação: Incorporar fertilizantes e matéria orgânica. 5. Preparo Final: Nivelar o solo e preparar os espaçamentos para a sementeira ou mudas. Dicas Gerais', mimetype='text/plain', start_char_idx=0, end_char_idx=1946, metadata_seperator='\\n', text_template='{metadata_str}\\n\\n{content}'),\n",
              " TextNode(id_='a76e228d-e527-4c14-9b3e-22543564a672', embedding=None, metadata={'page_label': '3', 'file_name': 'doc_info_agricultura.pdf', 'file_path': '/content/documentos/doc_info_agricultura.pdf', 'file_type': 'application/pdf', 'file_size': 30901, 'creation_date': '2025-03-19', 'last_modified_date': '2025-03-19'}, excluded_embed_metadata_keys=['file_name', 'file_type', 'file_size', 'creation_date', 'last_modified_date', 'last_accessed_date'], excluded_llm_metadata_keys=['file_name', 'file_type', 'file_size', 'creation_date', 'last_modified_date', 'last_accessed_date'], relationships={<NodeRelationship.SOURCE: '1'>: RelatedNodeInfo(node_id='aaf23d7c-8c8c-424d-88aa-67618894cbd6', node_type=<ObjectType.DOCUMENT: '4'>, metadata={'page_label': '3', 'file_name': 'doc_info_agricultura.pdf', 'file_path': '/content/documentos/doc_info_agricultura.pdf', 'file_type': 'application/pdf', 'file_size': 30901, 'creation_date': '2025-03-19', 'last_modified_date': '2025-03-19'}, hash='02da66c02dc7881bd5b0d7e369253875ab1b7e275ad22526762d12cfdcd51cf7')}, metadata_template='{key}: {value}', metadata_separator='\\n', text='• Evite compactação excessiva: Use rotação de culturas e cobertura vegetal. • Mantenha umidade ideal: Planeje irrigação conforme a cultura. • Proteja contra erosão: Utilize cobertura morta e curvas de nível em terrenos inclinados. Onde obter mais informações? Para mais detalhes sobre preparo do solo e escolha de sementes, consulte um agrônomo ou acesse fontes confiáveis de pesquisa agrícola.', mimetype='text/plain', start_char_idx=0, end_char_idx=394, metadata_seperator='\\n', text_template='{metadata_str}\\n\\n{content}')]"
            ]
          },
          "metadata": {},
          "execution_count": 12
        }
      ]
    },
    {
      "cell_type": "code",
      "source": [
        "len(nodes)"
      ],
      "metadata": {
        "colab": {
          "base_uri": "https://localhost:8080/"
        },
        "id": "a0ONx1OugyuW",
        "outputId": "987f2b00-497d-412f-84e5-06d6a4a5df62"
      },
      "execution_count": 13,
      "outputs": [
        {
          "output_type": "execute_result",
          "data": {
            "text/plain": [
              "3"
            ]
          },
          "metadata": {},
          "execution_count": 13
        }
      ]
    },
    {
      "cell_type": "code",
      "source": [
        "nodes[0]"
      ],
      "metadata": {
        "colab": {
          "base_uri": "https://localhost:8080/"
        },
        "id": "gKQwyje3g3LG",
        "outputId": "842795dc-fa4e-4463-de10-070be955ba0b"
      },
      "execution_count": 14,
      "outputs": [
        {
          "output_type": "execute_result",
          "data": {
            "text/plain": [
              "TextNode(id_='ad367abb-6846-4b6d-82bd-caf376b1b4ea', embedding=None, metadata={'page_label': '1', 'file_name': 'doc_info_agricultura.pdf', 'file_path': '/content/documentos/doc_info_agricultura.pdf', 'file_type': 'application/pdf', 'file_size': 30901, 'creation_date': '2025-03-19', 'last_modified_date': '2025-03-19'}, excluded_embed_metadata_keys=['file_name', 'file_type', 'file_size', 'creation_date', 'last_modified_date', 'last_accessed_date'], excluded_llm_metadata_keys=['file_name', 'file_type', 'file_size', 'creation_date', 'last_modified_date', 'last_accessed_date'], relationships={<NodeRelationship.SOURCE: '1'>: RelatedNodeInfo(node_id='41b2f651-fe4b-41cf-b065-75a283f15bb8', node_type=<ObjectType.DOCUMENT: '4'>, metadata={'page_label': '1', 'file_name': 'doc_info_agricultura.pdf', 'file_path': '/content/documentos/doc_info_agricultura.pdf', 'file_type': 'application/pdf', 'file_size': 30901, 'creation_date': '2025-03-19', 'last_modified_date': '2025-03-19'}, hash='333005cd693467f9530c5e4ae9307bcdc3e056334c3a160030f64a0f45e87faf')}, metadata_template='{key}: {value}', metadata_separator='\\n', text='Guia de Preparo do Solo para Plantio Informações Gerais P: Qual a importância do preparo adequado do solo? R: O preparo adequado do solo garante que as plantas tenham acesso aos nutrientes necessários, além de melhorar a retenção de água e a aeração, fatores essenciais para o crescimento saudável. P: Quais fatores devem ser considerados ao preparar o solo para o plantio? R: Os principais fatores incluem o tipo de solo, a umidade ideal, o pH, a compactação e a adubação adequada para cada cultura. Tipos de Solo e Seu Tratamento P: Quais os principais tipos de solo e como prepará-los? R: Existem diversos tipos de solo, cada um com características específicas e tratamentos recomendados: • Solo Arenoso: Drenagem rápida, baixo teor de nutrientes. Recomenda-se adição de matéria orgânica e irrigação frequente. • Solo Argiloso: Retém muita água, pode compactar facilmente. Aéreação e adição de areia podem melhorar a drenagem. • Solo Calcário: Alto pH, pouca disponibilidade de micronutrientes. Pode ser corrigido com adubação orgânica e fertilizantes ácidos. Sensores para Monitoramento da Umidade do Solo P: Quais sensores podem ser usados para monitorar a umidade do solo? R: Existem diversas tecnologias para medir a umidade do solo, entre elas: • Sensor Capacitivo de Umidade do Solo: Mede a variação da capacitância conforme o nível de umidade. • Sensor Resistivo de Umidade: Mede a condutividade elétrica do solo, variando conforme a umidade. • Sensor TDR (Time Domain Reflectometry): Utiliza pulsos eletromagnéticos para calcular a umidade com alta precisão. • Sondas de Tensiômetro: Medem a tensão com que a água está sendo retida no solo, indicando o nível de umidade disponível para as plantas. Esses sensores são fundamentais para o manejo eficiente da irrigação e para evitar estresse hídrico das plantas. Umidade e pH Ideais P: Como medir e ajustar a umidade do solo? R: A umidade pode ser medida com sensores ou testes simples (amassando o solo na mão). Para solos muito secos, a irrigação regular é essencial; para solos muito úmidos, drenagem adequada deve ser aplicada.', mimetype='text/plain', start_char_idx=0, end_char_idx=2090, metadata_seperator='\\n', text_template='{metadata_str}\\n\\n{content}')"
            ]
          },
          "metadata": {},
          "execution_count": 14
        }
      ]
    },
    {
      "cell_type": "code",
      "source": [
        "nodes[2]"
      ],
      "metadata": {
        "colab": {
          "base_uri": "https://localhost:8080/"
        },
        "id": "VrSWcf5hg5jH",
        "outputId": "c2627cb3-71b5-47c5-9529-533f397515c4"
      },
      "execution_count": 19,
      "outputs": [
        {
          "output_type": "execute_result",
          "data": {
            "text/plain": [
              "TextNode(id_='a76e228d-e527-4c14-9b3e-22543564a672', embedding=None, metadata={'page_label': '3', 'file_name': 'doc_info_agricultura.pdf', 'file_path': '/content/documentos/doc_info_agricultura.pdf', 'file_type': 'application/pdf', 'file_size': 30901, 'creation_date': '2025-03-19', 'last_modified_date': '2025-03-19'}, excluded_embed_metadata_keys=['file_name', 'file_type', 'file_size', 'creation_date', 'last_modified_date', 'last_accessed_date'], excluded_llm_metadata_keys=['file_name', 'file_type', 'file_size', 'creation_date', 'last_modified_date', 'last_accessed_date'], relationships={<NodeRelationship.SOURCE: '1'>: RelatedNodeInfo(node_id='aaf23d7c-8c8c-424d-88aa-67618894cbd6', node_type=<ObjectType.DOCUMENT: '4'>, metadata={'page_label': '3', 'file_name': 'doc_info_agricultura.pdf', 'file_path': '/content/documentos/doc_info_agricultura.pdf', 'file_type': 'application/pdf', 'file_size': 30901, 'creation_date': '2025-03-19', 'last_modified_date': '2025-03-19'}, hash='02da66c02dc7881bd5b0d7e369253875ab1b7e275ad22526762d12cfdcd51cf7')}, metadata_template='{key}: {value}', metadata_separator='\\n', text='• Evite compactação excessiva: Use rotação de culturas e cobertura vegetal. • Mantenha umidade ideal: Planeje irrigação conforme a cultura. • Proteja contra erosão: Utilize cobertura morta e curvas de nível em terrenos inclinados. Onde obter mais informações? Para mais detalhes sobre preparo do solo e escolha de sementes, consulte um agrônomo ou acesse fontes confiáveis de pesquisa agrícola.', mimetype='text/plain', start_char_idx=0, end_char_idx=394, metadata_seperator='\\n', text_template='{metadata_str}\\n\\n{content}')"
            ]
          },
          "metadata": {},
          "execution_count": 19
        }
      ]
    },
    {
      "cell_type": "code",
      "source": [
        "#instalaçao do hugging face\n",
        "!pip install -q llama-index-embeddings-huggingface"
      ],
      "metadata": {
        "colab": {
          "base_uri": "https://localhost:8080/"
        },
        "id": "XYK0_XqThUlb",
        "outputId": "7564cb41-9ed1-4c02-8deb-59a0c57d164c"
      },
      "execution_count": 20,
      "outputs": [
        {
          "output_type": "stream",
          "name": "stdout",
          "text": [
            "\u001b[2K   \u001b[90m━━━━━━━━━━━━━━━━━━━━━━━━━━━━━━━━━━━━━━━━\u001b[0m \u001b[32m363.4/363.4 MB\u001b[0m \u001b[31m3.9 MB/s\u001b[0m eta \u001b[36m0:00:00\u001b[0m\n",
            "\u001b[2K   \u001b[90m━━━━━━━━━━━━━━━━━━━━━━━━━━━━━━━━━━━━━━━━\u001b[0m \u001b[32m13.8/13.8 MB\u001b[0m \u001b[31m55.3 MB/s\u001b[0m eta \u001b[36m0:00:00\u001b[0m\n",
            "\u001b[2K   \u001b[90m━━━━━━━━━━━━━━━━━━━━━━━━━━━━━━━━━━━━━━━━\u001b[0m \u001b[32m24.6/24.6 MB\u001b[0m \u001b[31m32.4 MB/s\u001b[0m eta \u001b[36m0:00:00\u001b[0m\n",
            "\u001b[2K   \u001b[90m━━━━━━━━━━━━━━━━━━━━━━━━━━━━━━━━━━━━━━━━\u001b[0m \u001b[32m883.7/883.7 kB\u001b[0m \u001b[31m34.6 MB/s\u001b[0m eta \u001b[36m0:00:00\u001b[0m\n",
            "\u001b[2K   \u001b[90m━━━━━━━━━━━━━━━━━━━━━━━━━━━━━━━━━━━━━━━━\u001b[0m \u001b[32m664.8/664.8 MB\u001b[0m \u001b[31m2.9 MB/s\u001b[0m eta \u001b[36m0:00:00\u001b[0m\n",
            "\u001b[2K   \u001b[90m━━━━━━━━━━━━━━━━━━━━━━━━━━━━━━━━━━━━━━━━\u001b[0m \u001b[32m211.5/211.5 MB\u001b[0m \u001b[31m5.7 MB/s\u001b[0m eta \u001b[36m0:00:00\u001b[0m\n",
            "\u001b[2K   \u001b[90m━━━━━━━━━━━━━━━━━━━━━━━━━━━━━━━━━━━━━━━━\u001b[0m \u001b[32m56.3/56.3 MB\u001b[0m \u001b[31m13.0 MB/s\u001b[0m eta \u001b[36m0:00:00\u001b[0m\n",
            "\u001b[2K   \u001b[90m━━━━━━━━━━━━━━━━━━━━━━━━━━━━━━━━━━━━━━━━\u001b[0m \u001b[32m127.9/127.9 MB\u001b[0m \u001b[31m7.9 MB/s\u001b[0m eta \u001b[36m0:00:00\u001b[0m\n",
            "\u001b[2K   \u001b[90m━━━━━━━━━━━━━━━━━━━━━━━━━━━━━━━━━━━━━━━━\u001b[0m \u001b[32m207.5/207.5 MB\u001b[0m \u001b[31m5.9 MB/s\u001b[0m eta \u001b[36m0:00:00\u001b[0m\n",
            "\u001b[2K   \u001b[90m━━━━━━━━━━━━━━━━━━━━━━━━━━━━━━━━━━━━━━━━\u001b[0m \u001b[32m21.1/21.1 MB\u001b[0m \u001b[31m78.5 MB/s\u001b[0m eta \u001b[36m0:00:00\u001b[0m\n",
            "\u001b[?25h"
          ]
        }
      ]
    },
    {
      "cell_type": "code",
      "source": [
        "from llama_index.embeddings.huggingface import HuggingFaceEmbedding"
      ],
      "metadata": {
        "id": "yOWq1U_Phf0z"
      },
      "execution_count": 21,
      "outputs": []
    },
    {
      "cell_type": "code",
      "source": [
        "# Classe personalizada para integrar ao Chroma DB\n",
        "\n",
        "class ChromaEmbeddingWrapper:\n",
        "  def __init__(self,model_name:str): # inicializa com o modelo embedding\n",
        "    self.model = HuggingFaceEmbedding(model_name = model_name)\n",
        "\n",
        "\n",
        "  def __call__(self,input): # Converte a entrada para o formato compativel com o HuggingFace\n",
        "    return self.model.embed(input)"
      ],
      "metadata": {
        "id": "uDjsENDXiCAJ"
      },
      "execution_count": 23,
      "outputs": []
    },
    {
      "cell_type": "code",
      "source": [
        "embed_model_chroma= ChromaEmbeddingWrapper(model_name='intfloat/multilingual-e5-large')"
      ],
      "metadata": {
        "colab": {
          "base_uri": "https://localhost:8080/",
          "height": 441,
          "referenced_widgets": [
            "9baec6eb9c9f4703aef5fcf601c5b6a6",
            "3b4adb5049a84883971726bc3dfc55c8",
            "348458cb1c27480aad435fdd4dadccb7",
            "e2e0dd1890544fdda911ad7817dbe3a2",
            "1f8b367a8f154fa79fee2d86fe9fa4cb",
            "4d3238f45bc443aca0b584b63f9435bb",
            "dc04fb864c9c437da9e166ef3975d20e",
            "651b90f1df254acfac58c9ec09312725",
            "73d0d4b20a2e425297cb68050137af72",
            "c0dcff386c81496fb96b945570600279",
            "3936fd4cff6b434b8afd43703400db89",
            "f006d19015404c16b23f352a38d2171d",
            "7d1eb0a7403841809e3c257ced7f623b",
            "9ac27269adbe44e2b2560c46828155b9",
            "6ba9751a91f74571966bbd646e190b72",
            "d86c4eb506d94e04bd0cdae038543303",
            "e1f6d08c695549a9baff5f21566717d9",
            "7c1e4910396b43c0b4945b56988fd83c",
            "15ef1d1440e44961968e7f8649eeea66",
            "ff23f48d54254b7a829905ed503be85a",
            "19184604315d40ef94849a6efde865d9",
            "a1410e461f4d42769e90249439cbb9bd",
            "6386bd4c73f64b0ba3f6787dfd160467",
            "23726b7860054da4876602edd5c3a983",
            "6f558397bb0447f9987da62d1c36a87e",
            "190948af5bc644c5a4155e0b9c7e74ed",
            "3dd75744155d4512897f449c9fb154e6",
            "386670430c134583bfcf35b7aa11456b",
            "92820e69956a47c98160a3db8521e9cf",
            "c585fd24a25b428d98cd8a0de7750d35",
            "4cfc8ca5566e41d3aaa29c5c1b90c22c",
            "bacab209093d4789bfe061a3a3eaeab4",
            "b7d03e3ee4ee4a2da663a65282159bb2",
            "16636661b4484341ad0e11bfd3b51074",
            "2817ebf23efc44c5bd250639c00af210",
            "d88a682ce04a47208861fa4b17863339",
            "52efb8ab905c48219262a411155b7223",
            "ba5d590f11a446dc9169b97765e48ae2",
            "7866ad16b91e4107a8cb4d2dafc7e741",
            "07011eee265c468ca0b02c9ad2569a04",
            "927d9fdbca174622aeafa3eb4e078556",
            "4c6b4b2f0464415291b1b36ff937b804",
            "5e42a6caed784d7ebcd49bd0471b35ee",
            "0aaa07d0bcc74e07994307f32dce2b63",
            "e592597187c1419aa0cec90febb7abf8",
            "21b4f12a92b54092b0269eb302f0b608",
            "18aa95bce0a7430e9f939d5431c1a5f4",
            "619a131b1b0f41569adf5328c65cb79b",
            "29019908da72475e87545c28bdec537e",
            "dafbc675a3f14849b594f2db11e2ee63",
            "526ff6859e5748bd845e5edd62cc85b1",
            "6be4ea5921274d3a9863b6990ffad890",
            "b496eb73b63c45de8a16b873fc7c242a",
            "466054b21bf746e3bf72db442d059679",
            "b286a6b5e20b4f41a338731fd59a6b13",
            "88c917a8c880404bb8e130433de7f664",
            "acb6c65cac5243b19aa1d64d6e08cf5f",
            "5dc793192ea64d3cba85686e7378c154",
            "983b459689ff4fbb9d43bfc8e85ed789",
            "53a92e31c5104e328328ed751ed733c4",
            "3a9af73fb1a54f169b2a3e83cc4e1a0c",
            "714140cc01f041b2885534b13ae5ba1c",
            "fbc4187e60054b52b3ee264a1da6ceab",
            "0d092c0534b943b6957c6755c2cf9688",
            "92c21850ec5e46c8a661240bcb705a55",
            "b8a1340c170e4ccc88616d45a1d2f018",
            "1ee9784d181e46c19a146fea9a21f1b8",
            "dc1964fedb5f41c88fdf0906197f9964",
            "fe589813af4e413d910c706d05410f36",
            "7d8e4a3ed5354bd49f48902406105c3f",
            "dd6b40ea929144ba9c02c20eb3d218dd",
            "30653a3b1fed4da8a85799ce25afbdb8",
            "9e5faa1d906a4fa39c3205696a247589",
            "2e45ad1efb3e4c6d8ed63117c91bcde1",
            "1c3e5f9323df4c56a17e583e91f39a64",
            "c0500e877c6d42978eb4a3a2e09620d1",
            "5c973bb801ab47b0b78784cbc5f0e97a",
            "de2ca79b0b5043dea76241d12bf5d50b",
            "1b2836c3b45745e39f2a5a6291714c6a",
            "3839a483579943f187af72829b05acea",
            "b0334359d5db40a0bbd9d7365fba3523",
            "9d803af73b6d41f490603aed147cd0b0",
            "183cc4b09bfc483c9864c4fa74d060ea",
            "7fc87137c13a46f38cf713da8fcb51e6",
            "3f8ab5499e2b4555ae0a49817ea975db",
            "d5b92d8e6bed4c0a9de8ec0e249230bf",
            "6e25a771d228450bbd0051b94ef2bf09",
            "bcc17c4c07204eee9b91516b8c3782eb",
            "a5030acc79664ccea78e529830973833",
            "117dd456b5344608b31b6a2c7be22eea",
            "ed94e538ace14cdf98d280d60c461c65",
            "0656299a189c4ec1a4533ad33874efc4",
            "a2f0cd5b956f453a9d580ff68b97f093",
            "c5befba4127e43ed89038a5f5b445d72",
            "e805495ab06f49dd9353fa47ccef8001",
            "b43a5acdccfa4412bc5f7cc72dba0b3a",
            "f6fde6e2f58d437899aaa6f2ccf381c0",
            "c64ecc32832c48baa72e3f91be536443",
            "78f88c3982a449a9995284397807c39c",
            "6d48aad47f9443b19ad5ba234189f48c",
            "12a0673c358a465fb38b9548ed456620",
            "0221c25e123b4c77930a3146079b5787",
            "c9c3aaca5d64474fa78f4e56420c1ace",
            "ee3f6c70049b4f06b852ebb30f45f834",
            "c9792204bc2747aeb048d4ed72bcc053",
            "0902d339302748f0bc3213c5a3def329",
            "4c3db619ab104cd2a4e95bdfb90e3af2",
            "469ec13407a247f9aaf88ffb47c762db",
            "2019a23a157a4e16af6517bb50ea5034",
            "d8bfcb6f3030496291cc20ae9d162736"
          ]
        },
        "id": "5NDn-k28iI2o",
        "outputId": "a9af536c-936c-4558-dc7a-a3fd3be583ef"
      },
      "execution_count": 24,
      "outputs": [
        {
          "output_type": "stream",
          "name": "stderr",
          "text": [
            "/usr/local/lib/python3.11/dist-packages/huggingface_hub/utils/_auth.py:94: UserWarning: \n",
            "The secret `HF_TOKEN` does not exist in your Colab secrets.\n",
            "To authenticate with the Hugging Face Hub, create a token in your settings tab (https://huggingface.co/settings/tokens), set it as secret in your Google Colab and restart your session.\n",
            "You will be able to reuse this secret in all of your notebooks.\n",
            "Please note that authentication is recommended but still optional to access public models or datasets.\n",
            "  warnings.warn(\n"
          ]
        },
        {
          "output_type": "display_data",
          "data": {
            "text/plain": [
              "modules.json:   0%|          | 0.00/387 [00:00<?, ?B/s]"
            ],
            "application/vnd.jupyter.widget-view+json": {
              "version_major": 2,
              "version_minor": 0,
              "model_id": "9baec6eb9c9f4703aef5fcf601c5b6a6"
            }
          },
          "metadata": {}
        },
        {
          "output_type": "display_data",
          "data": {
            "text/plain": [
              "README.md:   0%|          | 0.00/160k [00:00<?, ?B/s]"
            ],
            "application/vnd.jupyter.widget-view+json": {
              "version_major": 2,
              "version_minor": 0,
              "model_id": "f006d19015404c16b23f352a38d2171d"
            }
          },
          "metadata": {}
        },
        {
          "output_type": "display_data",
          "data": {
            "text/plain": [
              "sentence_bert_config.json:   0%|          | 0.00/57.0 [00:00<?, ?B/s]"
            ],
            "application/vnd.jupyter.widget-view+json": {
              "version_major": 2,
              "version_minor": 0,
              "model_id": "6386bd4c73f64b0ba3f6787dfd160467"
            }
          },
          "metadata": {}
        },
        {
          "output_type": "display_data",
          "data": {
            "text/plain": [
              "config.json:   0%|          | 0.00/690 [00:00<?, ?B/s]"
            ],
            "application/vnd.jupyter.widget-view+json": {
              "version_major": 2,
              "version_minor": 0,
              "model_id": "16636661b4484341ad0e11bfd3b51074"
            }
          },
          "metadata": {}
        },
        {
          "output_type": "display_data",
          "data": {
            "text/plain": [
              "model.safetensors:   0%|          | 0.00/2.24G [00:00<?, ?B/s]"
            ],
            "application/vnd.jupyter.widget-view+json": {
              "version_major": 2,
              "version_minor": 0,
              "model_id": "e592597187c1419aa0cec90febb7abf8"
            }
          },
          "metadata": {}
        },
        {
          "output_type": "display_data",
          "data": {
            "text/plain": [
              "tokenizer_config.json:   0%|          | 0.00/418 [00:00<?, ?B/s]"
            ],
            "application/vnd.jupyter.widget-view+json": {
              "version_major": 2,
              "version_minor": 0,
              "model_id": "88c917a8c880404bb8e130433de7f664"
            }
          },
          "metadata": {}
        },
        {
          "output_type": "display_data",
          "data": {
            "text/plain": [
              "sentencepiece.bpe.model:   0%|          | 0.00/5.07M [00:00<?, ?B/s]"
            ],
            "application/vnd.jupyter.widget-view+json": {
              "version_major": 2,
              "version_minor": 0,
              "model_id": "1ee9784d181e46c19a146fea9a21f1b8"
            }
          },
          "metadata": {}
        },
        {
          "output_type": "display_data",
          "data": {
            "text/plain": [
              "tokenizer.json:   0%|          | 0.00/17.1M [00:00<?, ?B/s]"
            ],
            "application/vnd.jupyter.widget-view+json": {
              "version_major": 2,
              "version_minor": 0,
              "model_id": "de2ca79b0b5043dea76241d12bf5d50b"
            }
          },
          "metadata": {}
        },
        {
          "output_type": "display_data",
          "data": {
            "text/plain": [
              "special_tokens_map.json:   0%|          | 0.00/280 [00:00<?, ?B/s]"
            ],
            "application/vnd.jupyter.widget-view+json": {
              "version_major": 2,
              "version_minor": 0,
              "model_id": "a5030acc79664ccea78e529830973833"
            }
          },
          "metadata": {}
        },
        {
          "output_type": "display_data",
          "data": {
            "text/plain": [
              "config.json:   0%|          | 0.00/201 [00:00<?, ?B/s]"
            ],
            "application/vnd.jupyter.widget-view+json": {
              "version_major": 2,
              "version_minor": 0,
              "model_id": "6d48aad47f9443b19ad5ba234189f48c"
            }
          },
          "metadata": {}
        }
      ]
    },
    {
      "cell_type": "code",
      "source": [
        "\n",
        "#instalaçao do chroma db\n",
        "!pip install -q llama-index-vector-stores-chroma"
      ],
      "metadata": {
        "id": "2X42aB_SjwQ4"
      },
      "execution_count": 96,
      "outputs": []
    },
    {
      "cell_type": "code",
      "source": [
        "\n",
        "#importando chroma db\n",
        "\n",
        "import chromadb\n",
        "db = chromadb.PersistentClient(path='./chroma_db')\n",
        "chroma_client = db\n",
        "collection_name = 'doc_info_agricultura'\n",
        "\n",
        "try:\n",
        " chroma_collection = chroma_client.get_or_create_collection(\n",
        "        name=collection_name,\n",
        "        embedding_function=embed_model_chroma)\n",
        "\n",
        "except Exception as e :\n",
        "  print(f'Erro ao criar coleçao {e}')"
      ],
      "metadata": {
        "id": "EKa4YimUj2NH"
      },
      "execution_count": 97,
      "outputs": []
    },
    {
      "cell_type": "code",
      "source": [
        "\n",
        "from llama_index.vector_stores.chroma import ChromaVectorStore\n",
        "from llama_index.core import StorageContext"
      ],
      "metadata": {
        "id": "JSRS-g6RkFQo"
      },
      "execution_count": 98,
      "outputs": []
    },
    {
      "cell_type": "code",
      "source": [
        "\n",
        "#criando a coleçao do banco de dados\n",
        "vector_store = ChromaVectorStore(chroma_collection=chroma_collection)\n",
        "storage_context = StorageContext.from_defaults(vector_store=vector_store)"
      ],
      "metadata": {
        "id": "MjdtuJIhkT-n"
      },
      "execution_count": 99,
      "outputs": []
    },
    {
      "cell_type": "code",
      "source": [
        "embed_model = HuggingFaceEmbedding(model_name='intfloat/multilingual-e5-large')"
      ],
      "metadata": {
        "id": "dxK_bhzMkmbn"
      },
      "execution_count": 100,
      "outputs": []
    },
    {
      "cell_type": "code",
      "source": [
        "from llama_index.core import VectorStoreIndex"
      ],
      "metadata": {
        "id": "OJQI1bcbkppQ"
      },
      "execution_count": 101,
      "outputs": []
    },
    {
      "cell_type": "code",
      "source": [
        "index = VectorStoreIndex(nodes, storage_context=storage_context,embed_model = embed_model)"
      ],
      "metadata": {
        "colab": {
          "base_uri": "https://localhost:8080/"
        },
        "id": "mIKKAYvnk9IZ",
        "outputId": "4cb45e6f-b6fe-445d-b7c0-fb6d0ac4949c"
      },
      "execution_count": 102,
      "outputs": [
        {
          "output_type": "stream",
          "name": "stderr",
          "text": [
            "WARNING:chromadb.segment.impl.metadata.sqlite:Insert of existing embedding ID: ad367abb-6846-4b6d-82bd-caf376b1b4ea\n",
            "WARNING:chromadb.segment.impl.metadata.sqlite:Insert of existing embedding ID: 0a05ca59-cee6-4b0b-8b06-644832a15814\n",
            "WARNING:chromadb.segment.impl.metadata.sqlite:Insert of existing embedding ID: a76e228d-e527-4c14-9b3e-22543564a672\n",
            "WARNING:chromadb.segment.impl.vector.local_persistent_hnsw:Add of existing embedding ID: ad367abb-6846-4b6d-82bd-caf376b1b4ea\n",
            "WARNING:chromadb.segment.impl.vector.local_persistent_hnsw:Add of existing embedding ID: 0a05ca59-cee6-4b0b-8b06-644832a15814\n",
            "WARNING:chromadb.segment.impl.vector.local_persistent_hnsw:Add of existing embedding ID: a76e228d-e527-4c14-9b3e-22543564a672\n"
          ]
        }
      ]
    },
    {
      "cell_type": "code",
      "source": [
        "from llama_index.core import load_index_from_storage\n",
        "index = load_index_from_storage(storage_context,embed_model = embed_model)"
      ],
      "metadata": {
        "id": "ODYWWnqxlAHD"
      },
      "execution_count": 104,
      "outputs": []
    },
    {
      "cell_type": "code",
      "source": [
        "from google.colab import userdata"
      ],
      "metadata": {
        "id": "m6QbJ7n5lCwj"
      },
      "execution_count": 105,
      "outputs": []
    },
    {
      "cell_type": "code",
      "source": [
        "Groq_api = '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'"
      ],
      "metadata": {
        "id": "HwO2C2rimMxp"
      },
      "execution_count": 106,
      "outputs": []
    },
    {
      "cell_type": "code",
      "source": [
        "!pip install -q llama-index-llms-groq"
      ],
      "metadata": {
        "id": "0mX2Dg2PlFtE"
      },
      "execution_count": 107,
      "outputs": []
    },
    {
      "cell_type": "code",
      "source": [
        "from llama_index.llms.groq import Groq"
      ],
      "metadata": {
        "id": "fgWa6YFOlIfk"
      },
      "execution_count": 108,
      "outputs": []
    },
    {
      "cell_type": "code",
      "source": [
        "llms = Groq(model = 'llama3-70b-8192',api_key=Groq_api )"
      ],
      "metadata": {
        "id": "nMK2uKenlJGT"
      },
      "execution_count": 109,
      "outputs": []
    },
    {
      "cell_type": "code",
      "source": [
        "query_engine = index.as_query_engine(llm=llms,similarity_top_k=3)"
      ],
      "metadata": {
        "id": "3wxZewATlLA7"
      },
      "execution_count": 122,
      "outputs": []
    },
    {
      "cell_type": "code",
      "source": [
        "pergunta= query_engine.query('Quais graos estao disponiveis').response\n",
        "print(pergunta)"
      ],
      "metadata": {
        "colab": {
          "base_uri": "https://localhost:8080/"
        },
        "id": "lBHWel_NlNA0",
        "outputId": "3f705097-d06f-4302-97f8-d9dedb22ee41"
      },
      "execution_count": 123,
      "outputs": [
        {
          "output_type": "stream",
          "name": "stdout",
          "text": [
            "Milho e Soja.\n"
          ]
        }
      ]
    },
    {
      "cell_type": "code",
      "source": [
        "chat_engine = index.as_chat_engine(mode='context',llm = llms)"
      ],
      "metadata": {
        "id": "__ckOTIrrcyf"
      },
      "execution_count": 125,
      "outputs": []
    },
    {
      "cell_type": "code",
      "source": [
        "chat_engine.chat_history"
      ],
      "metadata": {
        "colab": {
          "base_uri": "https://localhost:8080/"
        },
        "id": "CV2zxzPYrQh4",
        "outputId": "4c6ba6a0-30bb-4e65-a05c-ba408bd82728"
      },
      "execution_count": 126,
      "outputs": [
        {
          "output_type": "execute_result",
          "data": {
            "text/plain": [
              "[]"
            ]
          },
          "metadata": {},
          "execution_count": 126
        }
      ]
    },
    {
      "cell_type": "code",
      "source": [
        "from llama_index.core.memory import ChatSummaryMemoryBuffer"
      ],
      "metadata": {
        "id": "q4GaupFCrg3f"
      },
      "execution_count": 127,
      "outputs": []
    },
    {
      "cell_type": "code",
      "source": [
        "memory = ChatSummaryMemoryBuffer(llm=llms,token_limit=256)"
      ],
      "metadata": {
        "id": "Kzhn5PoFrlJ_"
      },
      "execution_count": 128,
      "outputs": []
    },
    {
      "cell_type": "code",
      "source": [
        "chat_engine= index.as_chat_engine(\n",
        "    chat_mode = 'context',\n",
        "    llm=llms,\n",
        "    memory=memory,\n",
        "    system_prompt=('''Você é especialista em agricultura, tipos de solo, auxilia o\n",
        "    agricultor na escolha da semente e em como preparar o solo para o plantio, bem\n",
        "    como definir os limites da temperatura para o solo e irrigação de acordo com a semente\n",
        "    plantada.''')\n",
        ")"
      ],
      "metadata": {
        "id": "A8zeWOR2rm7-"
      },
      "execution_count": 133,
      "outputs": []
    },
    {
      "cell_type": "code",
      "source": [
        "response = chat_engine.chat('Ola')\n",
        "print(response)"
      ],
      "metadata": {
        "colab": {
          "base_uri": "https://localhost:8080/"
        },
        "id": "G3qSCeo0r6Z9",
        "outputId": "80e04855-eb2a-464f-c988-0b32c656f52a"
      },
      "execution_count": 134,
      "outputs": [
        {
          "output_type": "stream",
          "name": "stdout",
          "text": [
            "Olá! Você está lendo o documento \"doc_info_agricultura.pdf\" e está na página 3. Você quer saber sobre como ajustar o pH do solo para diferentes culturas ou como preparar o solo para diferentes sementes? Ou talvez você tenha alguma dúvida sobre fertilizantes ou irrigação? Estou aqui para ajudar!\n"
          ]
        }
      ]
    },
    {
      "cell_type": "code",
      "source": [
        "response = chat_engine.chat('Por que é importante preparar o solo adequadamente antes do plantio?')\n",
        "print(response)"
      ],
      "metadata": {
        "colab": {
          "base_uri": "https://localhost:8080/"
        },
        "id": "2c73qwAIsup5",
        "outputId": "d8745874-ec6c-4076-efc0-2f2bc2706910"
      },
      "execution_count": 136,
      "outputs": [
        {
          "output_type": "stream",
          "name": "stdout",
          "text": [
            "Excelente pergunta! De acordo com o documento, o preparo adequado do solo garante que as plantas tenham acesso aos nutrientes necessários, além de melhorar a retenção de água e a aeração, fatores essenciais para o crescimento saudável. Isso significa que, se o solo não estiver preparado corretamente, as plantas podem não ter acesso aos nutrientes que precisam, o que pode afetar seu crescimento e produtividade. Além disso, um solo mal preparado também pode levar a problemas de compactação, erosão e estresse hídrico, o que pode ser prejudicial para as plantas.\n"
          ]
        }
      ]
    },
    {
      "cell_type": "code",
      "source": [
        "response = chat_engine.chat('Quais são os principais tipos de solo e como prepará-los para o cultivo?')\n",
        "print(response)"
      ],
      "metadata": {
        "colab": {
          "base_uri": "https://localhost:8080/"
        },
        "id": "I9NCdc6ms--1",
        "outputId": "d53b3f42-37bf-46a1-ad72-298af4fe42dd"
      },
      "execution_count": 138,
      "outputs": [
        {
          "output_type": "stream",
          "name": "stdout",
          "text": [
            "De acordo com o documento, existem diversos tipos de solo, cada um com características específicas e tratamentos recomendados. Aqui estão alguns dos principais tipos de solo e como prepará-los para o cultivo:\n",
            "\n",
            "* Solo Arenoso: Drenagem rápida, baixo teor de nutrientes. Recomenda-se adição de matéria orgânica e irrigação frequente.\n",
            "* Solo Argiloso: Retém muita água, pode compactar facilmente. Aéreação e adição de areia podem melhorar a drenagem.\n",
            "* Solo Calcário: Alto pH, pouca disponibilidade de micronutrientes. Pode ser corrigido com adubação orgânica e fertilizantes ácidos.\n",
            "\n",
            "É importante lembrar que cada tipo de solo tem suas próprias necessidades e exigências, e é fundamental entender essas características para preparar o solo de forma adequada para o cultivo.\n"
          ]
        }
      ]
    },
    {
      "cell_type": "code",
      "source": [
        "response = chat_engine.chat('Quais sensores podem ser utilizados para monitorar a umidade do solo e como funcionam?')\n",
        "print(response)"
      ],
      "metadata": {
        "colab": {
          "base_uri": "https://localhost:8080/"
        },
        "id": "vJ7AdYZotE96",
        "outputId": "8568b95e-ab18-4c1b-c507-99230799994e"
      },
      "execution_count": 139,
      "outputs": [
        {
          "output_type": "stream",
          "name": "stdout",
          "text": [
            "Excelente pergunta! De acordo com o documento, existem diversas tecnologias para medir a umidade do solo, entre elas:\n",
            "\n",
            "* Sensor Capacitivo de Umidade do Solo: Mede a variação da capacitância conforme o nível de umidade.\n",
            "* Sensor Resistivo de Umidade: Mede a condutividade elétrica do solo, variando conforme a umidade.\n",
            "* Sensor TDR (Time Domain Reflectometry): Utiliza pulsos eletromagnéticos para calcular a umidade com alta precisão.\n",
            "* Sondas de Tensiômetro: Medem a tensão com que a água está sendo retida no solo, indicando o nível de umidade disponível para as plantas.\n",
            "\n",
            "Esses sensores são fundamentais para o manejo eficiente da irrigação e para evitar estresse hídrico das plantas. Eles permitem que os agricultores monitorem a umidade do solo em tempo real, ajustando a irrigação de acordo com as necessidades das plantas.\n"
          ]
        }
      ]
    },
    {
      "cell_type": "code",
      "source": [
        "response = chat_engine.chat('Como é possível ajustar o pH do solo para atender às necessidades das diferentes culturas?')\n",
        "print(response)"
      ],
      "metadata": {
        "colab": {
          "base_uri": "https://localhost:8080/"
        },
        "id": "I8flU-BNtTzW",
        "outputId": "26a5d684-5016-46a7-f55b-0119831fe1aa"
      },
      "execution_count": 140,
      "outputs": [
        {
          "output_type": "stream",
          "name": "stdout",
          "text": [
            "Excelente pergunta! De acordo com o documento, o pH do solo pode ser ajustado para atender às necessidades das diferentes culturas mediante a aplicação de substâncias que alteram o pH do solo. Aqui estão algumas dicas:\n",
            "\n",
            "* Solo Ácido (pH baixo): Aplicação de calcário para aumentar o pH.\n",
            "* Solo Alcalino (pH alto): Uso de enxofre ou fertilizantes ácidos para reduzir o pH.\n",
            "\n",
            "Além disso, é importante lembrar que cada cultura tem suas próprias necessidades de pH. Por exemplo:\n",
            "\n",
            "* Milho: Prefere solo com pH entre 5,5 e 7,0.\n",
            "* Soja: Solo com pH entre 6,0 e 7,0.\n",
            "* Trigo: Prefere solo com pH entre 6,0 e 7,5.\n",
            "* Hortaliças (alface, tomate, cenoura): Solo com pH entre 5,5 e 6,8.\n",
            "\n",
            "É fundamental realizar análises de solo regularmente para determinar o pH atual e ajustá-lo de acordo com as necessidades das culturas. Além disso, é importante lembrar que a aplicação de substâncias que alteram o pH do solo deve ser feita com cuidado, pois pode afetar a disponibilidade de nutrientes para as plantas.\n"
          ]
        }
      ]
    },
    {
      "cell_type": "code",
      "source": [
        "response = chat_engine.chat('Quais são os principais fertilizantes utilizados e qual a diferença entre fertilizantes orgânicos e químicos?')\n",
        "print(response)"
      ],
      "metadata": {
        "colab": {
          "base_uri": "https://localhost:8080/"
        },
        "id": "Hlyor5jcta7W",
        "outputId": "e902d6ca-a306-4feb-ff10-f4d1d018daf1"
      },
      "execution_count": 141,
      "outputs": [
        {
          "output_type": "stream",
          "name": "stdout",
          "text": [
            "Excelente pergunta!\n",
            "\n",
            "Os principais fertilizantes utilizados no solo podem ser classificados em três categorias: orgânicos, químicos e de liberação controlada.\n",
            "\n",
            "**Fertilizantes Orgânicos:**\n",
            "\n",
            "* São compostos naturais, como esterco, húmus de minhoca, farinha de ossos e restos vegetais.\n",
            "* São ricos em nutrientes e matéria orgânica, que melhoram a estrutura e a fertilidade do solo.\n",
            "* São mais seguros para o meio ambiente e promovem a biodiversidade do solo.\n",
            "* Exemplos: compostos, esterco, húmus de minhoca, farinha de ossos.\n",
            "\n",
            "**Fertilizantes Químicos:**\n",
            "\n",
            "* São compostos sintéticos, como NPK (Nitrogênio, Fósforo e Potássio), ureia, superfosfato e cloreto de potássio.\n",
            "* São ricos em nutrientes, mas podem ser prejudiciais ao meio ambiente se utilizados em excesso.\n",
            "* São mais rápidos em liberar nutrientes para as plantas, mas podem causar efeitos negativos a longo prazo no solo.\n",
            "* Exemplos: NPK, ureia, superfosfato, cloreto de potássio.\n",
            "\n",
            "**Fertilizantes de Liberação Controlada:**\n",
            "\n",
            "* São fertilizantes que liberam nutrientes gradualmente ao longo do tempo, otimizando o aproveitamento pelas plantas.\n",
            "* São mais eficientes em termos de nutrientes e reduzem a perda de nutrientes por lixiviação.\n",
            "* Exemplos: fertilizantes encapsulados, fertilizantes de liberação lenta.\n",
            "\n",
            "É importante notar que a escolha do tipo de fertilizante depende do tipo de solo, da cultura a ser plantada e das necessidades específicas das plantas. Além disso, é fundamental realizar análises de solo regularmente para determinar as necessidades de nutrientes e evitar o uso excessivo de fertilizantes.\n"
          ]
        }
      ]
    },
    {
      "cell_type": "code",
      "source": [
        "response = chat_engine.chat('Qual é o processo recomendado para a correção e preparo do solo antes do plantio?')\n",
        "print(response)"
      ],
      "metadata": {
        "colab": {
          "base_uri": "https://localhost:8080/"
        },
        "id": "vLadt8-ktibz",
        "outputId": "19dd5f31-ce2d-4958-f7bc-18ff443b7f15"
      },
      "execution_count": 142,
      "outputs": [
        {
          "output_type": "stream",
          "name": "stdout",
          "text": [
            "Excelente pergunta!\n",
            "\n",
            "De acordo com as informações apresentadas, o processo recomendado para a correção e preparo do solo antes do plantio é o seguinte:\n",
            "\n",
            "**Passo 1: Análise do Solo**\n",
            "\n",
            "* Coletar amostras do solo para verificar o pH, umidade e nutrientes.\n",
            "* Verificar se o solo é ácido, alcalino ou neutro e quais nutrientes estão presentes ou faltando.\n",
            "\n",
            "**Passo 2: Correção do Solo**\n",
            "\n",
            "* Aplicar calcário para corrigir o pH do solo, se necessário.\n",
            "* Adicionar adubos e melhoradores de solo, como matéria orgânica, para suprir as necessidades nutricionais das plantas.\n",
            "\n",
            "**Passo 3: Aragem e Gradagem**\n",
            "\n",
            "* Revolver o solo para aeração e nivelamento.\n",
            "* Preparar o solo para a sementeira ou mudas.\n",
            "\n",
            "**Passo 4: Adubação**\n",
            "\n",
            "* Incorporar fertilizantes e matéria orgânica no solo.\n",
            "* Verificar se os nutrientes estão disponíveis para as plantas.\n",
            "\n",
            "**Passo 5: Preparo Final**\n",
            "\n",
            "* Nivelar o solo e preparar os espaçamentos para a sementeira ou mudas.\n",
            "* Verificar se o solo está pronto para o plantio.\n",
            "\n",
            "É importante lembrar que a análise do solo é fundamental para determinar as necessidades nutricionais das plantas e evitar a aplicação excessiva de fertilizantes. Além disso, é recomendável considerar as necessidades específicas da cultura a ser plantada e ajustar o preparo do solo de acordo.\n"
          ]
        }
      ]
    },
    {
      "cell_type": "code",
      "source": [
        "response = chat_engine.chat('Como garantir a fertilidade do solo para diferentes tipos de culturas?')\n",
        "print(response)"
      ],
      "metadata": {
        "colab": {
          "base_uri": "https://localhost:8080/"
        },
        "id": "5jLhWaz6tpPq",
        "outputId": "c0c6c549-a91f-41c4-9f44-f6780c886dcd"
      },
      "execution_count": 143,
      "outputs": [
        {
          "output_type": "stream",
          "name": "stdout",
          "text": [
            "Excelente pergunta! Garantir a fertilidade do solo é fundamental para o crescimento saudável das plantas. Cada cultura tem necessidades específicas de nutrientes, e é importante adaptar a adubação às necessidades da cultura.\n",
            "\n",
            "Para garantir a fertilidade do solo, é importante seguir os seguintes passos:\n",
            "\n",
            "1. Análise do Solo: Coletar amostras do solo e verificar o pH, umidade e nutrientes presentes. Isso ajudará a identificar quais nutrientes estão faltando e quais são necessários para a cultura específica.\n",
            "2. Correção do Solo: Aplicar calcário, adubos e melhoradores conforme necessidade. Por exemplo, se o solo for ácido, aplicar calcário para aumentar o pH. Se o solo for pobre em nitrogênio, aplicar adubos nitrogenados.\n",
            "3. Adubação: Incorporar fertilizantes e matéria orgânica no solo. A adubação pode ser orgânica (composto, esterco) ou química (NPK). É importante escolher o tipo de adubo adequado para a cultura específica.\n",
            "4. Manutenção do Solo: Manter o solo saudável com práticas de rotação de culturas, cobertura vegetal e controle de erosão.\n",
            "\n",
            "Além disso, é importante considerar as necessidades específicas de cada cultura. Por exemplo:\n",
            "\n",
            "* Milho: Prefere solo bem drenado, pH entre 5,5 e 7,0, rico em nitrogênio.\n",
            "* Soja: Solo com boa retenção de umidade, pH entre 6,0 e 7,0, necessária fixação biológica de nitrogênio.\n",
            "* Trigo: Prefere solos profundos e bem drenados, pH entre 6,0 e 7,5, rico em fósforo.\n",
            "* Hortaliças (alface, tomate, cenoura): Solo leve, bem drenado e rico em matéria orgânica, pH entre 5,5 e 6,8.\n",
            "\n",
            "Lembre-se de que a análise do solo é fundamental para determinar os nutrientes necessários e garantir a fertilidade do solo para as culturas específicas.\n"
          ]
        }
      ]
    },
    {
      "cell_type": "code",
      "source": [
        "response = chat_engine.chat('Quais são os principais fatores que devem ser levados em consideração ao planejar a irrigação do solo?')\n",
        "print(response)"
      ],
      "metadata": {
        "colab": {
          "base_uri": "https://localhost:8080/"
        },
        "id": "q2TNRDX8ty-R",
        "outputId": "52ecd535-635a-4319-9a11-beb997d828eb"
      },
      "execution_count": 144,
      "outputs": [
        {
          "output_type": "stream",
          "name": "stdout",
          "text": [
            "Excelente pergunta! Ao planejar a irrigação do solo, é fundamental considerar os seguintes fatores:\n",
            "\n",
            "1. **Tipo de solo**: Cada tipo de solo tem uma capacidade de retenção de água diferente. Solos arenosos, por exemplo, precisam de irrigação mais frequente, enquanto solos argilosos podem reter água por mais tempo.\n",
            "2. **Umidade ideal**: É importante conhecer a umidade ideal para cada cultura, para evitar estresse hídrico ou excesso de água.\n",
            "3. **Cultura plantada**: Diferentes culturas têm necessidades de água diferentes. Algumas plantas precisam de mais água, enquanto outras são mais resistentes à seca.\n",
            "4. **Clima e temperatura**: O clima e a temperatura também influenciam na necessidade de irrigação. Em climas quentes e secos, a irrigação pode ser mais frequente.\n",
            "5. **Disponibilidade de água**: É importante considerar a disponibilidade de água para irrigação, para evitar desperdício e garantir a sustentabilidade.\n",
            "\n",
            "Além disso, é fundamental monitorar a umidade do solo utilizando sensores, como os mencionados anteriormente (Sensor Capacitivo de Umidade do Solo, Sensor Resistivo de Umidade, Sensor TDR, etc.), para ajustar a irrigação de acordo com as necessidades do solo e da cultura.\n",
            "\n",
            "Planejando a irrigação de acordo com esses fatores, é possível garantir a saúde do solo, a eficiência do uso da água e o crescimento saudável das plantas.\n"
          ]
        }
      ]
    },
    {
      "cell_type": "code",
      "source": [
        "response = chat_engine.chat('Quais são as melhores práticas para evitar a compactação do solo e a erosão?')\n",
        "print(response)"
      ],
      "metadata": {
        "colab": {
          "base_uri": "https://localhost:8080/"
        },
        "id": "acTNzteQt7LZ",
        "outputId": "25b0641d-07f4-493e-e92d-4142818b17dd"
      },
      "execution_count": 145,
      "outputs": [
        {
          "output_type": "stream",
          "name": "stdout",
          "text": [
            "Excelente pergunta! Evitar a compactação do solo e a erosão são fundamentais para manter a saúde do solo e garantir um crescimento saudável das plantas.\n",
            "\n",
            "Para evitar a compactação do solo, algumas das melhores práticas incluem:\n",
            "\n",
            "* Rotação de culturas: Alternar entre culturas diferentes ajuda a quebrar a compactação do solo e a promover a aeração.\n",
            "* Cobertura vegetal: Manter uma cobertura vegetal entre as culturas ajuda a proteger o solo da compactação e a erosão.\n",
            "* Evitar tráfego excessivo: Limitar o tráfego de máquinas e pessoas sobre o solo ajuda a prevenir a compactação.\n",
            "* Uso de equipamentos adequados: Utilizar equipamentos de cultivo que não compactem o solo, como arados de disco ou cultivadores, pode ajudar a minimizar a compactação.\n",
            "\n",
            "Já para evitar a erosão, algumas das melhores práticas incluem:\n",
            "\n",
            "* Uso de cobertura morta: Deixar a cobertura vegetal ou restos de culturas sobre o solo ajuda a proteger contra a erosão.\n",
            "* Curvas de nível: Criar curvas de nível em terrenos inclinados ajuda a reduzir a velocidade da água e a prevenir a erosão.\n",
            "* Plantio em contorno: Plantar em contorno, ou seja, em curvas que seguem o contorno do terreno, ajuda a reduzir a erosão.\n",
            "* Uso de barreiras: Utilizar barreiras, como sebes ou paredes de contenção, pode ajudar a prevenir a erosão em áreas propensas.\n",
            "\n",
            "Além disso, é importante lembrar que a escolha da cultura adequada para o tipo de solo e a região também é fundamental para evitar a compactação e a erosão.\n",
            "\n",
            "Você tem alguma dúvida específica sobre essas práticas ou gostaria de saber mais sobre algum outro tópico relacionado à agricultura?\n"
          ]
        }
      ]
    },
    {
      "cell_type": "code",
      "source": [
        "response = chat_engine.chat('Onde um agricultor pode obter mais informações sobre preparo do solo e escolha de sementes?')\n",
        "print(response)"
      ],
      "metadata": {
        "colab": {
          "base_uri": "https://localhost:8080/"
        },
        "id": "MRKHFSPTuCLx",
        "outputId": "99f76119-c79f-4389-e8d6-51481c1867eb"
      },
      "execution_count": 146,
      "outputs": [
        {
          "output_type": "stream",
          "name": "stdout",
          "text": [
            "Excelente pergunta! De acordo com o texto, um agricultor pode obter mais informações sobre preparo do solo e escolha de sementes consultando um agrônomo ou acessando fontes confiáveis de pesquisa agrícola. Além disso, é importante lembrar que a análise do solo é fundamental para determinar as necessidades específicas da cultura e do solo, portanto, é recomendável realizar análises de solo regularmente para obter informações precisas e personalizadas.\n"
          ]
        }
      ]
    },
    {
      "cell_type": "code",
      "source": [
        "memory.get()"
      ],
      "metadata": {
        "colab": {
          "base_uri": "https://localhost:8080/"
        },
        "id": "vAH4SVa9uizP",
        "outputId": "11e84324-2aa1-45e0-9cf8-be4c248c012d"
      },
      "execution_count": 147,
      "outputs": [
        {
          "output_type": "execute_result",
          "data": {
            "text/plain": [
              "[ChatMessage(role=<MessageRole.SYSTEM: 'system'>, additional_kwargs={}, blocks=[TextBlock(block_type='text', text=\"It seems like we've switched back to soil preparation and fertility!\\n\\nYou've provided an excellent answer to the question about best practices to avoid soil compaction and erosion. The practices you mentioned, such as crop rotation, cover cropping, avoiding excessive traffic, using appropriate equipment, and contour planting, are all crucial to maintaining soil health and preventing erosion.\\n\\nI'd like to build upon this topic. Can you elaborate on the importance of soil aeration in preventing soil compaction? How do different tillage practices, such as no-till or reduced-till farming, affect soil aeration and structure?\\n\\nOr, if you'd like to explore a different aspect of soil preparation and fertility, feel free to discuss or ask a question!\")]),\n",
              " ChatMessage(role=<MessageRole.USER: 'user'>, additional_kwargs={}, blocks=[TextBlock(block_type='text', text='Onde um agricultor pode obter mais informações sobre preparo do solo e escolha de sementes?')]),\n",
              " ChatMessage(role=<MessageRole.ASSISTANT: 'assistant'>, additional_kwargs={}, blocks=[TextBlock(block_type='text', text='Excelente pergunta! De acordo com o texto, um agricultor pode obter mais informações sobre preparo do solo e escolha de sementes consultando um agrônomo ou acessando fontes confiáveis de pesquisa agrícola. Além disso, é importante lembrar que a análise do solo é fundamental para determinar as necessidades específicas da cultura e do solo, portanto, é recomendável realizar análises de solo regularmente para obter informações precisas e personalizadas.')])]"
            ]
          },
          "metadata": {},
          "execution_count": 147
        }
      ]
    },
    {
      "cell_type": "code",
      "source": [
        "#resetando o chat\n",
        "chat_engine.reset()"
      ],
      "metadata": {
        "id": "Nfr0YeFYulwk"
      },
      "execution_count": 148,
      "outputs": []
    },
    {
      "cell_type": "code",
      "source": [
        "# implementando a interface com o Gradio\n",
        "!pip install gradio"
      ],
      "metadata": {
        "colab": {
          "base_uri": "https://localhost:8080/"
        },
        "id": "el_iQJlDupyb",
        "outputId": "ed64187e-b275-4d41-deab-3574b32d1ef2"
      },
      "execution_count": 149,
      "outputs": [
        {
          "output_type": "stream",
          "name": "stdout",
          "text": [
            "Collecting gradio\n",
            "  Downloading gradio-5.22.0-py3-none-any.whl.metadata (16 kB)\n",
            "Collecting aiofiles<24.0,>=22.0 (from gradio)\n",
            "  Downloading aiofiles-23.2.1-py3-none-any.whl.metadata (9.7 kB)\n",
            "Requirement already satisfied: anyio<5.0,>=3.0 in /usr/local/lib/python3.11/dist-packages (from gradio) (3.7.1)\n",
            "Requirement already satisfied: fastapi<1.0,>=0.115.2 in /usr/local/lib/python3.11/dist-packages (from gradio) (0.115.11)\n",
            "Collecting ffmpy (from gradio)\n",
            "  Downloading ffmpy-0.5.0-py3-none-any.whl.metadata (3.0 kB)\n",
            "Collecting gradio-client==1.8.0 (from gradio)\n",
            "  Downloading gradio_client-1.8.0-py3-none-any.whl.metadata (7.1 kB)\n",
            "Collecting groovy~=0.1 (from gradio)\n",
            "  Downloading groovy-0.1.2-py3-none-any.whl.metadata (6.1 kB)\n",
            "Requirement already satisfied: httpx>=0.24.1 in /usr/local/lib/python3.11/dist-packages (from gradio) (0.28.1)\n",
            "Requirement already satisfied: huggingface-hub>=0.28.1 in /usr/local/lib/python3.11/dist-packages (from gradio) (0.28.1)\n",
            "Requirement already satisfied: jinja2<4.0 in /usr/local/lib/python3.11/dist-packages (from gradio) (3.1.6)\n",
            "Requirement already satisfied: markupsafe<4.0,>=2.0 in /usr/local/lib/python3.11/dist-packages (from gradio) (3.0.2)\n",
            "Requirement already satisfied: numpy<3.0,>=1.0 in /usr/local/lib/python3.11/dist-packages (from gradio) (2.0.2)\n",
            "Requirement already satisfied: orjson~=3.0 in /usr/local/lib/python3.11/dist-packages (from gradio) (3.10.15)\n",
            "Requirement already satisfied: packaging in /usr/local/lib/python3.11/dist-packages (from gradio) (24.2)\n",
            "Requirement already satisfied: pandas<3.0,>=1.0 in /usr/local/lib/python3.11/dist-packages (from gradio) (2.2.2)\n",
            "Requirement already satisfied: pillow<12.0,>=8.0 in /usr/local/lib/python3.11/dist-packages (from gradio) (11.1.0)\n",
            "Requirement already satisfied: pydantic>=2.0 in /usr/local/lib/python3.11/dist-packages (from gradio) (2.10.6)\n",
            "Collecting pydub (from gradio)\n",
            "  Downloading pydub-0.25.1-py2.py3-none-any.whl.metadata (1.4 kB)\n",
            "Collecting python-multipart>=0.0.18 (from gradio)\n",
            "  Downloading python_multipart-0.0.20-py3-none-any.whl.metadata (1.8 kB)\n",
            "Requirement already satisfied: pyyaml<7.0,>=5.0 in /usr/local/lib/python3.11/dist-packages (from gradio) (6.0.2)\n",
            "Collecting ruff>=0.9.3 (from gradio)\n",
            "  Downloading ruff-0.11.0-py3-none-manylinux_2_17_x86_64.manylinux2014_x86_64.whl.metadata (25 kB)\n",
            "Collecting safehttpx<0.2.0,>=0.1.6 (from gradio)\n",
            "  Downloading safehttpx-0.1.6-py3-none-any.whl.metadata (4.2 kB)\n",
            "Collecting semantic-version~=2.0 (from gradio)\n",
            "  Downloading semantic_version-2.10.0-py2.py3-none-any.whl.metadata (9.7 kB)\n",
            "Requirement already satisfied: starlette<1.0,>=0.40.0 in /usr/local/lib/python3.11/dist-packages (from gradio) (0.46.1)\n",
            "Collecting tomlkit<0.14.0,>=0.12.0 (from gradio)\n",
            "  Downloading tomlkit-0.13.2-py3-none-any.whl.metadata (2.7 kB)\n",
            "Requirement already satisfied: typer<1.0,>=0.12 in /usr/local/lib/python3.11/dist-packages (from gradio) (0.15.2)\n",
            "Requirement already satisfied: typing-extensions~=4.0 in /usr/local/lib/python3.11/dist-packages (from gradio) (4.12.2)\n",
            "Requirement already satisfied: uvicorn>=0.14.0 in /usr/local/lib/python3.11/dist-packages (from gradio) (0.34.0)\n",
            "Requirement already satisfied: fsspec in /usr/local/lib/python3.11/dist-packages (from gradio-client==1.8.0->gradio) (2024.10.0)\n",
            "Requirement already satisfied: websockets<16.0,>=10.0 in /usr/local/lib/python3.11/dist-packages (from gradio-client==1.8.0->gradio) (14.2)\n",
            "Requirement already satisfied: idna>=2.8 in /usr/local/lib/python3.11/dist-packages (from anyio<5.0,>=3.0->gradio) (3.10)\n",
            "Requirement already satisfied: sniffio>=1.1 in /usr/local/lib/python3.11/dist-packages (from anyio<5.0,>=3.0->gradio) (1.3.1)\n",
            "Requirement already satisfied: certifi in /usr/local/lib/python3.11/dist-packages (from httpx>=0.24.1->gradio) (2025.1.31)\n",
            "Requirement already satisfied: httpcore==1.* in /usr/local/lib/python3.11/dist-packages (from httpx>=0.24.1->gradio) (1.0.7)\n",
            "Requirement already satisfied: h11<0.15,>=0.13 in /usr/local/lib/python3.11/dist-packages (from httpcore==1.*->httpx>=0.24.1->gradio) (0.14.0)\n",
            "Requirement already satisfied: filelock in /usr/local/lib/python3.11/dist-packages (from huggingface-hub>=0.28.1->gradio) (3.17.0)\n",
            "Requirement already satisfied: requests in /usr/local/lib/python3.11/dist-packages (from huggingface-hub>=0.28.1->gradio) (2.32.3)\n",
            "Requirement already satisfied: tqdm>=4.42.1 in /usr/local/lib/python3.11/dist-packages (from huggingface-hub>=0.28.1->gradio) (4.67.1)\n",
            "Requirement already satisfied: python-dateutil>=2.8.2 in /usr/local/lib/python3.11/dist-packages (from pandas<3.0,>=1.0->gradio) (2.8.2)\n",
            "Requirement already satisfied: pytz>=2020.1 in /usr/local/lib/python3.11/dist-packages (from pandas<3.0,>=1.0->gradio) (2025.1)\n",
            "Requirement already satisfied: tzdata>=2022.7 in /usr/local/lib/python3.11/dist-packages (from pandas<3.0,>=1.0->gradio) (2025.1)\n",
            "Requirement already satisfied: annotated-types>=0.6.0 in /usr/local/lib/python3.11/dist-packages (from pydantic>=2.0->gradio) (0.7.0)\n",
            "Requirement already satisfied: pydantic-core==2.27.2 in /usr/local/lib/python3.11/dist-packages (from pydantic>=2.0->gradio) (2.27.2)\n",
            "Requirement already satisfied: click>=8.0.0 in /usr/local/lib/python3.11/dist-packages (from typer<1.0,>=0.12->gradio) (8.1.8)\n",
            "Requirement already satisfied: shellingham>=1.3.0 in /usr/local/lib/python3.11/dist-packages (from typer<1.0,>=0.12->gradio) (1.5.4)\n",
            "Requirement already satisfied: rich>=10.11.0 in /usr/local/lib/python3.11/dist-packages (from typer<1.0,>=0.12->gradio) (13.9.4)\n",
            "Requirement already satisfied: six>=1.5 in /usr/local/lib/python3.11/dist-packages (from python-dateutil>=2.8.2->pandas<3.0,>=1.0->gradio) (1.17.0)\n",
            "Requirement already satisfied: markdown-it-py>=2.2.0 in /usr/local/lib/python3.11/dist-packages (from rich>=10.11.0->typer<1.0,>=0.12->gradio) (3.0.0)\n",
            "Requirement already satisfied: pygments<3.0.0,>=2.13.0 in /usr/local/lib/python3.11/dist-packages (from rich>=10.11.0->typer<1.0,>=0.12->gradio) (2.18.0)\n",
            "Requirement already satisfied: charset-normalizer<4,>=2 in /usr/local/lib/python3.11/dist-packages (from requests->huggingface-hub>=0.28.1->gradio) (3.4.1)\n",
            "Requirement already satisfied: urllib3<3,>=1.21.1 in /usr/local/lib/python3.11/dist-packages (from requests->huggingface-hub>=0.28.1->gradio) (2.3.0)\n",
            "Requirement already satisfied: mdurl~=0.1 in /usr/local/lib/python3.11/dist-packages (from markdown-it-py>=2.2.0->rich>=10.11.0->typer<1.0,>=0.12->gradio) (0.1.2)\n",
            "Downloading gradio-5.22.0-py3-none-any.whl (46.2 MB)\n",
            "\u001b[2K   \u001b[90m━━━━━━━━━━━━━━━━━━━━━━━━━━━━━━━━━━━━━━━━\u001b[0m \u001b[32m46.2/46.2 MB\u001b[0m \u001b[31m13.3 MB/s\u001b[0m eta \u001b[36m0:00:00\u001b[0m\n",
            "\u001b[?25hDownloading gradio_client-1.8.0-py3-none-any.whl (322 kB)\n",
            "\u001b[2K   \u001b[90m━━━━━━━━━━━━━━━━━━━━━━━━━━━━━━━━━━━━━━━━\u001b[0m \u001b[32m322.2/322.2 kB\u001b[0m \u001b[31m18.1 MB/s\u001b[0m eta \u001b[36m0:00:00\u001b[0m\n",
            "\u001b[?25hDownloading aiofiles-23.2.1-py3-none-any.whl (15 kB)\n",
            "Downloading groovy-0.1.2-py3-none-any.whl (14 kB)\n",
            "Downloading python_multipart-0.0.20-py3-none-any.whl (24 kB)\n",
            "Downloading ruff-0.11.0-py3-none-manylinux_2_17_x86_64.manylinux2014_x86_64.whl (11.3 MB)\n",
            "\u001b[2K   \u001b[90m━━━━━━━━━━━━━━━━━━━━━━━━━━━━━━━━━━━━━━━━\u001b[0m \u001b[32m11.3/11.3 MB\u001b[0m \u001b[31m85.5 MB/s\u001b[0m eta \u001b[36m0:00:00\u001b[0m\n",
            "\u001b[?25hDownloading safehttpx-0.1.6-py3-none-any.whl (8.7 kB)\n",
            "Downloading semantic_version-2.10.0-py2.py3-none-any.whl (15 kB)\n",
            "Downloading tomlkit-0.13.2-py3-none-any.whl (37 kB)\n",
            "Downloading ffmpy-0.5.0-py3-none-any.whl (6.0 kB)\n",
            "Downloading pydub-0.25.1-py2.py3-none-any.whl (32 kB)\n",
            "Installing collected packages: pydub, tomlkit, semantic-version, ruff, python-multipart, groovy, ffmpy, aiofiles, safehttpx, gradio-client, gradio\n",
            "Successfully installed aiofiles-23.2.1 ffmpy-0.5.0 gradio-5.22.0 gradio-client-1.8.0 groovy-0.1.2 pydub-0.25.1 python-multipart-0.0.20 ruff-0.11.0 safehttpx-0.1.6 semantic-version-2.10.0 tomlkit-0.13.2\n"
          ]
        }
      ]
    },
    {
      "cell_type": "code",
      "source": [
        "import gradio as gr"
      ],
      "metadata": {
        "id": "PRD9iLXzuu-r"
      },
      "execution_count": 150,
      "outputs": []
    },
    {
      "cell_type": "code",
      "source": [
        "# Criando a função para conversar com o chatbot\n",
        "def converse_com_bot(message, chat_history):\n",
        "    response = chat_engine.chat(message)\n",
        "\n",
        "    if chat_history is None:\n",
        "        chat_history = []\n",
        "\n",
        "    chat_history.append({\"role\": \"user\", \"content\": message})\n",
        "    chat_history.append({\"role\": \"assistant\", \"content\": response.response})\n",
        "\n",
        "    return \"\", chat_history\n",
        "\n",
        "# Criando a função para resetar o chatbot\n",
        "def resetar_chat():\n",
        "    chat_engine.reset()\n",
        "    return []"
      ],
      "metadata": {
        "id": "oVEzLH0auyJk"
      },
      "execution_count": 151,
      "outputs": []
    },
    {
      "cell_type": "code",
      "source": [
        "with gr.Blocks() as app:\n",
        "\n",
        "    gr.Markdown('# Chatbot da Agricultura')\n",
        "    chatbot = gr.Chatbot(type='messages')\n",
        "    msg = gr.Textbox(label='Digite a sua mensagem')\n",
        "    limpar = gr.Button('Limpar')\n",
        "\n",
        "    msg.submit(converse_com_bot,[msg,chatbot],[msg,chatbot])\n",
        "    limpar.click(resetar_chat,None,chatbot,queue=False)\n",
        "\n",
        "    app.launch(debug=True)"
      ],
      "metadata": {
        "colab": {
          "base_uri": "https://localhost:8080/",
          "height": 646
        },
        "id": "Ajvbr36-u1Hb",
        "outputId": "a61b1abb-39ab-44a1-80fa-fbdba2ecf73b"
      },
      "execution_count": null,
      "outputs": [
        {
          "output_type": "stream",
          "name": "stdout",
          "text": [
            "Running Gradio in a Colab notebook requires sharing enabled. Automatically setting `share=True` (you can turn this off by setting `share=False` in `launch()` explicitly).\n",
            "\n",
            "Colab notebook detected. This cell will run indefinitely so that you can see errors and logs. To turn off, set debug=False in launch().\n",
            "* Running on public URL: https://b030e20aa0f21b4b60.gradio.live\n",
            "\n",
            "This share link expires in 72 hours. For free permanent hosting and GPU upgrades, run `gradio deploy` from the terminal in the working directory to deploy to Hugging Face Spaces (https://huggingface.co/spaces)\n"
          ]
        },
        {
          "output_type": "display_data",
          "data": {
            "text/plain": [
              "<IPython.core.display.HTML object>"
            ],
            "text/html": [
              "<div><iframe src=\"https://b030e20aa0f21b4b60.gradio.live\" width=\"100%\" height=\"500\" allow=\"autoplay; camera; microphone; clipboard-read; clipboard-write;\" frameborder=\"0\" allowfullscreen></iframe></div>"
            ]
          },
          "metadata": {}
        }
      ]
    }
  ]
}